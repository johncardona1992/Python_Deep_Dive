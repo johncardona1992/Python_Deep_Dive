{
 "metadata": {
  "language_info": {
   "codemirror_mode": {
    "name": "ipython",
    "version": 3
   },
   "file_extension": ".py",
   "mimetype": "text/x-python",
   "name": "python",
   "nbconvert_exporter": "python",
   "pygments_lexer": "ipython3",
   "version": "3.7.8"
  },
  "orig_nbformat": 2,
  "kernelspec": {
   "name": "python378jvsc74a57bd057ab78e5cbccfb7d81052ee73eb1fa5d31916b2ddf92535c2cf1f81bb2af6d2a",
   "display_name": "Python 3.7.8 64-bit ('computerscience': conda)"
  }
 },
 "nbformat": 4,
 "nbformat_minor": 2,
 "cells": [
  {
   "source": [
    "# single inheritance"
   ],
   "cell_type": "markdown",
   "metadata": {}
  },
  {
   "cell_type": "code",
   "execution_count": 11,
   "metadata": {},
   "outputs": [
    {
     "output_type": "stream",
     "name": "stdout",
     "text": [
      "True\nTrue\nFalse\nTrue\nTrue\nTrue\nFalse\n<class '__main__.Shape'>\n<class '__main__.Circle'>\n"
     ]
    }
   ],
   "source": [
    "class Shape:\n",
    "    pass\n",
    "class Ellipse(Shape):\n",
    "    pass\n",
    "class Circle(Ellipse):\n",
    "    pass\n",
    "class Polygon(Shape):\n",
    "    pass\n",
    "class Rectangle(Polygon):\n",
    "    pass\n",
    "class Square(Rectangle):\n",
    "    pass\n",
    "\n",
    "print(issubclass(Ellipse,Shape))\n",
    "print(issubclass(Circle,Shape))\n",
    "print(issubclass(Polygon,Ellipse))\n",
    "\n",
    "s = Shape()\n",
    "c = Circle()\n",
    "sq = Square()\n",
    "\n",
    "print(isinstance(s,Shape))\n",
    "print(isinstance(c,Shape))\n",
    "print(isinstance(sq,Shape))\n",
    "print(isinstance(sq,Circle))\n",
    "print(type(s))\n",
    "print(type(c))"
   ]
  },
  {
   "source": [
    "# The object Class\n",
    "* object is a class (even it does not use camel case)\n",
    "* Every class in python is subclass of object"
   ],
   "cell_type": "markdown",
   "metadata": {}
  },
  {
   "cell_type": "code",
   "execution_count": 18,
   "metadata": {},
   "outputs": [
    {
     "output_type": "stream",
     "name": "stdout",
     "text": [
      "<class 'type'>\nTrue\n['__class__', '__delattr__', '__dir__', '__doc__', '__eq__', '__format__', '__ge__', '__getattribute__', '__gt__', '__hash__', '__init__', '__init_subclass__', '__le__', '__lt__', '__ne__', '__new__', '__reduce__', '__reduce_ex__', '__repr__', '__setattr__', '__sizeof__', '__str__', '__subclasshook__']\n"
     ]
    }
   ],
   "source": [
    "class Person:\n",
    "    pass\n",
    "\n",
    "print(type(object))\n",
    "print(issubclass(Person,object))\n",
    "print(dir(object))\n"
   ]
  },
  {
   "source": [
    "# Overriding\n",
    "* is possible to override any method in the line of hierarchy including those defined in object."
   ],
   "cell_type": "markdown",
   "metadata": {}
  },
  {
   "cell_type": "code",
   "execution_count": 24,
   "metadata": {},
   "outputs": [
    {
     "output_type": "stream",
     "name": "stdout",
     "text": [
      "Polygon.info called for Polygon(square)\n('Shape.extended_info called for Shape(square)', 'Polygon.info called for Polygon(square)')\n"
     ]
    }
   ],
   "source": [
    "class Shape:\n",
    "    def __init__(self,name):\n",
    "        self.name = name\n",
    "    def info(self):\n",
    "        return f'Shape.info called for Shape({self.name})'\n",
    "    def extended_info(self):\n",
    "        return f'Shape.extended_info called for Shape({self.name})',self.info()\n",
    "\n",
    "class Polygon(Shape):\n",
    "    def __init__(self,name):\n",
    "        self.name = name\n",
    "    def info(self):\n",
    "        return f'Polygon.info called for Polygon({self.name})'\n",
    "\n",
    "p = Polygon('square')\n",
    "print(p.info())\n",
    "print(p.extended_info())\n"
   ]
  },
  {
   "source": [
    "# Extending\n",
    "* extra functionality that Base class does not have."
   ],
   "cell_type": "markdown",
   "metadata": {}
  },
  {
   "cell_type": "code",
   "execution_count": 27,
   "metadata": {},
   "outputs": [
    {
     "output_type": "execute_result",
     "data": {
      "text/plain": [
       "'Person eats...Student studies...Person sleeps...'"
      ]
     },
     "metadata": {},
     "execution_count": 27
    }
   ],
   "source": [
    "class Person:\n",
    "    def routine(self):\n",
    "        return self.eat() + self.study() +self.sleep()\n",
    "    def eat(self):\n",
    "        return 'Person eats...'\n",
    "    def sleep(self):\n",
    "        return 'Person sleeps...'\n",
    "\n",
    "class Student(Person):\n",
    "    def study(self):\n",
    "        return 'Student studies...'\n",
    "        \n",
    "s = Student()\n",
    "s.routine()"
   ]
  },
  {
   "source": [
    "# delegating to Parent"
   ],
   "cell_type": "markdown",
   "metadata": {}
  },
  {
   "cell_type": "code",
   "execution_count": 34,
   "metadata": {},
   "outputs": [
    {
     "output_type": "stream",
     "name": "stdout",
     "text": [
      "Person sleeps... and dreams with math.\nMathematitian(name=john, age=29, univerity=javeriana, speciality=machine intelligence)\n"
     ]
    }
   ],
   "source": [
    "class Person:\n",
    "    def __init__(self,name,age):\n",
    "        self.name = name\n",
    "        self.age = age\n",
    "    def routine(self):\n",
    "        return self.eat() + self.study() +self.sleep()\n",
    "    def eat(self):\n",
    "        return 'Person eats...'\n",
    "    def sleep(self):\n",
    "        return 'Person sleeps...'\n",
    "\n",
    "class Student(Person):\n",
    "    def __init__(self,name,age,university):\n",
    "        super().__init__(name,age)\n",
    "        self.university = university\n",
    "\n",
    "    def study(self):\n",
    "        return 'Student studies...'\n",
    "\n",
    "class mathematitian(Student):\n",
    "    def __init__(self,name,age,university,speciality):\n",
    "        super().__init__(name,age,university)\n",
    "        self.speciality = speciality\n",
    "    def __repr__(self):\n",
    "        return f'Mathematitian(name={self.name}, age={self.age}, univerity={self.university}, speciality={self.speciality})'\n",
    "    def sleep(self):\n",
    "        return super().sleep() + ' and dreams with math.'\n",
    "\n",
    "p = Person('juan',23)\n",
    "s= Student('Andres',23,'javeriana')\n",
    "m= mathematitian('john',29,'javeriana','machine intelligence')\n",
    "print(m.sleep())\n",
    "print(m)"
   ]
  },
  {
   "source": [
    "# slots\n",
    "* a more compact data structure to store attribute values\n",
    "* faster operations\n",
    "* more memory overhead\n",
    "* cannot add attriutes that are not defined in slots\n",
    "* can cause difficulties in multiple inheritance\n",
    "* use it when you need to create thousends of instances of an object."
   ],
   "cell_type": "markdown",
   "metadata": {}
  },
  {
   "cell_type": "code",
   "execution_count": 35,
   "metadata": {},
   "outputs": [
    {
     "output_type": "stream",
     "name": "stdout",
     "text": [
      "<__main__.Location object at 0x000001F4E650CC08>\n"
     ]
    }
   ],
   "source": [
    "class Location:\n",
    "    __slots__ = 'name', '_longitude', '_latitude'\n",
    "\n",
    "    def __init__(self,name,*,longitude,latitude):\n",
    "        self.name = name\n",
    "        self._longitude = longitude\n",
    "        self._latitude = latitude\n",
    "    @property\n",
    "    def longitude(self):\n",
    "        return self._longitude\n",
    "    @property\n",
    "    def latitude(self):\n",
    "        return self._latitude\n",
    "\n",
    "l=Location('john', longitude=10.00, latitude=72.23)\n",
    "print(l)\n",
    "print('once you create an instance you are not able to see __dict__')"
   ]
  },
  {
   "source": [
    "# slots and single inheritance"
   ],
   "cell_type": "markdown",
   "metadata": {}
  },
  {
   "cell_type": "code",
   "execution_count": 39,
   "metadata": {},
   "outputs": [
    {
     "output_type": "stream",
     "name": "stdout",
     "text": [
      "john math 007\n"
     ]
    }
   ],
   "source": [
    "class Person:\n",
    "    __slots__ = 'name'\n",
    "    def __init__(self,name):\n",
    "        self.name = name\n",
    "    \n",
    "class Student(Person):\n",
    "    __slots__ = 'school', 'student_number'\n",
    "    def __init__(self,name,school,student_number):\n",
    "        super().__init__(name)\n",
    "        self.school = school\n",
    "        self.student_number = student_number\n",
    "\n",
    "s = Student('john', 'math', '007')\n",
    "print(s.name, s.school, s.student_number)"
   ]
  }
 ]
}