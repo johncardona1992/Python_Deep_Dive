{
 "metadata": {
  "language_info": {
   "codemirror_mode": {
    "name": "ipython",
    "version": 3
   },
   "file_extension": ".py",
   "mimetype": "text/x-python",
   "name": "python",
   "nbconvert_exporter": "python",
   "pygments_lexer": "ipython3",
   "version": "3.7.8"
  },
  "orig_nbformat": 2,
  "kernelspec": {
   "name": "python378jvsc74a57bd057ab78e5cbccfb7d81052ee73eb1fa5d31916b2ddf92535c2cf1f81bb2af6d2a",
   "display_name": "Python 3.7.8 64-bit ('computerscience': conda)"
  }
 },
 "nbformat": 4,
 "nbformat_minor": 2,
 "cells": [
  {
   "cell_type": "code",
   "execution_count": null,
   "metadata": {},
   "outputs": [],
   "source": []
  },
  {
   "source": [
    "# Polymorphism and special methods"
   ],
   "cell_type": "markdown",
   "metadata": {}
  },
  {
   "source": [
    "## __str__ vs __repr__\n",
    "* both used to creating a string representation of an object \n",
    "* __repr__: used by developers to understand how the object was builtç\n",
    "* __str__: used for display purposes to end user, logging, etc."
   ],
   "cell_type": "markdown",
   "metadata": {}
  },
  {
   "cell_type": "code",
   "execution_count": 9,
   "metadata": {},
   "outputs": [
    {
     "output_type": "stream",
     "name": "stdout",
     "text": [
      "__str__ called\njohn\n__str__ called\njohn\n__repr__ called\nPerson(name='john', age=29)\n"
     ]
    }
   ],
   "source": [
    "class Person:\n",
    "    def __init__(self,name,age):\n",
    "        self.name = name\n",
    "        self.age = age\n",
    "    def __repr__(self):\n",
    "        print('__repr__ called')\n",
    "        return f\"Person(name='{self.name}', age={self.age})\"\n",
    "    def __str__(self):\n",
    "        print('__str__ called')\n",
    "        return self.name\n",
    "\n",
    "p = Person('john',29)\n",
    "print(p)\n",
    "print(str(p))\n",
    "print(repr(p))\n"
   ]
  },
  {
   "source": [
    "# arithmetic operators"
   ],
   "cell_type": "markdown",
   "metadata": {}
  },
  {
   "cell_type": "code",
   "execution_count": 20,
   "metadata": {},
   "outputs": [
    {
     "output_type": "stream",
     "name": "stdout",
     "text": [
      "2 4\nvector((1, 2))\nvector((10, 20, 30, 40))\nvector((1, 2))\nvector((11, 22, 33, 44))\nvector((12, 24, 36, 48))\n"
     ]
    }
   ],
   "source": [
    "from numbers import Real\n",
    "class Vector:\n",
    "    def __init__(self, *components):\n",
    "        if len(components) < 1:\n",
    "            raise ValueError('Cannot create an empty Vector')\n",
    "        for component in components:\n",
    "            if not isinstance(component, Real):\n",
    "                raise ValueError(f'Vector components must all be real numbers. {component} is invalid')\n",
    "        self._components = tuple(components)\n",
    "    \n",
    "    def __len__(self):\n",
    "        return len(self._components)\n",
    "    \n",
    "    @property\n",
    "    def components(self):\n",
    "        return self._components\n",
    "    \n",
    "    def __repr__(self):\n",
    "        return f'vector({self._components})'\n",
    "    \n",
    "\n",
    "    def __add__(self,other):\n",
    "        if not (isinstance(other,Vector) and len(other)==len(self)):\n",
    "            return NotImplemented\n",
    "        components = (x+y for x,y in zip(self._components,other._components))\n",
    "        return Vector(*components)\n",
    "\n",
    "    def __sub__(self,other):\n",
    "        if not (isinstance(other,Vector) and len(other)==len(self)):\n",
    "            return NotImplemented\n",
    "        components = (x-y for x,y in zip(self._components,other._components))\n",
    "        return Vector(*components)\n",
    "    def __iadd__(self,other):\n",
    "        return self + other\n",
    "\n",
    "v1 = Vector(1,2)\n",
    "v2 = Vector(10,20,30,40)\n",
    "v3 = Vector(1,2,3,4)\n",
    "print(len(v1), len(v2))\n",
    "print(v1)\n",
    "print(v2)\n",
    "print(str(v1))\n",
    "\n",
    "print(v2+v3)\n",
    "v2+=v3\n",
    "v2+=v3\n",
    "print(v2)"
   ]
  },
  {
   "source": [
    "# Rich Comparisons"
   ],
   "cell_type": "markdown",
   "metadata": {}
  },
  {
   "cell_type": "code",
   "execution_count": 9,
   "metadata": {},
   "outputs": [
    {
     "output_type": "stream",
     "name": "stdout",
     "text": [
      "True\nTrue\nTrue\nTrue\nFalse\n"
     ]
    }
   ],
   "source": [
    "from math import sqrt\n",
    "class Vector:\n",
    "    def __init__(self,x,y):\n",
    "        self.x = x\n",
    "        self.y = y\n",
    "    def __repr__(self):\n",
    "        return f'Vector(x={self.x}, y={self.y})'\n",
    "    def __eq__(self,other):\n",
    "        if isinstance(other,tuple):\n",
    "            other = Vector(*other)\n",
    "        if isinstance(other,Vector):\n",
    "            return self.x == other.x and self.y == other.y\n",
    "        return NotImplemented\n",
    "    def __abs__(self):\n",
    "        return sqrt(self.x**2 + self.y**2)\n",
    "        \n",
    "    def __lt__(self,other):\n",
    "        if isinstance(other,tuple):\n",
    "            other = Vector(*other)\n",
    "        if isinstance(other,Vector):\n",
    "            return abs(self) < abs(other)\n",
    "        return NotImplemented\n",
    "    def __le__(self,other):\n",
    "        return self == other or self < other\n",
    "v1 = Vector(1,1)\n",
    "v2 = Vector(1,1)\n",
    "v3 = Vector(2,2)\n",
    "print(v1==v2)\n",
    "print(v1<v3)\n",
    "print(v1<=v2)\n",
    "print(v2>=v1)\n",
    "print(v1!=v2)"
   ]
  },
  {
   "source": [
    "# Hashing and equality\n",
    "* implement hash method so objects must be hashable and can be used in Dictionaries"
   ],
   "cell_type": "markdown",
   "metadata": {}
  },
  {
   "cell_type": "code",
   "execution_count": 4,
   "metadata": {},
   "outputs": [
    {
     "output_type": "stream",
     "name": "stdout",
     "text": [
      "-2602684189679325468 -2602684189679325468\nTrue\n{Person(name='john')': 'john CG'}\n"
     ]
    }
   ],
   "source": [
    "class Person:\n",
    "    def __init__(self,name):\n",
    "        self._name = name\n",
    "    @property\n",
    "    def name(self):\n",
    "        return self._name\n",
    "    @name.setter\n",
    "    def name(self,value):\n",
    "        self._name = value\n",
    "\n",
    "    def __eq__(self,other):\n",
    "        return isinstance(other,Person) and self.name == other.name\n",
    "    def __hash__(self):\n",
    "        return hash(self.name)\n",
    "    def __repr__(self):\n",
    "        return f\"Person(name='{self.name}')'\"\n",
    "p1 = Person('john')\n",
    "p2 = Person('john')\n",
    "d = {p1:'john CG'}\n",
    "\n",
    "print(hash(p1),hash(p2))\n",
    "print(p1==p2)\n",
    "print(d)\n"
   ]
  },
  {
   "source": [
    "# Booleans"
   ],
   "cell_type": "markdown",
   "metadata": {}
  },
  {
   "cell_type": "code",
   "execution_count": 9,
   "metadata": {},
   "outputs": [
    {
     "output_type": "stream",
     "name": "stdout",
     "text": [
      "__bool__ called\nFalse\n__bool__ called\nTrue\n"
     ]
    }
   ],
   "source": [
    "class MyList:\n",
    "    def __init__(self, length):\n",
    "        self._length = length\n",
    "    def __len__(self):\n",
    "        print('__len__ called')\n",
    "        return self._length\n",
    "    def __bool__(self):\n",
    "        print('__bool__ called')\n",
    "        return self._length > 0\n",
    "l1 = MyList(0)\n",
    "l2 = MyList(10)\n",
    "\n",
    "print(bool(l1))\n",
    "print(bool(l2))"
   ]
  },
  {
   "source": [
    "# Callables"
   ],
   "cell_type": "markdown",
   "metadata": {}
  },
  {
   "cell_type": "code",
   "execution_count": 12,
   "metadata": {},
   "outputs": [
    {
     "output_type": "stream",
     "name": "stdout",
     "text": [
      "__call__ called...\n"
     ]
    }
   ],
   "source": [
    "class Person:\n",
    "    def __call__(self):\n",
    "        print('__call__ called...')\n",
    "\n",
    "p = Person()\n",
    "p()\n"
   ]
  },
  {
   "source": [
    "# the __del__ method\n",
    "* is not a Destroctor, instead the garbage colletor is the one in charge of destroying objects\n",
    "* is hard to determnine when is going to be called"
   ],
   "cell_type": "markdown",
   "metadata": {}
  },
  {
   "cell_type": "code",
   "execution_count": 15,
   "metadata": {},
   "outputs": [
    {
     "output_type": "stream",
     "name": "stdout",
     "text": [
      "__del__ called for Person(name='john')'...\n"
     ]
    }
   ],
   "source": [
    "import ctypes\n",
    "\n",
    "def ref_count(address):\n",
    "    return ctypes.c_long.from_address(address).value\n",
    "\n",
    "class Person:\n",
    "    def __init__(self,name):\n",
    "        self._name = name\n",
    "\n",
    "    def __repr__(self):\n",
    "        return f\"Person(name='{self._name}')'\"\n",
    "    def __del__(self):\n",
    "        print(f'__del__ called for {self}...')\n",
    "\n",
    "p = Person('john')\n",
    "p = None"
   ]
  },
  {
   "source": [
    "# the __format__ method"
   ],
   "cell_type": "markdown",
   "metadata": {}
  },
  {
   "cell_type": "code",
   "execution_count": null,
   "metadata": {},
   "outputs": [],
   "source": []
  },
  {
   "cell_type": "code",
   "execution_count": 25,
   "metadata": {},
   "outputs": [
    {
     "output_type": "stream",
     "name": "stdout",
     "text": [
      "__str__ called...\nPerson(name=Alex)\n__repr__ called...\nPerson(name='Alex', dob=1992-10-20)\n__format__ called with spec=...\nPerson(name=Alex, dob=October 20, 1992\n"
     ]
    }
   ],
   "source": [
    "from datetime import datetime,date\n",
    "\n",
    "class Persona:\n",
    "    def __init__(self,name,dob):\n",
    "        self.name = name\n",
    "        self.dob = dob\n",
    "    def __repr__(self):\n",
    "        print('__repr__ called...')\n",
    "        return f\"Person(name='{self.name}', dob={self.dob.isoformat()})\"\n",
    "\n",
    "    def __str__(self):\n",
    "        print('__str__ called...')\n",
    "        return f'Person(name={self.name})'\n",
    "\n",
    "    def __format__(self, date_format_spec):\n",
    "        print('__format__ called with spec=...')\n",
    "        dob = format(self.dob, date_format_spec)\n",
    "        return f'Person(name={self.name}, dob={dob}'\n",
    "\n",
    "p = Persona('Alex', date(1992,10,20))\n",
    "print(str(p))\n",
    "print(repr(p))\n",
    "print(format(p, '%B %d, %Y'))"
   ]
  }
 ]
}