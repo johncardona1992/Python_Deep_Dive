{
 "metadata": {
  "language_info": {
   "codemirror_mode": {
    "name": "ipython",
    "version": 3
   },
   "file_extension": ".py",
   "mimetype": "text/x-python",
   "name": "python",
   "nbconvert_exporter": "python",
   "pygments_lexer": "ipython3",
   "version": "3.7.8"
  },
  "orig_nbformat": 2,
  "kernelspec": {
   "name": "python378jvsc74a57bd057ab78e5cbccfb7d81052ee73eb1fa5d31916b2ddf92535c2cf1f81bb2af6d2a",
   "display_name": "Python 3.7.8 64-bit ('computerscience': conda)"
  }
 },
 "nbformat": 4,
 "nbformat_minor": 2,
 "cells": [
  {
   "source": [
    "# Enumerations\n",
    "* are Hashable\n",
    "* are callable\n",
    "* are iterable"
   ],
   "cell_type": "markdown",
   "metadata": {}
  },
  {
   "cell_type": "code",
   "execution_count": 8,
   "metadata": {},
   "outputs": [
    {
     "output_type": "stream",
     "name": "stdout",
     "text": [
      "<enum 'Status'>\nTrue\nPENDING\npending\n"
     ]
    }
   ],
   "source": [
    "import enum\n",
    "class Color(enum.Enum):\n",
    "    red = 1\n",
    "    green = 2\n",
    "    blue = 3\n",
    "\n",
    "class Status(enum.Enum):\n",
    "    PENDING = 'pending'\n",
    "    RUNNING = 'running'\n",
    "    COMPLETED = 'completed'\n",
    "\n",
    "class UniVector(enum.Enum):\n",
    "    V1D = (1,)\n",
    "    V2D = (1,1)\n",
    "    V3D = (1,1,1)\n",
    "\n",
    "print(type(Status.PENDING))\n",
    "print(isinstance(Status.PENDING, Status))\n",
    "print(Status.PENDING.name)\n",
    "print(Status.PENDING.value)\n"
   ]
  },
  {
   "source": [
    "# Aliases"
   ],
   "cell_type": "markdown",
   "metadata": {}
  },
  {
   "cell_type": "code",
   "execution_count": 12,
   "metadata": {},
   "outputs": [
    {
     "output_type": "stream",
     "name": "stdout",
     "text": [
      "True\n[<NumSides.Triangle: 3>, <NumSides.Rectangle: 4>]\n"
     ]
    }
   ],
   "source": [
    "import enum\n",
    "class NumSides(enum.Enum):\n",
    "    Triangle = 3\n",
    "    Rectangle = 4\n",
    "    Square = 4\n",
    "    Rhombus = 4\n",
    "\n",
    "print(NumSides.Rectangle is NumSides.Square)\n",
    "print(list(NumSides))\n"
   ]
  },
  {
   "source": [
    "# Forbid Aliases"
   ],
   "cell_type": "markdown",
   "metadata": {}
  },
  {
   "cell_type": "code",
   "execution_count": 14,
   "metadata": {},
   "outputs": [
    {
     "output_type": "error",
     "ename": "ValueError",
     "evalue": "duplicate values found in <enum 'Status'>: waiting -> ready",
     "traceback": [
      "\u001b[1;31m---------------------------------------------------------------------------\u001b[0m",
      "\u001b[1;31mValueError\u001b[0m                                Traceback (most recent call last)",
      "\u001b[1;32m<ipython-input-14-1f25b03151b0>\u001b[0m in \u001b[0;36m<module>\u001b[1;34m\u001b[0m\n\u001b[0;32m      1\u001b[0m \u001b[1;32mimport\u001b[0m \u001b[0menum\u001b[0m\u001b[1;33m\u001b[0m\u001b[1;33m\u001b[0m\u001b[0m\n\u001b[0;32m      2\u001b[0m \u001b[1;33m@\u001b[0m\u001b[0menum\u001b[0m\u001b[1;33m.\u001b[0m\u001b[0munique\u001b[0m\u001b[1;33m\u001b[0m\u001b[1;33m\u001b[0m\u001b[0m\n\u001b[1;32m----> 3\u001b[1;33m \u001b[1;32mclass\u001b[0m \u001b[0mStatus\u001b[0m\u001b[1;33m(\u001b[0m\u001b[0menum\u001b[0m\u001b[1;33m.\u001b[0m\u001b[0mEnum\u001b[0m\u001b[1;33m)\u001b[0m\u001b[1;33m:\u001b[0m\u001b[1;33m\u001b[0m\u001b[1;33m\u001b[0m\u001b[0m\n\u001b[0m\u001b[0;32m      4\u001b[0m     \u001b[0mready\u001b[0m \u001b[1;33m=\u001b[0m\u001b[1;36m1\u001b[0m\u001b[1;33m\u001b[0m\u001b[1;33m\u001b[0m\u001b[0m\n\u001b[0;32m      5\u001b[0m     \u001b[0mwaiting\u001b[0m \u001b[1;33m=\u001b[0m \u001b[1;36m1\u001b[0m\u001b[1;33m\u001b[0m\u001b[1;33m\u001b[0m\u001b[0m\n",
      "\u001b[1;32mC:\\ProgramData\\Anaconda3\\envs\\computerscience\\lib\\enum.py\u001b[0m in \u001b[0;36munique\u001b[1;34m(enumeration)\u001b[0m\n\u001b[0;32m    872\u001b[0m                 [\"%s -> %s\" % (alias, name) for (alias, name) in duplicates])\n\u001b[0;32m    873\u001b[0m         raise ValueError('duplicate values found in %r: %s' %\n\u001b[1;32m--> 874\u001b[1;33m                 (enumeration, alias_details))\n\u001b[0m\u001b[0;32m    875\u001b[0m     \u001b[1;32mreturn\u001b[0m \u001b[0menumeration\u001b[0m\u001b[1;33m\u001b[0m\u001b[1;33m\u001b[0m\u001b[0m\n\u001b[0;32m    876\u001b[0m \u001b[1;33m\u001b[0m\u001b[0m\n",
      "\u001b[1;31mValueError\u001b[0m: duplicate values found in <enum 'Status'>: waiting -> ready"
     ]
    }
   ],
   "source": [
    "import enum\n",
    "@enum.unique\n",
    "class Status(enum.Enum):\n",
    "    ready =1 \n",
    "    waiting = 1\n",
    "    done_ok=2\n",
    "    errors=3\n",
    "\n"
   ]
  },
  {
   "source": [
    "# Cutomizing Enums"
   ],
   "cell_type": "code",
   "metadata": {},
   "execution_count": null,
   "outputs": []
  },
  {
   "cell_type": "code",
   "execution_count": 18,
   "metadata": {},
   "outputs": [
    {
     "output_type": "stream",
     "name": "stdout",
     "text": [
      "True\nTrue\nTrue\nFalse\n"
     ]
    }
   ],
   "source": [
    "import enum\n",
    "class State(enum.Enum):\n",
    "    READY = 1\n",
    "    BUSY = 0\n",
    "\n",
    "class Custom_State(enum.Enum):\n",
    "    READY = 1\n",
    "    BUSY = 0\n",
    "    def __bool__(self):\n",
    "        return bool(self.value)\n",
    "\n",
    "print(bool(State.READY))\n",
    "print(bool(State.BUSY))\n",
    "print(bool(Custom_State.READY))\n",
    "print(bool(Custom_State.BUSY))"
   ]
  },
  {
   "source": [
    "# Extending Enums"
   ],
   "cell_type": "markdown",
   "metadata": {}
  },
  {
   "cell_type": "code",
   "execution_count": 22,
   "metadata": {},
   "outputs": [
    {
     "output_type": "stream",
     "name": "stdout",
     "text": [
      "True\nTrue\n"
     ]
    }
   ],
   "source": [
    "from enum import Enum\n",
    "from functools import total_ordering\n",
    "\n",
    "@total_ordering\n",
    "class OrderedEnum(Enum):\n",
    "    def __lt__(self,other):\n",
    "        if isinstance(other,OrderedEnum):\n",
    "            return self.value < other.value\n",
    "        return NotImplemented\n",
    "class Number(OrderedEnum):\n",
    "    ONE=1\n",
    "    TWO=2\n",
    "    THREE=3\n",
    "\n",
    "class Dimension(OrderedEnum):\n",
    "    D1=1\n",
    "    D2=1,1\n",
    "    D3=1,1,1\n",
    "\n",
    "print(Number.ONE < Number.THREE)\n",
    "print(Number.ONE >= Number.ONE)\n"
   ]
  },
  {
   "source": [
    "# Automatic Values"
   ],
   "cell_type": "markdown",
   "metadata": {}
  },
  {
   "cell_type": "code",
   "execution_count": 25,
   "metadata": {},
   "outputs": [
    {
     "output_type": "stream",
     "name": "stdout",
     "text": [
      "1\n2\n3\n"
     ]
    }
   ],
   "source": [
    "import enum\n",
    "class Number(enum.Enum):\n",
    "    ONE = enum.auto()\n",
    "    TWO = enum.auto()\n",
    "    THREE = enum.auto()\n",
    "print(Number.ONE.value)\n",
    "print(Number.TWO.value)\n",
    "print(Number.THREE.value)"
   ]
  },
  {
   "source": [
    "## override _generate_next_value"
   ],
   "cell_type": "markdown",
   "metadata": {}
  },
  {
   "cell_type": "code",
   "execution_count": 29,
   "metadata": {},
   "outputs": [
    {
     "output_type": "stream",
     "name": "stdout",
     "text": [
      "a 50\nb 98\nc 54\nd 6\n"
     ]
    }
   ],
   "source": [
    "import enum\n",
    "import random\n",
    "random.seed(0)\n",
    "class State(enum.Enum):\n",
    "    def _generate_next_value_(name,start,count,last_values):\n",
    "        while True:\n",
    "            new_value = random.randint(1,100)\n",
    "            if new_value not in last_values:\n",
    "                return new_value\n",
    "    a = enum.auto()\n",
    "    b = enum.auto()\n",
    "    c = enum.auto()\n",
    "    d = enum.auto()\n",
    "\n",
    "for m in State:\n",
    "    print(m.name, m.value)"
   ]
  }
 ]
}