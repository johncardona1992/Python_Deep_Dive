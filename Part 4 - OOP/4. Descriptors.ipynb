{
 "metadata": {
  "language_info": {
   "codemirror_mode": {
    "name": "ipython",
    "version": 3
   },
   "file_extension": ".py",
   "mimetype": "text/x-python",
   "name": "python",
   "nbconvert_exporter": "python",
   "pygments_lexer": "ipython3",
   "version": "3.7.8"
  },
  "orig_nbformat": 2,
  "kernelspec": {
   "name": "python378jvsc74a57bd057ab78e5cbccfb7d81052ee73eb1fa5d31916b2ddf92535c2cf1f81bb2af6d2a",
   "display_name": "Python 3.7.8 64-bit ('computerscience': conda)"
  }
 },
 "nbformat": 4,
 "nbformat_minor": 2,
 "cells": [
  {
   "source": [
    "# Descriptors\n",
    "* non-data descriptors: only implements __get__\n",
    "* data descriptors: implements __set__ and/or __delete__"
   ],
   "cell_type": "markdown",
   "metadata": {}
  },
  {
   "cell_type": "code",
   "execution_count": 10,
   "metadata": {},
   "outputs": [
    {
     "output_type": "stream",
     "name": "stdout",
     "text": [
      "{'__module__': '__main__', 'current_time': <__main__.TimeUTC object at 0x0000016CC56A0508>, '__dict__': <attribute '__dict__' of 'Logger' objects>, '__weakref__': <attribute '__weakref__' of 'Logger' objects>, '__doc__': None}\n2021-05-14T01:08:10.168455\n2021-05-14T01:08:10.168455\n"
     ]
    }
   ],
   "source": [
    "from datetime import datetime\n",
    "\n",
    "class TimeUTC:\n",
    "    def __get__(self, instance, owner_class):\n",
    "        return datetime.utcnow().isoformat()\n",
    "\n",
    "class Logger:\n",
    "    current_time = TimeUTC()\n",
    "\n",
    "print(Logger.__dict__)\n",
    "l = Logger()\n",
    "print(l.current_time)\n",
    "print(Logger.current_time)"
   ]
  },
  {
   "source": [
    "# Descriptor Protocol: getters and setters\n",
    "* when multiple instances of a Class that uses a Descriptor, "
   ],
   "cell_type": "markdown",
   "metadata": {}
  },
  {
   "cell_type": "code",
   "execution_count": 12,
   "metadata": {},
   "outputs": [
    {
     "output_type": "stream",
     "name": "stdout",
     "text": [
      "__get__ called, self=<__main__.TimeUTC object at 0x000001E87A460508>, instance=None, owner_class=<class '__main__.Logger1'>\n2021-05-14T14:08:33.879060\n__get__ called, self=<__main__.TimeUTC object at 0x000001E87A460488>, instance=None, owner_class=<class '__main__.Logger2'>\n2021-05-14T14:08:33.880071\n\n\n__get__ called, self=<__main__.TimeUTC object at 0x000001E87A460508>, instance=<__main__.Logger1 object at 0x000001E87A460608>, owner_class=<class '__main__.Logger1'>\n2021-05-14T14:08:33.880071\n__get__ called, self=<__main__.TimeUTC object at 0x000001E87A460508>, instance=<__main__.Logger1 object at 0x000001E87A4C8908>, owner_class=<class '__main__.Logger1'>\n2021-05-14T14:08:33.880071\n__get__ called, self=<__main__.TimeUTC object at 0x000001E87A460488>, instance=<__main__.Logger2 object at 0x000001E87A4606C8>, owner_class=<class '__main__.Logger2'>\n2021-05-14T14:08:33.880071\n"
     ]
    }
   ],
   "source": [
    "from datetime import datetime\n",
    "\n",
    "class TimeUTC:\n",
    "    def __get__(self,instance,owner_class):\n",
    "        print(f'__get__ called, self={self}, instance={instance}, owner_class={owner_class}')\n",
    "        return datetime.utcnow().isoformat()\n",
    "\n",
    "class Logger1:\n",
    "    current_time = TimeUTC()\n",
    "\n",
    "class Logger2:\n",
    "    current_time = TimeUTC()\n",
    "\n",
    "# when Descriptor is called from class, the instance is None\n",
    "print(Logger1.current_time)\n",
    "print(Logger2.current_time)\n",
    "print('\\n')\n",
    "l1 = Logger1()\n",
    "l2 = Logger2()\n",
    "v1 = Logger1()\n",
    "# when Descriptor is called from Instance, the instance is the object instance\n",
    "print(l1.current_time)\n",
    "print(v1.current_time)\n",
    "print(l2.current_time)\n"
   ]
  },
  {
   "cell_type": "code",
   "execution_count": 15,
   "metadata": {},
   "outputs": [
    {
     "output_type": "stream",
     "name": "stdout",
     "text": [
      "<__main__.TimeUTC object at 0x000001E87A3AF148>\n\n\n2021-05-14T14:14:08.684401\n"
     ]
    }
   ],
   "source": [
    "from datetime import datetime\n",
    "\n",
    "class TimeUTC:\n",
    "    def __get__(self,instance,owner_class):\n",
    "        if instance is None:\n",
    "            return  self\n",
    "        else:    \n",
    "            return datetime.utcnow().isoformat()\n",
    "\n",
    "class Logger1:\n",
    "    current_time = TimeUTC()\n",
    "\n",
    "class Logger2:\n",
    "    current_time = TimeUTC()\n",
    "\n",
    "print(Logger1.current_time)\n",
    "l1 = Logger1()\n",
    "print('\\n')\n",
    "print(l1.current_time)"
   ]
  },
  {
   "cell_type": "code",
   "execution_count": 25,
   "metadata": {},
   "outputs": [
    {
     "output_type": "stream",
     "name": "stdout",
     "text": [
      "__get__ called from class\n<__main__.IntegerValue object at 0x000001E87AF84E88>\n__set__ called, instance=<__main__.Point2D object at 0x000001E87AF84508>, value=1.1\n__set__ called, instance=<__main__.Point2D object at 0x000001E87AF84508>, value=2.2\n__set__ called, instance=<__main__.Point2D object at 0x000001E87AF84FC8>, value=10\n10\n10\n"
     ]
    }
   ],
   "source": [
    "class IntegerValue:\n",
    "    def __set__(self,instance,value):\n",
    "        print(f'__set__ called, instance={instance}, value={value}')\n",
    "        self._value = value\n",
    "\n",
    "    def __get__(self,instance,owner_class):\n",
    "        if instance is None:\n",
    "            print('__get__ called from class')\n",
    "            return self\n",
    "        else:\n",
    "            return self._value\n",
    "\n",
    "class Point2D:\n",
    "    x = IntegerValue()\n",
    "    y = IntegerValue()\n",
    "\n",
    "print(Point2D.x)\n",
    "p1 = Point2D()\n",
    "p1.x = 1.1\n",
    "p1.y = 2.2\n",
    "\n",
    "p2 = Point2D()\n",
    "p2.x = 10\n",
    "print(p2.x)\n",
    "print(p1.x)"
   ]
  },
  {
   "source": [
    "# Using as Instance Properties\n",
    "* watch out for memory leaks!"
   ],
   "cell_type": "markdown",
   "metadata": {}
  },
  {
   "cell_type": "code",
   "execution_count": 27,
   "metadata": {},
   "outputs": [
    {
     "output_type": "stream",
     "name": "stdout",
     "text": [
      "10 20\n20 20\n"
     ]
    }
   ],
   "source": [
    "class IntegerValue:\n",
    "    def __set__(self,instance,value):\n",
    "        instance.stored_value = int(value)\n",
    "\n",
    "    def __get__(self,instance,owner_class):\n",
    "        if instance is None:\n",
    "            return self\n",
    "        return getattr(instance,'stored_value',None)\n",
    "\n",
    "class Point1D:\n",
    "    x = IntegerValue()\n",
    "\n",
    "class Point2D:\n",
    "    x = IntegerValue()\n",
    "    y = IntegerValue()\n",
    "\n",
    "p1 = Point1D()\n",
    "p2 = Point1D()\n",
    "p3 = Point2D()\n",
    "\n",
    "p1.x = 10.1\n",
    "p2.x = 20.2\n",
    "print(p1.x,p2.x)\n",
    "\n",
    "p3.x = 10\n",
    "p3.y = 20\n",
    "print(p3.x,p3.y)"
   ]
  },
  {
   "cell_type": "code",
   "execution_count": 30,
   "metadata": {},
   "outputs": [
    {
     "output_type": "stream",
     "name": "stdout",
     "text": [
      "{'_x': 10.1, '_y': 20.2}\n{'stored_value': 23, 'y': 32}\n"
     ]
    }
   ],
   "source": [
    "class IntegerValue:\n",
    "    def __init__(self,name):\n",
    "        self.stored_name = '_' + name\n",
    "\n",
    "    def __set__(self,instance,value):\n",
    "        setattr(instance,self.stored_name,value)\n",
    "\n",
    "    def __get__(self,instance,owner_class):\n",
    "        if instance is None:\n",
    "            return self\n",
    "        return getattr(instance,self.storage_name,None)\n",
    "\n",
    "\n",
    "class Point2D:\n",
    "    x = IntegerValue('x')\n",
    "    y = IntegerValue('y')\n",
    "\n",
    "p1 = Point2D()\n",
    "p1.x = 10.1\n",
    "p1.y = 20.2\n",
    "p2.x = 23\n",
    "p2.y = 32\n",
    "print(p1.__dict__)\n",
    "print(p2.__dict__)"
   ]
  },
  {
   "source": [
    "# strong and weak references\n",
    "* weeak reference are use to prevent memory Leak"
   ],
   "cell_type": "markdown",
   "metadata": {}
  },
  {
   "cell_type": "code",
   "execution_count": 52,
   "metadata": {},
   "outputs": [
    {
     "output_type": "stream",
     "name": "stdout",
     "text": [
      "True 0x1e87ae88648 0x1e87ae88648\n2098006099528\n2\n"
     ]
    }
   ],
   "source": [
    "import ctypes\n",
    "\n",
    "# garbage collection\n",
    "def ref_count(address):\n",
    "    return ctypes.c_long.from_address(address).value\n",
    "\n",
    "class Person:\n",
    "    def __init__(self,name):\n",
    "        self.name = name\n",
    "    def __repr__(self):\n",
    "        return f'Person(name={self.name})'\n",
    "\n",
    "p1 = Person('john')\n",
    "p2 = p1\n",
    "\n",
    "print(p1 is p2, hex(id(p1)), hex(id(p2)))\n",
    "p1_id = id(p1)\n",
    "print(p1_id)\n",
    "print(ref_count(p1_id))\n",
    "del p1"
   ]
  },
  {
   "cell_type": "code",
   "execution_count": 63,
   "metadata": {},
   "outputs": [
    {
     "output_type": "stream",
     "name": "stdout",
     "text": [
      "2\nFalse\nTrue\nthis is the correct way: Person(name=john)\n2\n1\ngarbage colletor works: <weakref at 0x000001E8795B8B88; dead>\nNone\n"
     ]
    }
   ],
   "source": [
    "import weakref\n",
    "\n",
    "def ref_count(address):\n",
    "    return ctypes.c_long.from_address(address).value\n",
    "\n",
    "class Person:\n",
    "    def __init__(self,name):\n",
    "        self.name = name\n",
    "    def __repr__(self):\n",
    "        return f'Person(name={self.name})'\n",
    "\n",
    "p1 = Person('john')\n",
    "p2 = p1\n",
    "print(ref_count(id(p1)))\n",
    "weak1 = weakref.ref(p1)\n",
    "print(weak1 is p1)\n",
    "print(weak1() is p1)\n",
    "# never execute weak1() or you will create strong references instead us print\n",
    "print(f'this is the correct way: {weak1()}')\n",
    "print(ref_count(id(p1)))\n",
    "del p2\n",
    "print(ref_count(id(p1)))\n",
    "del p1\n",
    "print(f'garbage colletor works: {weak1}')\n",
    "result = weak1()\n",
    "print(result)"
   ]
  },
  {
   "source": [
    "* not many types support weak references"
   ],
   "cell_type": "markdown",
   "metadata": {}
  },
  {
   "cell_type": "code",
   "execution_count": 65,
   "metadata": {},
   "outputs": [
    {
     "output_type": "stream",
     "name": "stdout",
     "text": [
      "cannot create weak reference to 'str' object\n"
     ]
    }
   ],
   "source": [
    "import weakref\n",
    "l = 'python'\n",
    "try:\n",
    "    w = weakref.ref(l)\n",
    "except TypeError as ex:\n",
    "    print(ex)"
   ]
  },
  {
   "cell_type": "code",
   "execution_count": 77,
   "metadata": {},
   "outputs": [
    {
     "output_type": "stream",
     "name": "stdout",
     "text": [
      "1\n2\n1\n1\nthis is the number of strong references: 1\nthis is the number of weak references: 2\n[<weakref at 0x000001E87C61BEA8; to 'Person' at 0x000001E87C775888>]\n[]\n"
     ]
    }
   ],
   "source": [
    "import weakref\n",
    "\n",
    "def ref_count(address):\n",
    "    return ctypes.c_long.from_address(address).value\n",
    "\n",
    "class Person:\n",
    "    def __init__(self,name):\n",
    "        self.name = name\n",
    "    def __repr__(self):\n",
    "        return f'Person(name={self.name})'\n",
    "\n",
    "p1 = Person('john')\n",
    "d = weakref.WeakKeyDictionary()\n",
    "print(ref_count(id(p1)))\n",
    "n = {p1:'john'}\n",
    "print(ref_count(id(p1)))\n",
    "del n\n",
    "print(ref_count(id(p1)))\n",
    "d[p1]='john'\n",
    "print(ref_count(id(p1)))\n",
    "d2 = weakref.WeakKeyDictionary()\n",
    "d2[p1]='john'\n",
    "print(f'this is the number of strong references: {ref_count(id(p1))}')\n",
    "print(f'this is the number of weak references: {weakref.getweakrefcount(p1)}')\n",
    "print(list(d.keyrefs()))\n",
    "del p1\n",
    "print(list(d.keyrefs()))"
   ]
  },
  {
   "source": [
    "# Instance Properties"
   ],
   "cell_type": "markdown",
   "metadata": {}
  },
  {
   "cell_type": "code",
   "execution_count": 83,
   "metadata": {},
   "outputs": [
    {
     "output_type": "stream",
     "name": "stdout",
     "text": [
      "0x1e87c596c08\n100\n[<weakref at 0x000001E879880A98; to 'Point' at 0x000001E87C596C08>]\n[]\n"
     ]
    }
   ],
   "source": [
    "import weakref\n",
    "\n",
    "class IntegerValue:\n",
    "    def __init__(self):\n",
    "        self.values =weakref.WeakKeyDictionary()\n",
    "    def __set__(self,instance,value):\n",
    "        self.values[instance] = int(value)\n",
    "    def __get__(self,instance,owner_class):\n",
    "        if instance is None:\n",
    "            return self\n",
    "        else:\n",
    "            return self.values.get(instance)\n",
    "\n",
    "class Point:\n",
    "    x = IntegerValue()\n",
    "\n",
    "p = Point()\n",
    "print(hex(id(p)))\n",
    "p.x = 100.1\n",
    "print(p.x)\n",
    "print(Point.x.values.keyrefs())\n",
    "del p\n",
    "print(Point.x.values.keyrefs())"
   ]
  },
  {
   "source": [
    "# Descriptors with not hashable classes that has __slots__"
   ],
   "cell_type": "markdown",
   "metadata": {}
  },
  {
   "cell_type": "code",
   "execution_count": 99,
   "metadata": {},
   "outputs": [
    {
     "output_type": "stream",
     "name": "stdout",
     "text": [
      "Value should be at least 1 characters\njohn\ncardona\nAndrea\nMelo\nsavings\nchecking\n{2098007106472: (<weakref at 0x000001E87A597688; to 'Person' at 0x000001E87AF7E3A8>, 'john'), 2098007105608: (<weakref at 0x000001E87A5978B8; to 'Person' at 0x000001E87AF7E048>, 'Andrea')} \n\n{2098007106472: (<weakref at 0x000001E87A597368; to 'Person' at 0x000001E87AF7E3A8>, 'cardona'), 2098007105608: (<weakref at 0x000001E87C6D3548; to 'Person' at 0x000001E87AF7E048>, 'Melo')} \n\n{2097982995096: (<weakref at 0x000001E87C3B00E8; to 'BankAccount' at 0x000001E87987FA98>, 'savings'), 2097982993752: (<weakref at 0x000001E87C3B08B8; to 'BankAccount' at 0x000001E87987F558>, 'checking')} \n\n{}\n"
     ]
    }
   ],
   "source": [
    "import weakref\n",
    "\n",
    "class ValidString:\n",
    "    def __init__(self,min_length=0,max_length=255):\n",
    "        self.data = {}\n",
    "        self._min_length = min_length\n",
    "        self._max_length = max_length\n",
    "    def __set__(self,instance,value):\n",
    "        if not isinstance(value,str):\n",
    "            raise ValueError('Value must be a string')\n",
    "        if len(value) < self._min_length:\n",
    "            raise ValueError(f'Value should be at least {self._min_length} characters')\n",
    "        if len(value) > self._max_length:\n",
    "            raise ValueError(f'Value cannot exceed {self._min_length} characters')\n",
    "        self.data[id(instance)] = (weakref.ref(instance, self._finalize_instance),value)\n",
    "    def __get__(self,instance,owner_class):\n",
    "        if instance is None:\n",
    "            return self\n",
    "        else:\n",
    "            value_tuple = self.data.get(id(instance))\n",
    "            return value_tuple[1]\n",
    "    def _finalize_instance(self,weak_ref):\n",
    "        reverse_lookup = [key for key,value in self.data.items() if value[0] is weak_ref]\n",
    "        if reverse_lookup:\n",
    "            key = reverse_lookup[0]\n",
    "            del self.data[key]\n",
    "\n",
    "class Person:\n",
    "    __slots__ = '__weakref__',\n",
    "    first_name = ValidString(1,100)     \n",
    "    last_name = ValidString(1,100)     \n",
    "    def __eq__(self,other):\n",
    "        return(\n",
    "                isinstance(other,Person) and\n",
    "                self.first_name == other.first_name and\n",
    "                self.last_name == other.last_name\n",
    "            )\n",
    "\n",
    "class BankAccount:\n",
    "    __slots__ = '__weakref__',\n",
    "    account_number = ValidString(5,255)\n",
    "    def __eq__(self,other):\n",
    "        return isinstance(other, BankAccount) and self.account_number == other.account_number\n",
    "\n",
    "p1 = Person()\n",
    "try:\n",
    "    p1.first_name = ''\n",
    "except ValueError as ex:\n",
    "    print(ex)\n",
    "\n",
    "p2 = Person()\n",
    "p1.first_name, p1.last_name = 'john', 'cardona'\n",
    "p2.first_name, p2.last_name = 'Andrea', 'Melo'\n",
    "\n",
    "b1, b2 = BankAccount(), BankAccount() \n",
    "b1.account_number,b2.account_number = 'savings', 'checking'\n",
    "print(p1.first_name)\n",
    "print(p1.last_name)\n",
    "print(p2.first_name)\n",
    "print(p2.last_name)\n",
    "\n",
    "print(b1.account_number)\n",
    "print(b2.account_number)\n",
    "print(Person.first_name.data, '\\n')\n",
    "print(Person.last_name.data, '\\n')\n",
    "print(BankAccount.account_number.data, '\\n')\n",
    "\n",
    "del p1\n",
    "del p2\n",
    "del b1\n",
    "del b2\n",
    "\n",
    "print(Person.first_name.data)\n"
   ]
  },
  {
   "source": [
    "# The __set_name__ method"
   ],
   "cell_type": "markdown",
   "metadata": {}
  },
  {
   "cell_type": "code",
   "execution_count": 7,
   "metadata": {},
   "outputs": [
    {
     "output_type": "stream",
     "name": "stdout",
     "text": [
      "{}\nlast_name must be at least 2 characters.\n{'first_name': 'john', 'last_name': 'Cardona'}\n__get__ called!\njohn\n"
     ]
    }
   ],
   "source": [
    "class ValidString:\n",
    "    def __init__(self, min_length=None):\n",
    "        self.min_length = min_length\n",
    "    \n",
    "    def __set_name__(self,owner_class,property_name):\n",
    "        self.property_name = property_name\n",
    "    \n",
    "    def __set__(self,instance,value):\n",
    "        if not isinstance(value,str):\n",
    "            raise ValueError(f'{self.property_name} must be a String.')\n",
    "        if self.min_length is not None and len(value) < self.min_length:\n",
    "            raise ValueError(\n",
    "                                f'{self.property_name} must be at least {self.min_length} characters.'\n",
    "                            )\n",
    "        instance.__dict__[self.property_name] = value\n",
    "    \n",
    "    def __get__(self,instance,owner_class):\n",
    "        if instance is None:\n",
    "            return self\n",
    "        print('__get__ called!')\n",
    "        return instance.__dict__.get(self.property_name,None)\n",
    "\n",
    "class Person:\n",
    "    first_name = ValidString(1)\n",
    "    last_name = ValidString(2)\n",
    "\n",
    "p = Person()\n",
    "print(p.__dict__)\n",
    "try:\n",
    "    p.first_name = 'john'\n",
    "    p.last_name = 'c'\n",
    "except ValueError as  ex:\n",
    "    print(ex)\n",
    "\n",
    "p.first_name = 'john'\n",
    "p.last_name = 'Cardona'\n",
    "print(p.__dict__)\n",
    "print(p.first_name)\n",
    "\n"
   ]
  },
  {
   "source": [
    "# Property value lookup resolution\n",
    "* Non-Data descriptors: first try to lookup at __dict__ if nothing is found it uses __get__\n",
    "* Data descriptors: always use __get__"
   ],
   "cell_type": "markdown",
   "metadata": {}
  },
  {
   "cell_type": "code",
   "execution_count": 14,
   "metadata": {},
   "outputs": [
    {
     "output_type": "stream",
     "name": "stdout",
     "text": [
      "__get__ called!\nNone\n{} \n\nhello!\n"
     ]
    }
   ],
   "source": [
    "# non-data Descriptor\n",
    "class Non_data_Descriptor:\n",
    "    def __get__(self,instance,owner_class):\n",
    "        print('__get__ called!')\n",
    "class Main:\n",
    "    descriptor = Non_data_Descriptor()\n",
    "\n",
    "d = Main()\n",
    "print(d.descriptor)\n",
    "print(d.__dict__, '\\n')\n",
    "d.__dict__['descriptor'] = 'hello!'\n",
    "print(d.descriptor)\n"
   ]
  },
  {
   "cell_type": "code",
   "execution_count": 23,
   "metadata": {},
   "outputs": [
    {
     "output_type": "stream",
     "name": "stdout",
     "text": [
      "__set__ called!\n__get__ called!\n{'x': 'hello!'}\n__get__ called!\nNone\n"
     ]
    }
   ],
   "source": [
    "# data Descriptor\n",
    "class Data_Descriptor:\n",
    "    def __set__(self,instance,value):\n",
    "        print('__set__ called!')\n",
    "    def __get__(self,instance,owner_class):\n",
    "        print('__get__ called!')\n",
    "\n",
    "class Main:\n",
    "    x = Data_Descriptor()\n",
    "p = Main()\n",
    "p.x = 100\n",
    "p.x\n",
    "p.__dict__\n",
    "p.__dict__['x'] = 'hello!'\n",
    "print(p.__dict__)\n",
    "print(p.x)\n",
    "\n"
   ]
  },
  {
   "source": [
    "# properties and descriptors\n",
    "* property objects are data descriptors"
   ],
   "cell_type": "markdown",
   "metadata": {}
  },
  {
   "cell_type": "code",
   "execution_count": 27,
   "metadata": {},
   "outputs": [
    {
     "output_type": "stream",
     "name": "stdout",
     "text": [
      "age: must be an non-negative integer.\n{'_age': 10}\n"
     ]
    }
   ],
   "source": [
    "# using decorators\n",
    "from numbers import Integral\n",
    "\n",
    "class Person:\n",
    "    @property\n",
    "    def age(self):\n",
    "        return getattr(self,'_age',None)\n",
    "    @age.setter\n",
    "    def age(self, value):\n",
    "        if not isinstance(value, Integral):\n",
    "            raise ValueError('age: must be an integer.')\n",
    "        if value < 0:\n",
    "            raise ValueError('age: must be an non-negative integer.')\n",
    "        self._age = value\n",
    "\n",
    "p = Person()\n",
    "\n",
    "try:\n",
    "    p.age = -10\n",
    "except ValueError as ex:\n",
    "    print(ex)\n",
    "\n",
    "p.age = 10\n",
    "print(p.__dict__)"
   ]
  },
  {
   "cell_type": "code",
   "execution_count": 37,
   "metadata": {},
   "outputs": [
    {
     "output_type": "stream",
     "name": "stdout",
     "text": [
      "True\nTrue\nTrue\n\n\n{'_age': 10}\n{'_age': 10, 'age': 100}\n10\n"
     ]
    }
   ],
   "source": [
    "from numbers import Integral\n",
    "\n",
    "class Person:\n",
    "\n",
    "    def get_age(self):\n",
    "        return getattr(self,'_age',None)\n",
    "\n",
    "    def set_age(self, value):\n",
    "        if not isinstance(value, Integral):\n",
    "            raise ValueError('age: must be an integer.')\n",
    "        if value < 0:\n",
    "            raise ValueError('age: must be an non-negative integer.')\n",
    "        self._age = value\n",
    "    age = property(fget=get_age,fset=set_age)\n",
    "\n",
    "prop = Person.age\n",
    "print(hasattr(prop, '__get__'))\n",
    "print(hasattr(prop, '__set__'))\n",
    "print(hasattr(prop, '__delete__'))\n",
    "print('\\n')\n",
    "p = Person()\n",
    "p.age = 10\n",
    "print(p.__dict__)\n",
    "p.__dict__['age'] = 100\n",
    "print(p.__dict__)\n",
    "print(p.age)"
   ]
  },
  {
   "source": [
    "# Replicate property decorator"
   ],
   "cell_type": "markdown",
   "metadata": {}
  },
  {
   "cell_type": "code",
   "execution_count": 40,
   "metadata": {},
   "outputs": [
    {
     "output_type": "stream",
     "name": "stdout",
     "text": [
      "__set__ called!\nset_name called!\n__get__ called!\nget_name called!\n"
     ]
    },
    {
     "output_type": "execute_result",
     "data": {
      "text/plain": [
       "'john'"
      ]
     },
     "metadata": {},
     "execution_count": 40
    }
   ],
   "source": [
    "class MakeProperty:\n",
    "    def __init__(self,fget=None,fset=None):\n",
    "        self.fget = fget\n",
    "        self.fset = fset\n",
    "\n",
    "    def __set_name__(self,owner_class,prop_name):\n",
    "        self.prop_name = prop_name\n",
    "    \n",
    "    def __get__(self, instance, owner_class):\n",
    "        print('__get__ called!')\n",
    "        if instance is None:\n",
    "            return self\n",
    "        if self.fget is None:\n",
    "            raise AttributeError(f'{self.prop_name} is not readable.')\n",
    "        return self.fget(instance)\n",
    "\n",
    "    def __set__(self, instance, value):\n",
    "        print('__set__ called!')\n",
    "        if self.fset is None:\n",
    "            raise AttributeError(f'{self.prop_name} is not writable.')\n",
    "        self.fset(instance, value)\n",
    "\n",
    "class Person:\n",
    "    def get_name(self):\n",
    "        print('get_name called!')\n",
    "        return getattr(self, '_name', None)\n",
    "    \n",
    "    def set_name(self, value):\n",
    "        print('set_name called!')\n",
    "        self._name = value\n",
    "    \n",
    "    name = MakeProperty(fget=get_name, fset=set_name)\n",
    "\n",
    "p = Person()\n",
    "p.name = 'john'\n",
    "p.name\n"
   ]
  },
  {
   "cell_type": "code",
   "execution_count": 45,
   "metadata": {},
   "outputs": [
    {
     "output_type": "stream",
     "name": "stdout",
     "text": [
      "__set__ called!\n__get__ called!\n10\n{'_age': 10}\n"
     ]
    }
   ],
   "source": [
    "class MakeProperty:\n",
    "    def __init__(self,fget=None,fset=None):\n",
    "        self.fget = fget\n",
    "        self.fset = fset\n",
    "\n",
    "    def __set_name__(self,owner_class,prop_name):\n",
    "        self.prop_name = prop_name\n",
    "    \n",
    "    def __get__(self, instance, owner_class):\n",
    "        print('__get__ called!')\n",
    "        if instance is None:\n",
    "            return self\n",
    "        if self.fget is None:\n",
    "            raise AttributeError(f'{self.prop_name} is not readable.')\n",
    "        return self.fget(instance)\n",
    "\n",
    "    def __set__(self, instance, value):\n",
    "        print('__set__ called!')\n",
    "        if self.fset is None:\n",
    "            raise AttributeError(f'{self.prop_name} is not writable.')\n",
    "        self.fset(instance, value)\n",
    "    \n",
    "    def setter(self, fset):\n",
    "        self.fset = fset\n",
    "        return self\n",
    "\n",
    "class Person:\n",
    "    @MakeProperty\n",
    "    def age(self):\n",
    "        return getattr(self, '_age', None)\n",
    "    @age.setter\n",
    "    def age(self,value):\n",
    "        self._age = value\n",
    "\n",
    "p = Person()\n",
    "p.age = 10\n",
    "print(p.age)\n",
    "print(p.__dict__)"
   ]
  },
  {
   "source": [
    "# Application 1\n",
    "* create a Data descriptor to make a type validation "
   ],
   "cell_type": "markdown",
   "metadata": {}
  },
  {
   "cell_type": "code",
   "execution_count": 48,
   "metadata": {},
   "outputs": [
    {
     "output_type": "stream",
     "name": "stdout",
     "text": [
      "age must be of type int.\n"
     ]
    }
   ],
   "source": [
    "import numbers\n",
    "class ValidType:\n",
    "    def __init__(self,type_):\n",
    "        self._type = type_\n",
    "    def __set_name__(self,owner_class,prop_name):\n",
    "        self.prop_name = prop_name\n",
    "    def __set__(self,instance,value):\n",
    "        if not isinstance(value, self._type):\n",
    "            raise ValueError(f'{self.prop_name} must be of type {self._type.__name__}.')\n",
    "        instance.__dict__[self.prop_name] = value\n",
    "    def __get__(self,instance,owner_class):\n",
    "        if instance is None:\n",
    "            return self\n",
    "        else:\n",
    "            return instance.__dict__.get(self.prop_name,None)\n",
    "\n",
    "class Person:\n",
    "    age = ValidType(int)\n",
    "    height = ValidType(numbers.Real)\n",
    "    tags = ValidType(list)\n",
    "    favorite_food = ValidType(tuple)\n",
    "\n",
    "p = Person()\n",
    "\n",
    "try:\n",
    "    p.age = 10.1\n",
    "except ValueError as ex:\n",
    "    print(ex)\n",
    "\n"
   ]
  }
 ]
}