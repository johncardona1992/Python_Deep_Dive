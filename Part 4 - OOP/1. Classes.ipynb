{
 "metadata": {
  "language_info": {
   "codemirror_mode": {
    "name": "ipython",
    "version": 3
   },
   "file_extension": ".py",
   "mimetype": "text/x-python",
   "name": "python",
   "nbconvert_exporter": "python",
   "pygments_lexer": "ipython3",
   "version": "3.7.8"
  },
  "orig_nbformat": 2,
  "kernelspec": {
   "name": "python378jvsc74a57bd057ab78e5cbccfb7d81052ee73eb1fa5d31916b2ddf92535c2cf1f81bb2af6d2a",
   "display_name": "Python 3.7.8 64-bit ('computerscience': conda)"
  }
 },
 "nbformat": 4,
 "nbformat_minor": 2,
 "cells": [
  {
   "source": [
    "# Classes\n"
   ],
   "cell_type": "markdown",
   "metadata": {}
  },
  {
   "cell_type": "code",
   "execution_count": 4,
   "metadata": {},
   "outputs": [
    {
     "output_type": "stream",
     "name": "stdout",
     "text": [
      "<class '__main__.Person'>\n<class 'type'>\nHelp on class type in module builtins:\n\nclass type(object)\n |  type(object_or_name, bases, dict)\n |  type(object) -> the object's type\n |  type(name, bases, dict) -> a new type\n |  \n |  Methods defined here:\n |  \n |  __call__(self, /, *args, **kwargs)\n |      Call self as a function.\n |  \n |  __delattr__(self, name, /)\n |      Implement delattr(self, name).\n |  \n |  __dir__(self, /)\n |      Specialized __dir__ implementation for types.\n |  \n |  __getattribute__(self, name, /)\n |      Return getattr(self, name).\n |  \n |  __init__(self, /, *args, **kwargs)\n |      Initialize self.  See help(type(self)) for accurate signature.\n |  \n |  __instancecheck__(self, instance, /)\n |      Check if an object is an instance.\n |  \n |  __repr__(self, /)\n |      Return repr(self).\n |  \n |  __setattr__(self, name, value, /)\n |      Implement setattr(self, name, value).\n |  \n |  __sizeof__(self, /)\n |      Return memory consumption of the type object.\n |  \n |  __subclasscheck__(self, subclass, /)\n |      Check if a class is a subclass.\n |  \n |  __subclasses__(self, /)\n |      Return a list of immediate subclasses.\n |  \n |  mro(self, /)\n |      Return a type's method resolution order.\n |  \n |  ----------------------------------------------------------------------\n |  Class methods defined here:\n |  \n |  __prepare__(...)\n |      __prepare__() -> dict\n |      used to create the namespace for the class statement\n |  \n |  ----------------------------------------------------------------------\n |  Static methods defined here:\n |  \n |  __new__(*args, **kwargs)\n |      Create and return a new object.  See help(type) for accurate signature.\n |  \n |  ----------------------------------------------------------------------\n |  Data descriptors defined here:\n |  \n |  __abstractmethods__\n |  \n |  __dict__\n |  \n |  __text_signature__\n |  \n |  ----------------------------------------------------------------------\n |  Data and other attributes defined here:\n |  \n |  __base__ = <class 'object'>\n |      The most base type\n |  \n |  __bases__ = (<class 'object'>,)\n |  \n |  __basicsize__ = 864\n |  \n |  __dictoffset__ = 264\n |  \n |  __flags__ = 2148291584\n |  \n |  __itemsize__ = 40\n |  \n |  __mro__ = (<class 'type'>, <class 'object'>)\n |  \n |  __weakrefoffset__ = 368\n\n"
     ]
    }
   ],
   "source": [
    "class Person:\n",
    "    pass\n",
    "\n",
    "p = Person()\n",
    "\n",
    "print(type(p))\n",
    "print(type(Person))\n",
    "help(type)\n"
   ]
  },
  {
   "source": [
    "# class attributes"
   ],
   "cell_type": "markdown",
   "metadata": {}
  },
  {
   "cell_type": "code",
   "execution_count": 3,
   "metadata": {},
   "outputs": [
    {
     "output_type": "stream",
     "name": "stdout",
     "text": [
      "python\nNA!\nJS\najax\njsx\n\n\n"
     ]
    },
    {
     "output_type": "execute_result",
     "data": {
      "text/plain": [
       "mappingproxy({'__module__': '__main__',\n",
       "              'language': 'JS',\n",
       "              'version': '3.6',\n",
       "              '__dict__': <attribute '__dict__' of 'MyClass' objects>,\n",
       "              '__weakref__': <attribute '__weakref__' of 'MyClass' objects>,\n",
       "              '__doc__': None,\n",
       "              'x': 'ajax'})"
      ]
     },
     "metadata": {},
     "execution_count": 3
    }
   ],
   "source": [
    "class MyClass:\n",
    "    language = 'python'\n",
    "    version = '3.6'\n",
    "\n",
    "print(getattr(MyClass,'language'))\n",
    "print(getattr(MyClass,'x', 'NA!'))\n",
    "setattr(MyClass,'language', 'JS')\n",
    "setattr(MyClass,'x', 'ajax')\n",
    "setattr(MyClass,'y', 'jsx')\n",
    "print(getattr(MyClass,'language'))\n",
    "print(getattr(MyClass,'x'))\n",
    "print(getattr(MyClass,'y'))\n",
    "print('\\n')\n",
    "delattr(MyClass,'y')\n",
    "MyClass.__dict__"
   ]
  },
  {
   "source": [
    "# Callable Attributes"
   ],
   "cell_type": "markdown",
   "metadata": {}
  },
  {
   "cell_type": "code",
   "execution_count": 11,
   "metadata": {},
   "outputs": [
    {
     "output_type": "stream",
     "name": "stdout",
     "text": [
      "hey ya python\n"
     ]
    },
    {
     "output_type": "execute_result",
     "data": {
      "text/plain": [
       "mappingproxy({'__module__': '__main__',\n",
       "              'language': 'python',\n",
       "              'say_hello': <function __main__.Program.say_hello()>,\n",
       "              '__dict__': <attribute '__dict__' of 'Program' objects>,\n",
       "              '__weakref__': <attribute '__weakref__' of 'Program' objects>,\n",
       "              '__doc__': None})"
      ]
     },
     "metadata": {},
     "execution_count": 11
    }
   ],
   "source": [
    "class Program:\n",
    "    language = 'python'\n",
    "    def say_hello():\n",
    "        print(f'hey ya {Program.language}')\n",
    "Program.say_hello()\n",
    "Program.__dict__\n"
   ]
  },
  {
   "source": [
    "# classes are callable"
   ],
   "cell_type": "markdown",
   "metadata": {}
  },
  {
   "cell_type": "code",
   "execution_count": 10,
   "metadata": {},
   "outputs": [
    {
     "output_type": "stream",
     "name": "stdout",
     "text": [
      "<class '__main__.Program'>\nTrue\n"
     ]
    }
   ],
   "source": [
    "class Program:\n",
    "    language = 'python'\n",
    "    def say_hello():\n",
    "        print(f'hello from {Program.language}')\n",
    "\n",
    "p = Program()\n",
    "print(type(p))\n",
    "print(isinstance(p,Program))\n"
   ]
  },
  {
   "source": [
    "# Data Attributes"
   ],
   "cell_type": "markdown",
   "metadata": {}
  },
  {
   "cell_type": "code",
   "execution_count": 13,
   "metadata": {},
   "outputs": [
    {
     "output_type": "execute_result",
     "data": {
      "text/plain": [
       "<bound method My_Class.heya of <__main__.My_Class object at 0x0000021158CF8908>>"
      ]
     },
     "metadata": {},
     "execution_count": 13
    }
   ],
   "source": [
    "class My_Class:\n",
    "    def heya():\n",
    "        print('heya!')\n",
    "m = My_Class()\n",
    "print(getattr(My_Class,'heya'))\n",
    "PRINT(getattr(m,'heya'))\n"
   ]
  },
  {
   "cell_type": "code",
   "execution_count": 31,
   "metadata": {},
   "outputs": [
    {
     "output_type": "stream",
     "name": "stdout",
     "text": [
      "heya! john, Im python\n"
     ]
    }
   ],
   "source": [
    "class My_Class:\n",
    "    language = 'python'\n",
    "    def heya(obj, name):\n",
    "        print(f'heya! {name}, Im {obj.language}')\n",
    "\n",
    "my_object = My_Class()\n",
    "my_object.heya('john')"
   ]
  },
  {
   "source": [
    "# Function Attributes\n",
    "* Method: is an actual object type in python and like a function is callable."
   ],
   "cell_type": "markdown",
   "metadata": {}
  },
  {
   "cell_type": "code",
   "execution_count": 37,
   "metadata": {},
   "outputs": [
    {
     "output_type": "stream",
     "name": "stdout",
     "text": [
      "<class 'method'>\n"
     ]
    }
   ],
   "source": [
    "class My_Class:\n",
    "    language = 'python'\n",
    "    def heya(obj, name):\n",
    "        print(f'heya! {name}, Im {obj.language}')\n",
    "\n",
    "p = My_Class()\n",
    "print(type(p.heya))"
   ]
  },
  {
   "cell_type": "code",
   "execution_count": 41,
   "metadata": {},
   "outputs": [
    {
     "output_type": "stream",
     "name": "stdout",
     "text": [
      "<function Person.say_hello at 0x0000021157D0C4C8> 0x21157d0c4c8\n0x2115917cc08\n<bound method Person.say_hello of <__main__.Person object at 0x000002115917CC08>>\n"
     ]
    }
   ],
   "source": [
    "class Person:\n",
    "    def say_hello(self):\n",
    "        print(f'{self} says hello!')\n",
    "\n",
    "print(Person.say_hello, hex(id(Person.say_hello)))\n",
    "p = Person()\n",
    "print(hex(id(p)))\n",
    "print(p.say_hello)"
   ]
  },
  {
   "source": [
    "# Creating Attributes in run time"
   ],
   "cell_type": "markdown",
   "metadata": {}
  },
  {
   "cell_type": "code",
   "execution_count": 53,
   "metadata": {},
   "outputs": [
    {
     "output_type": "stream",
     "name": "stdout",
     "text": [
      "john says hello!\nCamila says hello!\nNone None\njohn says hello!\nCamila says hello!\nNone None\njohn says hello!\nNone\nCamila got fucked!\n"
     ]
    }
   ],
   "source": [
    "from types import MethodType\n",
    "class Person:\n",
    "    def __init__(self,name):\n",
    "        self.name = name\n",
    "    def say_hello(self):\n",
    "        print(f'{self.name} says hello!')\n",
    "\n",
    "def say_hello(self):\n",
    "    print(f'{self.name} says hello!')\n",
    "    \n",
    "p1 = Person('john')\n",
    "p2 = Person('Camila')\n",
    "print(p1.say_hello(),p2.say_hello())\n",
    "print(say_hello(p1),say_hello(p2))\n",
    "print(getattr(p1, 'say_hello')())\n",
    "\n",
    "# mutating method\n",
    "p1.say_hello = MethodType(lambda self: f'{self.name} got fucked!', p2)\n",
    "print(p1.say_hello())\n"
   ]
  },
  {
   "source": [
    "# properties\n",
    "* there is no private attributes in python, instead we use '_' at the bieginning of the property's name to inform the programmer that this is a private atttr."
   ],
   "cell_type": "markdown",
   "metadata": {}
  },
  {
   "cell_type": "code",
   "execution_count": 9,
   "metadata": {},
   "outputs": [
    {
     "output_type": "stream",
     "name": "stdout",
     "text": [
      "{'_language': 'python'}\njs\n"
     ]
    }
   ],
   "source": [
    "class MyClass:\n",
    "    def __init__(self,language):\n",
    "        self._language = language\n",
    "    def get_language(self):\n",
    "        return self._language\n",
    "    def set_language(self,value):\n",
    "         self._language = value\n",
    "    language = property(fget=get_language, fset=set_language)\n",
    "\n",
    "\n",
    "m = MyClass('python')\n",
    "print(m.__dict__)\n",
    "m.language = 'js'\n",
    "print(m.language)"
   ]
  },
  {
   "source": [
    "# property Decorator\n"
   ],
   "cell_type": "markdown",
   "metadata": {}
  },
  {
   "cell_type": "code",
   "execution_count": 10,
   "metadata": {},
   "outputs": [
    {
     "output_type": "stream",
     "name": "stdout",
     "text": [
      "{'_language': 'python'}\njs\n"
     ]
    }
   ],
   "source": [
    "class MyClass:\n",
    "    def __init__(self,language):\n",
    "        self._language = language\n",
    "    @property    \n",
    "    def language(self):\n",
    "        return self._language\n",
    "    @language.setter\n",
    "    def language(self,value):\n",
    "        self._language = value\n",
    "\n",
    "\n",
    "m = MyClass('python')\n",
    "print(m.__dict__)\n",
    "m.language = 'js'\n",
    "print(m.language)"
   ]
  },
  {
   "source": [
    "# Read-only and Computed Properties"
   ],
   "cell_type": "markdown",
   "metadata": {}
  },
  {
   "cell_type": "code",
   "execution_count": 20,
   "metadata": {},
   "outputs": [
    {
     "output_type": "stream",
     "name": "stdout",
     "text": [
      "Calculating area...\n12.566370614359172\n12.566370614359172\nCalculating area...\n50.26548245743669\n"
     ]
    }
   ],
   "source": [
    "from math import pi\n",
    "class Circle:\n",
    "    def __init__(self, radius):\n",
    "        self._radius = radius\n",
    "        self._area = None\n",
    "\n",
    "    @property\n",
    "    def radius(self):\n",
    "        return self._radius\n",
    "\n",
    "    @radius.setter\n",
    "    def radius(self,value):\n",
    "        self._radius = value\n",
    "    \n",
    "    @property\n",
    "    def area(self):\n",
    "        if self._area is None:\n",
    "            print('Calculating area...')\n",
    "            self._area = pi*(self._radius**2)\n",
    "        return self._area\n",
    "    \n",
    "c = Circle(2)\n",
    "print(c.area)\n",
    "print(c.area)\n",
    "c = Circle(4)\n",
    "print(c.area)\n"
   ]
  },
  {
   "source": [
    "# Deleting Properties\n",
    "* is posible to delete a property from the instance but  not from the class"
   ],
   "cell_type": "markdown",
   "metadata": {}
  },
  {
   "cell_type": "code",
   "execution_count": 29,
   "metadata": {},
   "outputs": [
    {
     "output_type": "stream",
     "name": "stdout",
     "text": [
      "getting member...\nblue\nsetting member...\ngetting member...\nred\n{'_color': 'red'}\nDeleting member...\n{}\n{'_color': 'green'}\n"
     ]
    }
   ],
   "source": [
    "class UnitCircle:\n",
    "    def __init__(self, color):\n",
    "        self._color = color\n",
    "    \n",
    "    @property\n",
    "    def color(self):\n",
    "        print('getting member...')\n",
    "        return self._color\n",
    "    \n",
    "    @color.setter\n",
    "    def color(self,value):\n",
    "        print('setting member...')\n",
    "        self._color = value\n",
    "    \n",
    "    @color.deleter\n",
    "    def color(self):\n",
    "        print('Deleting member...')\n",
    "        del self._color\n",
    "\n",
    "c = UnitCircle('blue')\n",
    "print(c.color)\n",
    "c.color = 'red'\n",
    "print(c.color)\n",
    "print(c.__dict__)\n",
    "del c.color\n",
    "print(c.__dict__)\n",
    "c = UnitCircle('green')\n",
    "print(c.__dict__)"
   ]
  },
  {
   "source": [
    "# Class and Static Methods"
   ],
   "cell_type": "markdown",
   "metadata": {}
  },
  {
   "cell_type": "code",
   "execution_count": 42,
   "metadata": {},
   "outputs": [
    {
     "output_type": "stream",
     "name": "stdout",
     "text": [
      "<class 'function'>\n<class 'method'>\n<class 'function'>\n\n\n<class 'method'>\n<class 'method'>\n<class 'function'>\n"
     ]
    }
   ],
   "source": [
    "class Circle:\n",
    "    def hello(self):\n",
    "        print(f'hello from {self}')\n",
    "    @classmethod\n",
    "    def cls_hello(cls):\n",
    "        print(f'hello from {cls}')\n",
    "\n",
    "    @staticmethod\n",
    "    def static_hello():\n",
    "        return 'static hello'\n",
    "\n",
    "print(type(Circle.hello))\n",
    "print(type(Circle.cls_hello))\n",
    "print(type(Circle.static_hello))\n",
    "print('\\n')\n",
    "c = Circle()\n",
    "print(type(c.hello))\n",
    "print(type(c.cls_hello))\n",
    "print(type(c.static_hello))"
   ]
  },
  {
   "cell_type": "code",
   "execution_count": 52,
   "metadata": {},
   "outputs": [
    {
     "output_type": "stream",
     "name": "stdout",
     "text": [
      "None\nmst\nmst mst\npst pst\n"
     ]
    }
   ],
   "source": [
    "from datetime import datetime, timezone, timedelta\n",
    "class Timer:\n",
    "    tz = timezone.utc\n",
    "    @classmethod\n",
    "    def set_tz(cls,offset,name):\n",
    "        cls.tz = timezone(timedelta(hours=offset), name)\n",
    "    @staticmethod\n",
    "    def current_dt_utc():\n",
    "        return datetime.utcnow(timezone.utc)\n",
    "\n",
    "print(Timer.set_tz(-7, 'mst'))\n",
    "print(Timer.tz)\n",
    "\n",
    "t1 = Timer()\n",
    "t2 = Timer()\n",
    "\n",
    "print(t1.tz, t2.tz)\n",
    "Timer.set_tz(-8, 'pst')\n",
    "print(t1.tz, t2.tz)"
   ]
  },
  {
   "source": [
    "# Class body scope"
   ],
   "cell_type": "markdown",
   "metadata": {}
  },
  {
   "cell_type": "code",
   "execution_count": 2,
   "metadata": {},
   "outputs": [
    {
     "output_type": "stream",
     "name": "stdout",
     "text": [
      "Im out!\n"
     ]
    }
   ],
   "source": [
    "def outter_scope():\n",
    "    print('Im out!')\n",
    "\n",
    "class Inside:\n",
    "    out_func = outter_scope()\n",
    "\n",
    "i = Inside()\n",
    "i.out_func"
   ]
  },
  {
   "cell_type": "code",
   "execution_count": null,
   "metadata": {},
   "outputs": [],
   "source": []
  }
 ]
}