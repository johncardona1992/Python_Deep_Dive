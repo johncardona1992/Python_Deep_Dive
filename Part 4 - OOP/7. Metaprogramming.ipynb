{
 "metadata": {
  "language_info": {
   "codemirror_mode": {
    "name": "ipython",
    "version": 3
   },
   "file_extension": ".py",
   "mimetype": "text/x-python",
   "name": "python",
   "nbconvert_exporter": "python",
   "pygments_lexer": "ipython3",
   "version": "3.7.8"
  },
  "orig_nbformat": 2,
  "kernelspec": {
   "name": "python378jvsc74a57bd057ab78e5cbccfb7d81052ee73eb1fa5d31916b2ddf92535c2cf1f81bb2af6d2a",
   "display_name": "Python 3.7.8 64-bit ('computerscience': conda)"
  }
 },
 "nbformat": 4,
 "nbformat_minor": 2,
 "cells": [
  {
   "source": [
    "# Metaprogramming\n",
    "* superficially, metaclasses are not difficult to understand\n",
    "* details can get complicated, don't abuse them\n",
    "* code is harder to read"
   ],
   "cell_type": "markdown",
   "metadata": {}
  },
  {
   "source": [
    "# The __new__ method\n",
    "* Static method not bound to the object"
   ],
   "cell_type": "markdown",
   "metadata": {}
  },
  {
   "cell_type": "code",
   "execution_count": 11,
   "metadata": {},
   "outputs": [
    {
     "output_type": "stream",
     "name": "stdout",
     "text": [
      "Person(name='john')\n"
     ]
    }
   ],
   "source": [
    "class Person:\n",
    "    def __init__(self,name):\n",
    "        self.name = name\n",
    "    def __repr__(self):\n",
    "        return f\"Person(name='{self.name}')\"\n",
    "p = object.__new__(Person)\n",
    "p.__init__('john')\n",
    "\n",
    "print(p)"
   ]
  },
  {
   "source": [
    "# override __new__"
   ],
   "cell_type": "markdown",
   "metadata": {}
  },
  {
   "cell_type": "code",
   "execution_count": 13,
   "metadata": {},
   "outputs": [
    {
     "output_type": "stream",
     "name": "stdout",
     "text": [
      "creating instance... 1 2\nInit called... 1 2\n"
     ]
    }
   ],
   "source": [
    "class Point:\n",
    "    def __new__(cls,x,y):\n",
    "        print('creating instance...',x,y)\n",
    "        instance = super().__new__(cls)\n",
    "        return instance\n",
    "    def __init__(self,x,y):\n",
    "        print('Init called...',x,y)\n",
    "        self.x=x\n",
    "        self.y=y\n",
    "    \n",
    "p = Point(1,2)"
   ]
  },
  {
   "cell_type": "code",
   "execution_count": 16,
   "metadata": {},
   "outputs": [
    {
     "output_type": "stream",
     "name": "stdout",
     "text": [
      "Person: instantiating Person...\nPerson: initializing instance...\nStudent: instantiating Student...\nPerson: instantiating Student...\nStudent: initializing instance...\nPerson: initializing instance...\n"
     ]
    }
   ],
   "source": [
    "class Person:\n",
    "    def __new__(cls,name):\n",
    "        print(f'Person: instantiating {cls.__name__}...')\n",
    "        instance = object.__new__(cls)\n",
    "        return instance\n",
    "    \n",
    "    def __init__(self,name):\n",
    "        print('Person: initializing instance...')\n",
    "        self.name = name\n",
    "\n",
    "class Student(Person):\n",
    "    def __new__(cls,name,major):\n",
    "        print(f'Student: instantiating {cls.__name__}...')\n",
    "        instance = super().__new__(cls,name)\n",
    "        return instance\n",
    "    def __init__(self,name,major):\n",
    "        print('Student: initializing instance...')\n",
    "        super().__init__(name)\n",
    "        self.major = major\n",
    "\n",
    "p = Person('john')\n",
    "s = Student('kim', \"Major\")"
   ]
  },
  {
   "source": [
    "# How classes are created\n",
    "* A class is an instance of type\n",
    "* type is a callable and it is a class itself and inherits from object.\n",
    "* type(class_name,class_bases,class_dict):\n",
    "    * class_name: name of the class\n",
    "    * class_bases: class to inherit from\n",
    "    * class_dict: class dictionary"
   ],
   "cell_type": "markdown",
   "metadata": {}
  },
  {
   "cell_type": "code",
   "execution_count": 20,
   "metadata": {},
   "outputs": [
    {
     "output_type": "stream",
     "name": "stdout",
     "text": [
      "True\n<class 'type'>\n"
     ]
    }
   ],
   "source": [
    "import math\n",
    "class Circle(object):\n",
    "    def __init__(self,x,y,r):\n",
    "        self.x = x\n",
    "        self.y = y\n",
    "        self.r = r\n",
    "    def area(self):\n",
    "        return math.pi*self.r**2\n",
    "\n",
    "print('Circle' in globals())\n",
    "print(type(circle))"
   ]
  },
  {
   "source": [
    "# emulate class creation"
   ],
   "cell_type": "markdown",
   "metadata": {}
  },
  {
   "cell_type": "code",
   "execution_count": 31,
   "metadata": {},
   "outputs": [
    {
     "output_type": "stream",
     "name": "stdout",
     "text": [
      "{'__init__': <function __init__ at 0x00000269C6210288>, 'area': <function area at 0x00000269C62104C8>}\n<class 'type'> \n\n{'x': 0, 'y': 0, 'r': 1}\n3.141592653589793\n"
     ]
    }
   ],
   "source": [
    "class_name = 'Circle'\n",
    "class_body =\"\"\"     \n",
    "def __init__(self,x,y,r):\n",
    "    self.x = x\n",
    "    self.y = y\n",
    "    self.r = r\n",
    "def area(self):\n",
    "    return math.pi*self.r**2 \n",
    "        \"\"\"\n",
    "class_bases = ()\n",
    "class_dict = {}\n",
    "\n",
    "exec(class_body,globals(),class_dict)\n",
    "print(class_dict)\n",
    "\n",
    "Circle = type(class_name,class_bases,class_dict)\n",
    "print(type(Circle), '\\n')\n",
    "c = Circle(0,0,1)\n",
    "print(c.__dict__)\n",
    "print(c.area())"
   ]
  },
  {
   "cell_type": "code",
   "execution_count": 48,
   "metadata": {},
   "outputs": [
    {
     "output_type": "stream",
     "name": "stdout",
     "text": [
      "customized type creation!\n<class '__main__.CustomType'>\nTrue\n3.141592653589793\n6.283185307179586\n"
     ]
    },
    {
     "output_type": "execute_result",
     "data": {
      "text/plain": [
       "mappingproxy({'__init__': <function __main__.__init__(self, x, y, r)>,\n",
       "              'area': <function __main__.area(self)>,\n",
       "              'circ': <function __main__.CustomType.__new__.<locals>.<lambda>(self)>,\n",
       "              '__module__': '__main__',\n",
       "              '__dict__': <attribute '__dict__' of 'Circle' objects>,\n",
       "              '__weakref__': <attribute '__weakref__' of 'Circle' objects>,\n",
       "              '__doc__': None})"
      ]
     },
     "metadata": {},
     "execution_count": 48
    }
   ],
   "source": [
    "# inheriting from type\n",
    "class CustomType(type):\n",
    "    def __new__(cls,name,bases,class_dict):\n",
    "        print('customized type creation!')\n",
    "        class_dict['circ'] = lambda self: 2*math.pi * self.r\n",
    "        cls_obj = super().__new__(cls,name,bases,class_dict)\n",
    "        return cls_obj\n",
    "\n",
    "class_body = \"\"\" \n",
    "def __init__(self,x,y,r):\n",
    "    self.x = x\n",
    "    self.y = y\n",
    "    self.r = r\n",
    "def area(self):\n",
    "    return math.pi*self.r**2 \n",
    "             \"\"\"\n",
    "class_dict = {}\n",
    "exec(class_body,globals(),class_dict)\n",
    "Circle = CustomType('Circle',(),class_dict)\n",
    "print(type(Circle))\n",
    "print(isinstance(Circle, type))\n",
    "c = Circle(0,0,1)\n",
    "print(c.area())\n",
    "print(c.circ())\n",
    "Circle.__dict__"
   ]
  },
  {
   "source": [
    "# Metaclasses\n",
    "* by default python uses type as the Metaclasses\n",
    "    * class Person(metaclass=type)\n",
    "* but we can override this:\n",
    "    * class Person(metaclass=MyType)"
   ],
   "cell_type": "markdown",
   "metadata": {}
  },
  {
   "cell_type": "code",
   "execution_count": 51,
   "metadata": {},
   "outputs": [
    {
     "output_type": "stream",
     "name": "stdout",
     "text": [
      "using custom metaclass: <class '__main__.CustomType'> to create class: Circle\n3.141592653589793\n6.283185307179586\n"
     ]
    },
    {
     "output_type": "execute_result",
     "data": {
      "text/plain": [
       "mappingproxy({'__module__': '__main__',\n",
       "              '__init__': <function __main__.Circle.__init__(self, x, y, r)>,\n",
       "              'area': <function __main__.Circle.area(self)>,\n",
       "              '__dict__': <attribute '__dict__' of 'Circle' objects>,\n",
       "              '__weakref__': <attribute '__weakref__' of 'Circle' objects>,\n",
       "              '__doc__': None,\n",
       "              'circ': <function __main__.CustomType.__new__.<locals>.<lambda>(self)>})"
      ]
     },
     "metadata": {},
     "execution_count": 51
    }
   ],
   "source": [
    "import math\n",
    "class CustomType(type):\n",
    "    def __new__(mcls,name,bases,class_dict):\n",
    "        print(f'using custom metaclass: {mcls} to create class: {name}')\n",
    "        cls_obj = super().__new__(mcls,name,bases,class_dict)\n",
    "        cls_obj.circ = lambda self: 2*math.pi * self.r\n",
    "        return cls_obj\n",
    "\n",
    "class Circle(metaclass=CustomType):\n",
    "    def __init__(self,x,y,r):\n",
    "        self.x = x\n",
    "        self.y = y\n",
    "        self.r = r\n",
    "    def area(self):\n",
    "        return math.pi*self.r**2\n",
    "\n",
    "c = Circle(0,0,1)\n",
    "print(c.area())\n",
    "print(c.circ())\n",
    "Circle.__dict__"
   ]
  },
  {
   "source": [
    "# Class Decorators\n",
    "* used for create, delete or modify class attributes\n",
    "* modify methods\n"
   ],
   "cell_type": "markdown",
   "metadata": {}
  },
  {
   "cell_type": "code",
   "execution_count": 56,
   "metadata": {},
   "outputs": [
    {
     "output_type": "stream",
     "name": "stdout",
     "text": [
      "{'__module__': '__main__', '__doc__': None, 'account_type': 'checking'}\n{'__module__': '__main__', '__doc__': None, 'account_type': 'checking'}\n"
     ]
    }
   ],
   "source": [
    "def savings(cls):\n",
    "    cls.account_type = 'savings'\n",
    "    return cls\n",
    "def checking(cls):\n",
    "    cls.account_type = 'checking'\n",
    "    return cls\n",
    "\n",
    "class Account:\n",
    "    pass\n",
    "\n",
    "@savings\n",
    "class Bank1Savings(Account):\n",
    "    pass\n",
    "@savings\n",
    "class Bank2Savings(Account):\n",
    "    pass\n",
    "@checking\n",
    "class Bank1Checking(Account):\n",
    "    pass\n",
    "@checking\n",
    "class Bank2Checking(Account):\n",
    "    pass\n",
    "\n",
    "print(Bank1Checking.__dict__)\n",
    "print(Bank2Checking.__dict__)\n"
   ]
  },
  {
   "cell_type": "code",
   "execution_count": 58,
   "metadata": {},
   "outputs": [
    {
     "output_type": "stream",
     "name": "stdout",
     "text": [
      "{'__module__': '__main__', '__doc__': None, 'account_type': 'Checking'}\n{'__module__': '__main__', '__doc__': None, 'account_type': 'checking'}\n"
     ]
    }
   ],
   "source": [
    "# adding attribute to a class\n",
    "def account_type(type_):\n",
    "    def decorator(cls):\n",
    "        cls.account_type = type_\n",
    "        return cls\n",
    "    return decorator\n",
    "\n",
    "@account_type('Savings')\n",
    "class Bank1Savings(Account):\n",
    "    pass\n",
    "@account_type('Checking')\n",
    "class Bank1Checking(Account):\n",
    "    pass\n",
    "\n",
    "print(Bank1Checking.__dict__)\n",
    "print(Bank2Checking.__dict__)"
   ]
  },
  {
   "cell_type": "code",
   "execution_count": 61,
   "metadata": {},
   "outputs": [
    {
     "output_type": "stream",
     "name": "stdout",
     "text": [
      "{'__module__': '__main__', '__init__': <function Person.__init__ at 0x00000269C4F701F8>, '__str__': <function Person.__str__ at 0x00000269C4F70168>, '__dict__': <attribute '__dict__' of 'Person' objects>, '__weakref__': <attribute '__weakref__' of 'Person' objects>, '__doc__': None, 'hello': <function hello.<locals>.<lambda> at 0x00000269C4F70AF8>} \n\n"
     ]
    },
    {
     "output_type": "execute_result",
     "data": {
      "text/plain": [
       "'john says hello!'"
      ]
     },
     "metadata": {},
     "execution_count": 61
    }
   ],
   "source": [
    "# adding a method to a class\n",
    "def hello(cls):\n",
    "    cls.hello = lambda self: f'{self} says hello!'\n",
    "    return cls\n",
    "@hello\n",
    "class Person:\n",
    "    def __init__(self,name):\n",
    "        self.name=name\n",
    "    def __str__(self):\n",
    "        return self.name\n",
    "print(vars(Person), '\\n')\n",
    "p = Person('john')\n",
    "p.hello()"
   ]
  },
  {
   "cell_type": "code",
   "execution_count": 2,
   "metadata": {},
   "outputs": [
    {
     "output_type": "stream",
     "name": "stdout",
     "text": [
      "decorating: <class '__main__.Person'> __init__\ndecorating: <class '__main__.Person'> greet\nLog: Person.__init__((<__main__.Person object at 0x000002770AF89B88>, 'john', 29), {}) = None\nLog: Person.greet((<__main__.Person object at 0x000002770AF89B88>,), {}) = Hello, my name is john, and I am 29 years old\n"
     ]
    },
    {
     "output_type": "execute_result",
     "data": {
      "text/plain": [
       "'Hello, my name is john, and I am 29 years old'"
      ]
     },
     "metadata": {},
     "execution_count": 2
    }
   ],
   "source": [
    "# logger for debugging\n",
    "from functools import wraps\n",
    "def func_logger(fn):\n",
    "    @wraps(fn)\n",
    "    def inner(*args,**kwargs):\n",
    "        result = fn(*args,**kwargs)\n",
    "        print(f'Log: {fn.__qualname__}({args}, {kwargs}) = {result}')\n",
    "        return result\n",
    "    return inner\n",
    "\n",
    "def class_logger(cls):\n",
    "    for name, obj in vars(cls).items():\n",
    "        if callable(obj):\n",
    "            print('decorating:', cls, name)\n",
    "            setattr(cls, name, func_logger(obj))\n",
    "    return cls\n",
    "\n",
    "@class_logger\n",
    "class Person:\n",
    "    def __init__(self,name,age):\n",
    "        self.name = name\n",
    "        self.age = age\n",
    "    \n",
    "    def greet(self):\n",
    "        return f'Hello, my name is {self.name}, and I am {self.age} years old'\n",
    "        \n",
    "p = Person('john', 29)\n",
    "p.greet()"
   ]
  },
  {
   "source": [
    "# Decorator Classes\n",
    "* opposite to Class Decorator\n",
    "* here we want to use a class to decorate functions"
   ],
   "cell_type": "code",
   "metadata": {},
   "execution_count": null,
   "outputs": []
  },
  {
   "cell_type": "code",
   "execution_count": 12,
   "metadata": {},
   "outputs": [
    {
     "output_type": "stream",
     "name": "stdout",
     "text": [
      "Log: say_hello called.\n\n\n__get__ called: self=<__main__.Logger object at 0x000002770D023148>, instance=<__main__.Person object at 0x000002770E47A688>\n\t returning self as method bound to instance...\nLog: say_hello called.\n"
     ]
    },
    {
     "output_type": "execute_result",
     "data": {
      "text/plain": [
       "'Alex says hello!'"
      ]
     },
     "metadata": {},
     "execution_count": 12
    }
   ],
   "source": [
    "from types import MethodType\n",
    "class Logger:\n",
    "    def __init__(self,fn):\n",
    "        self.fn = fn\n",
    "    def __call__(self,*args,**kwargs):\n",
    "        print(f'Log: {self.fn.__name__} called.')\n",
    "        return self.fn(*args,**kwargs)\n",
    "    def __get__(self,instance,owner_class):\n",
    "        print(f'__get__ called: self={self}, instance={instance}')\n",
    "        if instance is None:\n",
    "            print('\\t returning self unbound...')\n",
    "            return self\n",
    "        else:\n",
    "            print('\\t returning self as method bound to instance...')\n",
    "            return MethodType(self,instance)\n",
    "class Person:\n",
    "    def __init__(self,name):\n",
    "        self.name = name\n",
    "    @Logger\n",
    "    def say_hello(self):\n",
    "        return f'{self.name} says hello!'\n",
    "\n",
    "@Logger\n",
    "def say_hello():\n",
    "    pass\n",
    "\n",
    "\n",
    "say_hello()\n",
    "p = Person('Alex')\n",
    "print('\\n')\n",
    "p.say_hello()"
   ]
  },
  {
   "source": [
    "# Metaclass Parameters\n"
   ],
   "cell_type": "markdown",
   "metadata": {}
  },
  {
   "cell_type": "code",
   "execution_count": 16,
   "metadata": {},
   "outputs": [
    {
     "output_type": "stream",
     "name": "stdout",
     "text": [
      "Creating class with some extra attributes: {'account_type': 'savings', 'apr': 0.5}\n{'__module__': '__main__', 'account_type': 'savings', 'apr': 0.5, '__dict__': <attribute '__dict__' of 'Account' objects>, '__weakref__': <attribute '__weakref__' of 'Account' objects>, '__doc__': None}\n"
     ]
    }
   ],
   "source": [
    "class MyMetaclass(type):\n",
    "    def __new__(mcls,name,bases,cls_dict, **extra_attrs):\n",
    "        print('Creating class with some extra attributes:', extra_attrs)\n",
    "        cls_dict.update(extra_attrs)\n",
    "        new_cls = super().__new__(mcls,name,bases,cls_dict)\n",
    "        return new_cls\n",
    "\n",
    "class Account(metaclass=MyMetaclass, account_type = 'savings', apr=0.5):\n",
    "    pass\n",
    "\n",
    "print(vars(Account))"
   ]
  },
  {
   "source": [
    "# The __prepare__ Method"
   ],
   "cell_type": "markdown",
   "metadata": {}
  },
  {
   "cell_type": "code",
   "execution_count": 17,
   "metadata": {},
   "outputs": [
    {
     "output_type": "execute_result",
     "data": {
      "text/plain": [
       "mappingproxy({'__module__': '__main__',\n",
       "              'arg1': 100,\n",
       "              'arg2': 200,\n",
       "              '__dict__': <attribute '__dict__' of 'MyClass' objects>,\n",
       "              '__weakref__': <attribute '__weakref__' of 'MyClass' objects>,\n",
       "              '__doc__': None})"
      ]
     },
     "metadata": {},
     "execution_count": 17
    }
   ],
   "source": [
    "class MyMeta(type):\n",
    "    def __new__(mcls,name,bases,cls_dict,**kwargs):\n",
    "        cls_dict.update(kwargs)\n",
    "        return super().__new__(mcls,name,bases,cls_dict)\n",
    "\n",
    "class MyClass(metaclass=MyMeta,arg1=100,arg2=200):\n",
    "    pass\n",
    "\n",
    "vars(MyClass)"
   ]
  },
  {
   "cell_type": "code",
   "execution_count": 18,
   "metadata": {},
   "outputs": [
    {
     "output_type": "execute_result",
     "data": {
      "text/plain": [
       "mappingproxy({'arg1': 100,\n",
       "              'arg2': 200,\n",
       "              '__module__': '__main__',\n",
       "              '__dict__': <attribute '__dict__' of 'MyClass' objects>,\n",
       "              '__weakref__': <attribute '__weakref__' of 'MyClass' objects>,\n",
       "              '__doc__': None})"
      ]
     },
     "metadata": {},
     "execution_count": 18
    }
   ],
   "source": [
    "# By using __prepare__ the cls_dict is created automatically.\n",
    "class MyMeta(type):\n",
    "    def __prepare__(name,bases,**kwargs):\n",
    "        return kwargs\n",
    "    def __new__(mcls,name,bases,cls_dict,**kwargs):\n",
    "        return super().__new__(mcls,name,bases,cls_dict)\n",
    "\n",
    "class MyClass(metaclass=MyMeta,arg1=100,arg2=200):\n",
    "    pass\n",
    "\n",
    "vars(MyClass)"
   ]
  },
  {
   "source": [
    "# The Attribute Read Accesor"
   ],
   "cell_type": "markdown",
   "metadata": {}
  },
  {
   "cell_type": "code",
   "execution_count": 19,
   "metadata": {},
   "outputs": [
    {
     "output_type": "stream",
     "name": "stdout",
     "text": [
      "could not find age, trying _age...\nAttributeError could not find age or _age\n"
     ]
    }
   ],
   "source": [
    "class Person:\n",
    "    def __getattr__(self,name):\n",
    "        alt_name = '_' + name\n",
    "        print(f'could not find {name}, trying {alt_name}...')\n",
    "\n",
    "        try:\n",
    "            return super().__getattr__(alt_name)\n",
    "        except AttributeError:\n",
    "            raise AttributeError(f'could not find {name} or {alt_name}')\n",
    "p=Person()\n",
    "try:\n",
    "    p.age\n",
    "except AttributeError as ex:\n",
    "    print(type(ex).__name__, ex)"
   ]
  },
  {
   "source": [
    "# The Attribute Write Accesor"
   ],
   "cell_type": "markdown",
   "metadata": {}
  },
  {
   "cell_type": "code",
   "execution_count": 23,
   "metadata": {},
   "outputs": [
    {
     "output_type": "stream",
     "name": "stdout",
     "text": [
      "{}\n__setattr__ called\n__set__ called on data descriptor\n__setattr__ called\n{'non_data_desc': 200}\n"
     ]
    }
   ],
   "source": [
    "class MyNonDataDesc:\n",
    "    def __get__(self,instance,owner_class):\n",
    "        print('__get__ called non data descriptor')\n",
    "\n",
    "class MyDataDesc:\n",
    "    def __set__(self,instance,value):\n",
    "        print('__set__ called on data descriptor')\n",
    "    def __get__(self,instance,owner_class):\n",
    "        print('__get__ called data descriptor')\n",
    "\n",
    "class MyClass:\n",
    "    non_data_desc = MyNonDataDesc()\n",
    "    data_desc = MyDataDesc()\n",
    "    def __setattr__(self,name,value):\n",
    "        print('__setattr__ called')\n",
    "        super().__setattr__(name,value)\n",
    "\n",
    "m = MyClass()\n",
    "print(m.__dict__)\n",
    "m.data_desc = 100\n",
    "m.non_data_desc = 200\n",
    "print(m.__dict__)\n"
   ]
  }
 ]
}