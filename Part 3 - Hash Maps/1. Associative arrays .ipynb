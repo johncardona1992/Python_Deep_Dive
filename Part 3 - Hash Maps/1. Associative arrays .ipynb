{
 "metadata": {
  "language_info": {
   "codemirror_mode": {
    "name": "ipython",
    "version": 3
   },
   "file_extension": ".py",
   "mimetype": "text/x-python",
   "name": "python",
   "nbconvert_exporter": "python",
   "pygments_lexer": "ipython3",
   "version": "3.7.8"
  },
  "orig_nbformat": 2,
  "kernelspec": {
   "name": "python378jvsc74a57bd057ab78e5cbccfb7d81052ee73eb1fa5d31916b2ddf92535c2cf1f81bb2af6d2a",
   "display_name": "Python 3.7.8 64-bit ('computerscience': conda)"
  }
 },
 "nbformat": 4,
 "nbformat_minor": 2,
 "cells": [
  {
   "source": [
    "# Associative arrays\n",
    "* dictionary keys must be hashable\n",
    "* hash function h(key): always return the same integer for the same string\n",
    "* python hash(): returns an int only for inmutable types, pyhton truncates hashes to system size(32 bits or 64 bits)\n",
    "\n"
   ],
   "cell_type": "markdown",
   "metadata": {}
  },
  {
   "source": [
    "hashes = map(hash, (1,2,3,4))\n",
    "print(list(hashes))\n",
    "hashes = map(hash, (1.1,2.2,3.3,4.4))\n",
    "print(list(hashes))\n",
    "hashes = map(hash, ('hello','python','!'))\n",
    "print(list(hashes))"
   ],
   "cell_type": "code",
   "metadata": {},
   "execution_count": 4,
   "outputs": [
    {
     "output_type": "stream",
     "name": "stdout",
     "text": [
      "[1, 2, 3, 4]\n[230584300921369601, 461168601842739202, 691752902764107779, 922337203685478404]\n[-1240294060284598030, -4477104827758157125, 1531827238788225973]\n"
     ]
    }
   ]
  },
  {
   "source": [
    "# dictionaries\n",
    "* data structure: key : value\n",
    "key: any hashable (inmutable) object\n",
    "value: any python object\n",
    "\n",
    "Inmutable data types:\n",
    "* int, float, complex, binary, Decimal, Fraction\n",
    "* strings\n",
    "* frozenset\n",
    "* tuples\n",
    "* functions"
   ],
   "cell_type": "markdown",
   "metadata": {}
  },
  {
   "cell_type": "code",
   "execution_count": 13,
   "metadata": {},
   "outputs": [
    {
     "output_type": "stream",
     "name": "stdout",
     "text": [
      "{'k1': 300, 'k2': 200, 'k3': 100}\n2528502973977326415\nthis is a tuple\n"
     ]
    }
   ],
   "source": [
    "a = {'k1':300,'k2':200,'k3':100}\n",
    "print(a)\n",
    "print(hash((1,2,3)))\n",
    "d = {(1,2,3):'this is a tuple'}\n",
    "print(d[(1,2,3)])"
   ]
  },
  {
   "cell_type": "code",
   "execution_count": 17,
   "metadata": {},
   "outputs": [
    {
     "output_type": "stream",
     "name": "stdout",
     "text": [
      "0x19fdf1726d8\n0x19fdf422598\n\n\n2528502973977326415\n2528502973977326415\n\n\nthis is a tuple\nthis is a tuple\n"
     ]
    }
   ],
   "source": [
    "# t1 and t2 are two different objects with the same hash value\n",
    "t1 = (1,2,3)\n",
    "t2 = (1,2,3)\n",
    "d = {(1,2,3):'this is a tuple'}\n",
    "print(hex(id(t1)))\n",
    "print(hex(id(t2)))\n",
    "print('\\n')\n",
    "print(hash(t1))\n",
    "print(hash(t2))\n",
    "print('\\n')\n",
    "print(d[t1])\n",
    "print(d[t2])"
   ]
  },
  {
   "cell_type": "code",
   "execution_count": 18,
   "metadata": {},
   "outputs": [
    {
     "output_type": "stream",
     "name": "stdout",
     "text": [
      "-9223371925219548196\n"
     ]
    }
   ],
   "source": [
    "def my_func(a,b,c):\n",
    "    print(a,b,c)\n",
    "print(hash(my_func))\n",
    "d = {my_func: [1,2,3]}\n"
   ]
  },
  {
   "cell_type": "code",
   "execution_count": 19,
   "metadata": {},
   "outputs": [
    {
     "output_type": "stream",
     "name": "stdout",
     "text": [
      "6\n1.5\n"
     ]
    }
   ],
   "source": [
    "def multi(a,b):\n",
    "    return a*b\n",
    "def division(a,b):\n",
    "    return a/b\n",
    "\n",
    "funcs = {multi:(3,2), division:(3,2)}\n",
    "\n",
    "for f, args in funcs.items():\n",
    "    print(f(*args))"
   ]
  },
  {
   "source": [
    "# dictionary comprehension"
   ],
   "cell_type": "markdown",
   "metadata": {}
  },
  {
   "cell_type": "code",
   "execution_count": 22,
   "metadata": {},
   "outputs": [
    {
     "output_type": "stream",
     "name": "stdout",
     "text": [
      "{'b': 2, 'd': 4}\n"
     ]
    }
   ],
   "source": [
    "keys = 'abcd'\n",
    "values = range(1,5)\n",
    "d = {k:v for k,v in zip(keys, values) if v%2==0}\n",
    "print(d)"
   ]
  },
  {
   "source": [
    "# common operations\n",
    "* dictionaries are order since py 3.6"
   ],
   "cell_type": "markdown",
   "metadata": {}
  },
  {
   "cell_type": "code",
   "execution_count": 3,
   "metadata": {},
   "outputs": [
    {
     "output_type": "stream",
     "name": "stdout",
     "text": [
      "{'p': 1, 'y': 2, 't': 2, 'h': 2, 'o': 2, 'n': 3, ' ': 2, 'a': 1, 'd': 1, 'c': 1}\n{'y': 2, 't': 2, 'h': 2, 'o': 2, 'n': 3, ' ': 2, 'a': 1, 'd': 1, 'c': 1}\n"
     ]
    }
   ],
   "source": [
    "text = 'python and cython'\n",
    "counts = dict()\n",
    "for c in text:\n",
    "    counts[c] = counts.get(c,0)+1\n",
    "print(counts)\n",
    "counts.pop('p')\n",
    "print(counts)"
   ]
  },
  {
   "source": [
    "# Dictionary views"
   ],
   "cell_type": "markdown",
   "metadata": {}
  },
  {
   "cell_type": "code",
   "execution_count": 3,
   "metadata": {},
   "outputs": [
    {
     "output_type": "stream",
     "name": "stdout",
     "text": [
      "dict_keys(['a', 'b', 'c'])\ndict_values([1, 2, 3])\ndict_items([('a', 1), ('b', 2), ('c', 3)])\n"
     ]
    }
   ],
   "source": [
    "d = {'a':1, 'b':2, 'c':3}\n",
    "print(d.keys())\n",
    "print(d.values())\n",
    "print(d.items())\n"
   ]
  },
  {
   "source": [
    "# Set operations\n",
    "* sets are not ordered"
   ],
   "cell_type": "markdown",
   "metadata": {}
  },
  {
   "cell_type": "code",
   "execution_count": 8,
   "metadata": {},
   "outputs": [
    {
     "output_type": "stream",
     "name": "stdout",
     "text": [
      "{'d', 'b', 'c', 'a'}\n{'c', 'b'}\n{'a'}\n"
     ]
    }
   ],
   "source": [
    "s1 = {'a','b','c'}\n",
    "s2 = {'b','c','d'}\n",
    "union_s = s1|s2\n",
    "print(union_s)\n",
    "intersection_s = s1&s2\n",
    "print(intersection_s)\n",
    "difference_s = s1-s2\n",
    "print(difference_s)\n"
   ]
  },
  {
   "source": [
    "# updating, Merging and Copying\n",
    "* update(): updates one dictinary based on items in something else\n"
   ],
   "cell_type": "markdown",
   "metadata": {}
  },
  {
   "cell_type": "code",
   "execution_count": 22,
   "metadata": {},
   "outputs": [
    {
     "output_type": "stream",
     "name": "stdout",
     "text": [
      "{'a': 1, 'b': 20, 'c': 30}\n{'b': 33, 'c': 22}\n[('b', 98), ('c', 99), ('d', 100)]\n{'a': 1, 'b': 98, 'c': 99, 'd': 100}\n{'a': 1, 'b': 33, 'c': 22, 'd': 100}\n"
     ]
    }
   ],
   "source": [
    "d1 = {'a':1,'b':2}\n",
    "d2 = {'b':20,'c':30}\n",
    "d1.update(d2) \n",
    "print(d1)\n",
    "d2.update(b=33,c=22) \n",
    "print(d2)\n",
    "iterable = ((k,ord(k)) for k in 'bcd')\n",
    "print(list(iterable))\n",
    "d1.update((k,ord(k)) for k in 'bcd')\n",
    "print(d1)\n",
    "\n",
    "# unpacking dictionaries\n",
    "d = {**d1,**d2}\n",
    "\n",
    "print(d)"
   ]
  },
  {
   "source": [
    "#  Copying dictionaries: \n",
    "* shallow copies: container object is a new object but copied elements keys/values are [shared refrences]  with original object\n",
    "* deep copies: no shared refrences even with nested dictionaries"
   ],
   "cell_type": "code",
   "metadata": {},
   "execution_count": null,
   "outputs": []
  },
  {
   "cell_type": "code",
   "execution_count": 38,
   "metadata": {},
   "outputs": [
    {
     "output_type": "stream",
     "name": "stdout",
     "text": [
      "0x2bb4f31b598\n0x2bb4f67e098\n0x2bb4f67e4f8\n\n\n0x2bb4f31b408\n0x2bb4f31b408\n0x2bb4f315188\n"
     ]
    }
   ],
   "source": [
    "from copy import deepcopy\n",
    "d = {'person':{'a':3,'z':3},'b':['c',2]}\n",
    "d_shallow = d.copy()\n",
    "d_deep = deepcopy(d)\n",
    "print(hex(id(d)))\n",
    "print(hex(id(d_shallow)))\n",
    "print(hex(id(d_deep)))\n",
    "print('\\n')\n",
    "print(hex(id(d['person'])))\n",
    "print(hex(id(d_shallow['person'])))\n",
    "print(hex(id(d_deep['person'])))"
   ]
  },
  {
   "source": [
    "# Custom  Classes and hashing\n",
    "* by default python compare hash of the memory address of objects\n",
    "* for custom clases is needed to override the hash method"
   ],
   "cell_type": "markdown",
   "metadata": {}
  },
  {
   "cell_type": "code",
   "execution_count": 44,
   "metadata": {},
   "outputs": [
    {
     "output_type": "stream",
     "name": "stdout",
     "text": [
      "29\n29\n"
     ]
    }
   ],
   "source": [
    "class Person:\n",
    "    def __init__(self,name):\n",
    "        self.name = name\n",
    "    def __eq__(self,other):\n",
    "        if isinstance(other,Person):\n",
    "            return self.name == other.name\n",
    "        else:\n",
    "            return False\n",
    "    def __hash__(self):\n",
    "        return hash(self.name)\n",
    "\n",
    "p1 = Person('john')\n",
    "p2 = Person('john')\n",
    "d = {p1:29}\n",
    "print(d[p1])\n",
    "print(d[p2])"
   ]
  },
  {
   "source": [
    "# Check system width\n",
    "* hash() truncates returned integer to 32-bit or 64-bit depending on the OS"
   ],
   "cell_type": "markdown",
   "metadata": {}
  },
  {
   "cell_type": "code",
   "execution_count": 46,
   "metadata": {},
   "outputs": [
    {
     "output_type": "stream",
     "name": "stdout",
     "text": [
      "64\n2305843009213693951\n"
     ]
    }
   ],
   "source": [
    "import sys\n",
    "print(sys.hash_info.width)\n",
    "print(sys.hash_info.modulus)\n",
    "# p.__hash__() % sys.hash_info.modulus"
   ]
  }
 ]
}