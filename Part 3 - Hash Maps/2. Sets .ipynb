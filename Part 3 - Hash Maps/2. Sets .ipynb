{
 "metadata": {
  "language_info": {
   "codemirror_mode": {
    "name": "ipython",
    "version": 3
   },
   "file_extension": ".py",
   "mimetype": "text/x-python",
   "name": "python",
   "nbconvert_exporter": "python",
   "pygments_lexer": "ipython3",
   "version": "3.7.8"
  },
  "orig_nbformat": 2,
  "kernelspec": {
   "name": "python378jvsc74a57bd057ab78e5cbccfb7d81052ee73eb1fa5d31916b2ddf92535c2cf1f81bb2af6d2a",
   "display_name": "Python 3.7.8 64-bit ('computerscience': conda)"
  }
 },
 "nbformat": 4,
 "nbformat_minor": 2,
 "cells": [
  {
   "source": [
    "# Sets\n",
    "\n",
    "* A set is a gathering together into a whole of definite, distinct objects of our perception or of or thought -- which are called elements of the set.\n",
    "* sets are hash tables"
   ],
   "cell_type": "markdown",
   "metadata": {}
  },
  {
   "cell_type": "code",
   "execution_count": 5,
   "metadata": {},
   "outputs": [
    {
     "output_type": "stream",
     "name": "stdout",
     "text": [
      "[]\nTrue\nTrue\n"
     ]
    }
   ],
   "source": [
    "# empty set\n",
    "s1 = set()\n",
    "print(list(s1))\n",
    "s1 = {1,2,3}\n",
    "s2 = {1,2,3,4}\n",
    "print(s1.issubset(s2))\n",
    "print(s2.issuperset(s2))"
   ]
  },
  {
   "source": [
    "# cromprehension set"
   ],
   "cell_type": "markdown",
   "metadata": {}
  },
  {
   "cell_type": "code",
   "execution_count": 8,
   "metadata": {},
   "outputs": [
    {
     "output_type": "execute_result",
     "data": {
      "text/plain": [
       "set"
      ]
     },
     "metadata": {},
     "execution_count": 8
    }
   ],
   "source": [
    "s = {c for c in 'python'}\n",
    "type(s)"
   ]
  },
  {
   "cell_type": "code",
   "execution_count": 12,
   "metadata": {},
   "outputs": [
    {
     "output_type": "stream",
     "name": "stdout",
     "text": [
      "{'b', 'a', 'c', 10, 12.2}\n<class 'set'>\n"
     ]
    }
   ],
   "source": [
    " s1 = {'a',10,12.2}\n",
    " s2 = set('abc')\n",
    " s = {*s1,*s2}\n",
    " print(s)\n",
    " print(type(s))"
   ]
  },
  {
   "source": [
    "# common operations"
   ],
   "cell_type": "markdown",
   "metadata": {}
  },
  {
   "cell_type": "code",
   "execution_count": 20,
   "metadata": {},
   "outputs": [
    {
     "output_type": "stream",
     "name": "stdout",
     "text": [
      "3\nTrue\n{'c', 'b', 'a', 'd'}\n{'c', 'b', 'd'}\n"
     ]
    }
   ],
   "source": [
    " s = set('abc')\n",
    " print(len(s))\n",
    " print('a' in s)\n",
    " s.add('d')\n",
    " print(s)\n",
    " s.remove('a')\n",
    " print(s)\n"
   ]
  },
  {
   "source": [
    "# Set operations"
   ],
   "cell_type": "markdown",
   "metadata": {}
  },
  {
   "cell_type": "code",
   "execution_count": 41,
   "metadata": {},
   "outputs": [
    {
     "output_type": "stream",
     "name": "stdout",
     "text": [
      "{2, 3}\n{2, 3}\n{1, 2, 3, 4}\n{1, 2, 3, 4}\nFalse\nTrue\nnot disjoint or not mutually exclusive events\n{1}\ndifference is not commutative\n{1}\n{4}\n{1, 4}\n{1, 4}\n"
     ]
    }
   ],
   "source": [
    "s1={1,2,3}\n",
    "s2={2,3,4}\n",
    "s3={4,5,6}\n",
    "\n",
    "print(s1.intersection(s2))\n",
    "print(s1&s2)\n",
    "print(s1.union(s2))\n",
    "print(s1|s2)\n",
    "print(s1.isdisjoint(s2))\n",
    "print(s1.isdisjoint(s3))\n",
    "if s1&s2:\n",
    "    print('not disjoint or not mutually exclusive events')\n",
    "else:\n",
    "    print('disjoint or mutually exclusive events')\n",
    "\n",
    "print(s1.difference(s2))\n",
    "print('difference is not commutative')\n",
    "print(s1-s2)\n",
    "print(s2-s1)\n",
    "print(s1.symmetric_difference(s2))\n",
    "print(s2^s1)\n"
   ]
  },
  {
   "cell_type": "code",
   "execution_count": 49,
   "metadata": {},
   "outputs": [
    {
     "output_type": "stream",
     "name": "stdout",
     "text": [
      "True\nTrue\nis proper subset:\nFalse\n\n\nTrue\nTrue\nis proper subset:\nTrue\n"
     ]
    }
   ],
   "source": [
    "s1={1,2,3}\n",
    "s2={1,2,3}\n",
    "s3={1,2,3,4}\n",
    "s4={10,20,30}\n",
    "\n",
    "print(s1.issubset(s2))\n",
    "print(s1<=s2)\n",
    "print('is proper subset:')\n",
    "print(s1<s2)\n",
    "print('\\n')\n",
    "print(s3.issuperset(s1))\n",
    "print(s3>=s1)\n",
    "print('is proper subset:')\n",
    "print(s3>s1)\n"
   ]
  },
  {
   "source": [
    "# bitwise operation"
   ],
   "cell_type": "markdown",
   "metadata": {}
  },
  {
   "cell_type": "code",
   "execution_count": 55,
   "metadata": {},
   "outputs": [
    {
     "output_type": "stream",
     "name": "stdout",
     "text": [
      "42 52\n0b101010\n0b110100\n0b100000\n0b111110\n0b11110\n"
     ]
    }
   ],
   "source": [
    "a  = 0b101010\n",
    "b  = 0b110100\n",
    "c = a&b\n",
    "d = a|b\n",
    "xor = a^b\n",
    "print(a,b)\n",
    "print(bin(a))\n",
    "print(bin(b))\n",
    "print(bin(c))\n",
    "print(bin(d))\n",
    "print(bin(xor))"
   ]
  },
  {
   "source": [
    "# update operations\n",
    "* s1 |= s2 -> s1.update(s2)\n",
    "* s1 &= s2 -> s1.intersection_update(s2)\n",
    "* s1 -= s2 -> s1.difference_update(s2)\n",
    "* s1 ^= s2 -> s1.symmetric_difference_update(s2)"
   ],
   "cell_type": "markdown",
   "metadata": {}
  },
  {
   "cell_type": "code",
   "execution_count": 60,
   "metadata": {},
   "outputs": [
    {
     "output_type": "stream",
     "name": "stdout",
     "text": [
      "{1, 2, 3, 4, 5}\n{1, 2, 3, 4, 5}\n"
     ]
    }
   ],
   "source": [
    "s1={5,2,3}\n",
    "s2={1,2,3}\n",
    "s3={1,2,3,4}\n",
    "d1={5,2,3}\n",
    "d2={1,2,3}\n",
    "d3={1,2,3,4}\n",
    "s1.update(s2,s3)\n",
    "print(s1)\n",
    "d1|=d2|d3\n",
    "print(d1)"
   ]
  },
  {
   "cell_type": "code",
   "execution_count": 61,
   "metadata": {},
   "outputs": [
    {
     "output_type": "stream",
     "name": "stdout",
     "text": [
      "{2, 3}\n{2, 3}\n"
     ]
    }
   ],
   "source": [
    "s1={5,2,3}\n",
    "s2={1,2,3}\n",
    "s3={1,2,3,4}\n",
    "d1={5,2,3}\n",
    "d2={1,2,3}\n",
    "d3={1,2,3,4}\n",
    "s1.intersection_update(s2,s3)\n",
    "print(s1)\n",
    "d1&=d2&d3\n",
    "print(d1)"
   ]
  },
  {
   "cell_type": "code",
   "execution_count": 62,
   "metadata": {},
   "outputs": [
    {
     "output_type": "stream",
     "name": "stdout",
     "text": [
      "{5}\n{2, 3, 5}\n"
     ]
    }
   ],
   "source": [
    "# becareful set difference is not commutative\n",
    "s1={5,2,3}\n",
    "s2={1,2,3}\n",
    "s3={1,2,3,4}\n",
    "d1={5,2,3}\n",
    "d2={1,2,3}\n",
    "d3={1,2,3,4}\n",
    "s1.difference_update(s2,s3)\n",
    "print(s1)\n",
    "d1-=d2-d3\n",
    "print(d1)"
   ]
  },
  {
   "source": [
    "# copying sets"
   ],
   "cell_type": "markdown",
   "metadata": {}
  },
  {
   "cell_type": "code",
   "execution_count": 77,
   "metadata": {},
   "outputs": [
    {
     "output_type": "stream",
     "name": "stdout",
     "text": [
      "[(Person(name=john), 2526171321352), (3, 140728310446160), (Person(name=andres), 2526171321864)]\n[(Person(name=john), 2526171321352), (3, 140728310446160), (Person(name=andres), 2526171321864)]\n"
     ]
    }
   ],
   "source": [
    "# shallow copies\n",
    "class Person:\n",
    "    def __init__(self,name):\n",
    "        self.name = name\n",
    "    def __repr__(self):\n",
    "        return f'Person(name={self.name})'\n",
    "\n",
    "p1 = Person('john')\n",
    "p2 = Person('andres')\n",
    "s1={p1,p2,3}\n",
    "s2=s1.copy()\n",
    "print([(i,id(i)) for i in s1])\n",
    "print([(i,id(i)) for i in s2])"
   ]
  },
  {
   "cell_type": "code",
   "execution_count": 76,
   "metadata": {},
   "outputs": [
    {
     "output_type": "stream",
     "name": "stdout",
     "text": [
      "[(Person(name=john), 2526166190344), (3, 140728310446160), (Person(name=andres), 2526166192072)]\n[(Person(name=andres), 2526167119880), (3, 140728310446160), (Person(name=john), 2526167119944)]\n"
     ]
    }
   ],
   "source": [
    "# deep copies\n",
    "from copy import deepcopy\n",
    "class Person:\n",
    "    def __init__(self,name):\n",
    "        self.name = name\n",
    "    def __repr__(self):\n",
    "        return f'Person(name={self.name})'\n",
    "\n",
    "p1 = Person('john')\n",
    "p2 = Person('andres')\n",
    "s1={p1,p2,3}\n",
    "s2=deepcopy(s1)\n",
    "print([(i,id(i)) for i in s1])\n",
    "print([(i,id(i)) for i in s2])"
   ]
  },
  {
   "source": [
    "# frozen sets"
   ],
   "cell_type": "markdown",
   "metadata": {}
  },
  {
   "cell_type": "code",
   "execution_count": null,
   "metadata": {},
   "outputs": [],
   "source": []
  },
  {
   "cell_type": "code",
   "execution_count": 79,
   "metadata": {},
   "outputs": [
    {
     "output_type": "error",
     "ename": "TypeError",
     "evalue": "unhashable type: 'set'",
     "traceback": [
      "\u001b[1;31m---------------------------------------------------------------------------\u001b[0m",
      "\u001b[1;31mTypeError\u001b[0m                                 Traceback (most recent call last)",
      "\u001b[1;32m<ipython-input-79-e864871762ff>\u001b[0m in \u001b[0;36m<module>\u001b[1;34m\u001b[0m\n\u001b[0;32m      2\u001b[0m \u001b[0mtype\u001b[0m\u001b[1;33m(\u001b[0m\u001b[0ms1\u001b[0m\u001b[1;33m)\u001b[0m\u001b[1;33m\u001b[0m\u001b[1;33m\u001b[0m\u001b[0m\n\u001b[0;32m      3\u001b[0m \u001b[0mid\u001b[0m\u001b[1;33m(\u001b[0m\u001b[0ms1\u001b[0m\u001b[1;33m)\u001b[0m\u001b[1;33m\u001b[0m\u001b[1;33m\u001b[0m\u001b[0m\n\u001b[1;32m----> 4\u001b[1;33m \u001b[0mhash\u001b[0m\u001b[1;33m(\u001b[0m\u001b[0ms1\u001b[0m\u001b[1;33m)\u001b[0m\u001b[1;33m\u001b[0m\u001b[1;33m\u001b[0m\u001b[0m\n\u001b[0m",
      "\u001b[1;31mTypeError\u001b[0m: unhashable type: 'set'"
     ]
    }
   ],
   "source": [
    "s1 = {'a','b','c'}\n",
    "type(s1)\n",
    "id(s1)\n",
    "hash(s1)"
   ]
  },
  {
   "cell_type": "code",
   "execution_count": 82,
   "metadata": {},
   "outputs": [
    {
     "output_type": "stream",
     "name": "stdout",
     "text": [
      "<class 'frozenset'>\n2526165043464\n4682506371507674472\n"
     ]
    }
   ],
   "source": [
    "s2 = frozenset('abc')\n",
    "print(type(s2))\n",
    "print(id(s2))\n",
    "print(hash(s2))"
   ]
  },
  {
   "cell_type": "code",
   "execution_count": 84,
   "metadata": {},
   "outputs": [
    {
     "output_type": "stream",
     "name": "stdout",
     "text": [
      "True\n<class 'frozenset'>\n"
     ]
    }
   ],
   "source": [
    "# shallow copy\n",
    "s1 = frozenset([1,2,3])\n",
    "s2 = s1.copy()\n",
    "print(s1 is s2)\n",
    "print(type(s2))"
   ]
  },
  {
   "cell_type": "code",
   "execution_count": 85,
   "metadata": {},
   "outputs": [
    {
     "output_type": "stream",
     "name": "stdout",
     "text": [
      "False\n<class 'frozenset'>\n"
     ]
    }
   ],
   "source": [
    "# Deep copy\n",
    "from copy import deepcopy\n",
    "s1 = frozenset([1,2,3])\n",
    "s2 = deepcopy(s1)\n",
    "print(s1 is s2)\n",
    "print(type(s2))"
   ]
  },
  {
   "source": [
    "# Meoization with Frozen sets"
   ],
   "cell_type": "markdown",
   "metadata": {}
  },
  {
   "cell_type": "code",
   "execution_count": 91,
   "metadata": {},
   "outputs": [
    {
     "output_type": "stream",
     "name": "stdout",
     "text": [
      "calculating a + b\n3\n3\ncalculating a + b\n4\n"
     ]
    }
   ],
   "source": [
    "def memoizer(fn):\n",
    "    cache = {}\n",
    "    def inner(*args,**kwargs):\n",
    "        nonlocal cache\n",
    "        key = (*args, frozenset(kwargs.items()))\n",
    "        if key not in cache:\n",
    "            result = fn(*args,**kwargs)\n",
    "            cache[key] = result\n",
    "        return cache[key]\n",
    "    return inner\n",
    "\n",
    "@memoizer\n",
    "def my_func(*,a,b):\n",
    "    print('calculating a + b')\n",
    "    return a+b\n",
    "\n",
    "print(my_func(a=1,b=2))\n",
    "print(my_func(b=2,a=1))\n",
    "print(my_func(b=2,a=2))\n",
    "\n"
   ]
  },
  {
   "source": [
    "# moization for combinatorics"
   ],
   "cell_type": "markdown",
   "metadata": {}
  },
  {
   "cell_type": "code",
   "execution_count": 93,
   "metadata": {},
   "outputs": [
    {
     "output_type": "stream",
     "name": "stdout",
     "text": [
      "calculating...\n6\n6\ncalculating...\n5\n"
     ]
    }
   ],
   "source": [
    "def memoizer(fn):\n",
    "    cache = {}\n",
    "    def inner(*args,**kwargs):\n",
    "        nonlocal cache\n",
    "        key = frozenset(args) | frozenset(kwargs.items())\n",
    "        if key in cache:\n",
    "            return cache[key]\n",
    "        else:\n",
    "            result = fn(*args,**kwargs)\n",
    "            cache[key] = result\n",
    "            return result\n",
    "    return inner\n",
    "\n",
    "@memoizer\n",
    "def adder(*args):\n",
    "    print('calculating...')\n",
    "    return sum(args)\n",
    "\n",
    "print(adder(1,2,3))\n",
    "print(adder(3,2,1))\n",
    "print(adder(2,2,1))"
   ]
  },
  {
   "cell_type": "code",
   "execution_count": null,
   "metadata": {},
   "outputs": [],
   "source": []
  }
 ]
}