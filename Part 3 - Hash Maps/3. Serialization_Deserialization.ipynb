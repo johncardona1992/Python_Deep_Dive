{
 "metadata": {
  "language_info": {
   "codemirror_mode": {
    "name": "ipython",
    "version": 3
   },
   "file_extension": ".py",
   "mimetype": "text/x-python",
   "name": "python",
   "nbconvert_exporter": "python",
   "pygments_lexer": "ipython3",
   "version": "3.7.8"
  },
  "orig_nbformat": 2,
  "kernelspec": {
   "name": "python378jvsc74a57bd057ab78e5cbccfb7d81052ee73eb1fa5d31916b2ddf92535c2cf1f81bb2af6d2a",
   "display_name": "Python 3.7.8 64-bit ('computerscience': conda)"
  }
 },
 "nbformat": 4,
 "nbformat_minor": 2,
 "cells": [
  {
   "source": [
    "# Serialization and Deserialization\n",
    "* create a persistent representation of the object\n",
    "* transmit them to someone or something else outside our app"
   ],
   "cell_type": "code",
   "metadata": {},
   "execution_count": null,
   "outputs": []
  },
  {
   "source": [
    "# Pickling\n",
    "* is a binary Serialization\n",
    "* Security issues!"
   ],
   "cell_type": "code",
   "metadata": {},
   "execution_count": null,
   "outputs": []
  },
  {
   "cell_type": "code",
   "execution_count": 6,
   "metadata": {},
   "outputs": [
    {
     "output_type": "stream",
     "name": "stdout",
     "text": [
      "b'\\x80\\x03X\\r\\x00\\x00\\x00python stringq\\x00.'\npython string\n0x1b5da0b8f80\n0x1b5dc8a2230\npython string\n"
     ]
    }
   ],
   "source": [
    "import pickle\n",
    "ser = pickle.dumps('python string')\n",
    "print(ser)\n",
    "deser = pickle.loads(ser)\n",
    "print(deser)\n",
    "print(hex(id(ser)))\n",
    "print(hex(id(deser)))\n",
    "deser = pickle.loads(ser)\n",
    "print(deser)"
   ]
  },
  {
   "source": [
    "# JSON Serialization\n",
    "* it is safe"
   ],
   "cell_type": "markdown",
   "metadata": {}
  },
  {
   "cell_type": "code",
   "execution_count": 14,
   "metadata": {},
   "outputs": [
    {
     "output_type": "stream",
     "name": "stdout",
     "text": [
      "<class 'str'>\n{\n  \"a\": 100,\n  \"b\": 200\n}\nTrue\nFalse\n"
     ]
    }
   ],
   "source": [
    "import json\n",
    "d1 = {'a':100, 'b':200}\n",
    "d1_json = json.dumps(d1, indent=2)\n",
    "print(type(d1_json))\n",
    "print(d1_json)\n",
    "d2 = json.loads(d1_json)\n",
    "print(d1==d2)\n",
    "print(d1 is d2)"
   ]
  },
  {
   "cell_type": "code",
   "execution_count": 26,
   "metadata": {},
   "outputs": [
    {
     "output_type": "stream",
     "name": "stdout",
     "text": [
      "{'age': 29,\n 'boring': None,\n 'heigth': 1.87,\n 'name': 'John Cardona',\n 'sketches': [{'costarts': ['michael Palin'], 'title': 'dead Parrot'},\n              {'costarts': ['michael Palin', 'Terry Jones'],\n               'title': 'ministry of silly walks'}],\n 'walksFunny': True}\n"
     ]
    }
   ],
   "source": [
    "import json\n",
    "from pprint import pprint\n",
    "d_json = '''\n",
    "{\n",
    "    \"name\": \"John Cardona\",\n",
    "    \"age\": 29,\n",
    "    \"heigth\": 1.87,\n",
    "    \"walksFunny\": true,\n",
    "    \"sketches\": [\n",
    "        {\n",
    "            \"title\": \"dead Parrot\",\n",
    "            \"costarts\": [\"michael Palin\"]\n",
    "        },\n",
    "        {\n",
    "            \"title\": \"ministry of silly walks\",\n",
    "            \"costarts\": [\"michael Palin\",\"Terry Jones\"]\n",
    "        }\n",
    "    ],\n",
    "    \"boring\": null\n",
    "}\n",
    " '''\n",
    "d = json.loads(d_json)\n",
    "pprint(d)"
   ]
  },
  {
   "source": [
    "## Tuples are'nt recognized by json, tuples are automatically converted into lists "
   ],
   "cell_type": "markdown",
   "metadata": {}
  },
  {
   "cell_type": "code",
   "execution_count": 28,
   "metadata": {},
   "outputs": [
    {
     "output_type": "stream",
     "name": "stdout",
     "text": [
      "{'a': [1, 2, 3]}\n"
     ]
    }
   ],
   "source": [
    "import json\n",
    "d = {'a':(1,2,3)}\n",
    "ser = json.dumps(d)\n",
    "deser = json.loads(ser)\n",
    "print(deser)"
   ]
  },
  {
   "source": [
    "# Exceptions\n",
    "* Decimal is not json serializabel\n",
    "* complex is not json serializabel"
   ],
   "cell_type": "markdown",
   "metadata": {}
  },
  {
   "source": [
    "# serialize Objects"
   ],
   "cell_type": "markdown",
   "metadata": {}
  },
  {
   "cell_type": "code",
   "execution_count": 37,
   "metadata": {},
   "outputs": [
    {
     "output_type": "stream",
     "name": "stdout",
     "text": [
      "{'john': {'age': 29, 'name': 'john'}}\n"
     ]
    }
   ],
   "source": [
    "import json\n",
    "from pprint import pprint \n",
    "class Person:\n",
    "    def __init__(self,name,age):\n",
    "        self.name = name\n",
    "        self.age = age\n",
    "    def __repr__(self):\n",
    "        return f'Person(name={self.name},age={self.age}'\n",
    "    def toJSON(self):\n",
    "        return dict(name=self.name, age=self.age)\n",
    "\n",
    "p = Person('john',29)\n",
    "p_json = json.dumps({'john' : p.toJSON()})\n",
    "pprint(json.loads(p_json))\n"
   ]
  },
  {
   "source": [
    "# Custom json Encoding"
   ],
   "cell_type": "markdown",
   "metadata": {}
  },
  {
   "source": [
    "# Datetime serialization\n",
    "* ISO 8601 fromat: YYYY-MM-DDTHH:MM:SS.mmmm"
   ],
   "cell_type": "markdown",
   "metadata": {}
  },
  {
   "cell_type": "code",
   "execution_count": 40,
   "metadata": {},
   "outputs": [
    {
     "output_type": "stream",
     "name": "stdout",
     "text": [
      "2021-05-07 21:13:00.810243\n'{\"time\": \"2021-05-07T21:13:00.810243\", \"message\": \"testing\"}'\n"
     ]
    }
   ],
   "source": [
    "from datetime import datetime\n",
    "import json\n",
    "current = datetime.utcnow()\n",
    "print(current)\n",
    "log_record = {'time':datetime.utcnow().isoformat(), 'message':'testing'}\n",
    "d_json = json.dumps(log_record)\n",
    "pprint(d_json)"
   ]
  },
  {
   "cell_type": "code",
   "execution_count": 43,
   "metadata": {},
   "outputs": [
    {
     "output_type": "stream",
     "name": "stdout",
     "text": [
      "'{\"time\": \"2021-05-07T21:42:21.534914\", \"message\": \"testing\"}'\n"
     ]
    }
   ],
   "source": [
    "from datetime import datetime\n",
    "import json\n",
    "\n",
    "def custom_json_fromatter(arg):\n",
    "    if isinstance(arg,datetime):\n",
    "        return arg.isoformat()\n",
    "    elif isinstance(arg,set):\n",
    "        return list(arg)\n",
    "\n",
    "\n",
    "current = datetime.utcnow()\n",
    "log_record = {'time':current, 'message':'testing'}\n",
    "d_json = json.dumps(log_record, default=custom_json_fromatter)\n",
    "pprint(d_json)\n"
   ]
  },
  {
   "cell_type": "code",
   "execution_count": 51,
   "metadata": {},
   "outputs": [
    {
     "output_type": "stream",
     "name": "stdout",
     "text": [
      "Person(name=John, age=82)\n{'age': 82, 'create_dt': '2021-05-07T21:50:25.930114', 'name': 'John'}\n\n\n('{\"time\": \"2021-05-07T21:50:25.931121\", \"message\": \"Created new person '\n 'record.\", \"person\": {\"name\": \"John\", \"age\": 82, \"create_dt\": '\n '\"2021-05-07T21:50:25.930114\"}}')\n"
     ]
    }
   ],
   "source": [
    "from datetime import datetime\n",
    "import json\n",
    "\n",
    "class Person:\n",
    "    def __init__(self,name,age):\n",
    "        self.name = name\n",
    "        self.age = age\n",
    "        self.create_dt = datetime.utcnow()\n",
    "    def __repr__(self):\n",
    "        return f'Person(name={self.name}, age={self.age})'\n",
    "    def toJSON(self):\n",
    "        return {\n",
    "            'name':self.name,\n",
    "            'age':self.age,\n",
    "            'create_dt':self.create_dt.isoformat()\n",
    "        }\n",
    "\n",
    "def custom_json_formatter(arg):\n",
    "    if isinstance(arg,datetime):\n",
    "        return arg.isoformat()\n",
    "    elif isinstance(arg,set):\n",
    "        return list(arg)\n",
    "    elif isinstance(arg,Person):\n",
    "        return arg.toJSON()\n",
    "\n",
    "p = Person('John',82)\n",
    "print(p)\n",
    "pprint(p.toJSON())\n",
    "print('\\n')\n",
    "log_record =dict(time=datetime.utcnow(),\n",
    "                    message='Created new person record.',\n",
    "                    person=p\n",
    "                    )\n",
    "\n",
    "d_json = json.dumps(log_record, default=custom_json_formatter)\n",
    "pprint(d_json)"
   ]
  },
  {
   "source": [
    "# JSONENCODER CLASS"
   ],
   "cell_type": "markdown",
   "metadata": {}
  },
  {
   "cell_type": "code",
   "execution_count": 56,
   "metadata": {},
   "outputs": [
    {
     "output_type": "stream",
     "name": "stdout",
     "text": [
      "{\"name\": \"test\", \"time\": \"2021-05-08T01:15:37.726266\"}\n{\"a\": Infinity, \"b\": NaN}\n{'a': inf, 'b': nan}\n"
     ]
    }
   ],
   "source": [
    "import json\n",
    "from datetime import datetime\n",
    "\n",
    "class CustomJSONEncoder(json.JSONEncoder):\n",
    "    def default(self,arg):\n",
    "        if isinstance(arg,datetime):\n",
    "            return arg.isoformat()\n",
    "        else:\n",
    "            super().default(arg)\n",
    "\n",
    "print(json.dumps(dict(name='test', time=datetime.utcnow()), cls=CustomJSONEncoder))\n",
    "\n",
    "d = {\n",
    "    'a':float('inf'),\n",
    "    'b':float('nan')\n",
    "}\n",
    "ser = json.dumps(d)\n",
    "print(ser)\n",
    "deser = json.loads(ser)\n",
    "print(deser)\n",
    "print('Infinity and NAN are invalid Json')\n"
   ]
  },
  {
   "source": [
    "# use allow_nan=False to prevent invalid JSON values\n",
    "# use skipkeys=True to skip invalid JSON values"
   ],
   "cell_type": "markdown",
   "metadata": {}
  },
  {
   "source": [
    "# deal with custom separators"
   ],
   "cell_type": "markdown",
   "metadata": {}
  },
  {
   "cell_type": "code",
   "execution_count": 61,
   "metadata": {},
   "outputs": [
    {
     "output_type": "stream",
     "name": "stdout",
     "text": [
      "{'skipkeys': True, 'ensure_ascii': True, 'check_circular': True, 'allow_nan': True, 'indent': None, 'separators': None, 'default': None, 'sort_keys': False}\n{\n---\"time\"=\"2021-05-08T01:33:44.079787\";\n---\"name\"=\"python\"\n}\n"
     ]
    }
   ],
   "source": [
    "import json\n",
    "class CustomEncoder(json.JSONEncoder):\n",
    "    def __init__(self, *args, **kwargs):\n",
    "        print(kwargs)\n",
    "        super().__init__(skipkeys=kwargs['skipkeys'],\n",
    "                        allow_nan=False,\n",
    "                        indent='---',\n",
    "                        separators=(';',('='))\n",
    "                         )\n",
    "    def default(self,arg):\n",
    "        if isinstance(arg,datetime):\n",
    "            return arg.isoformat()\n",
    "        else:\n",
    "            return super().default(arg)\n",
    "d={\n",
    "    'time':datetime.utcnow(),\n",
    "    1+1j:\"complex\",\n",
    "    'name':'python'\n",
    "}\n",
    "\n",
    "ser = json.dumps(d,cls=CustomEncoder,skipkeys=True)\n",
    "print(ser)"
   ]
  },
  {
   "source": [
    "# Custom JSON DECODING"
   ],
   "cell_type": "markdown",
   "metadata": {}
  },
  {
   "cell_type": "code",
   "execution_count": 6,
   "metadata": {},
   "outputs": [
    {
     "output_type": "stream",
     "name": "stdout",
     "text": [
      "{'message': 'created this json string',\n 'time': datetime.datetime(2021, 4, 1, 9, 14)}\n"
     ]
    }
   ],
   "source": [
    "import json\n",
    "from pprint import pprint\n",
    "from datetime import datetime\n",
    "\n",
    "j = \"\"\" \n",
    "    {\n",
    "        \"time\": {\n",
    "            \"objecttype\": \"datetime\",\n",
    "            \"value\": \"2021-04-01T09:14:00\"\n",
    "        },\n",
    "        \"message\": \"created this json string\"\n",
    "    }\n",
    " \"\"\"\n",
    "d = json.loads(j)\n",
    "for key, value in d.items():\n",
    "    if (isinstance(value,dict) and\n",
    "        'objecttype' in value and\n",
    "        value['objecttype'] == 'datetime'\n",
    "        ):\n",
    "        d[key] = datetime.strptime(value['value'], '%Y-%m-%dT%H:%M:%S')\n",
    "pprint(d)"
   ]
  },
  {
   "cell_type": "code",
   "execution_count": 13,
   "metadata": {},
   "outputs": [
    {
     "output_type": "stream",
     "name": "stdout",
     "text": [
      "{'message': 'created this json string',\n 'myShare': Fraction(1, 8),\n 'times': {'created': datetime.datetime(2021, 4, 1, 9, 14),\n           'updated': datetime.datetime(2021, 5, 2, 10, 15)}}\n"
     ]
    }
   ],
   "source": [
    "import json\n",
    "from pprint import pprint\n",
    "from datetime import datetime\n",
    "from fractions import  Fraction\n",
    "\n",
    "def custom_decoder(arg):\n",
    "    if 'objecttype' in arg:\n",
    "        if arg['objecttype'] == 'datetime':\n",
    "            return datetime.strptime(arg['value'], '%Y-%m-%dT%H:%M:%S')\n",
    "        elif arg['objecttype'] == 'fraction':\n",
    "            return Fraction(arg['numerator'], arg['denominator'])\n",
    "    return arg\n",
    "\n",
    "j = \"\"\" \n",
    "    {\n",
    "        \"times\": {\n",
    "            \"created\": {\n",
    "                \"objecttype\": \"datetime\",\n",
    "                \"value\": \"2021-04-01T09:14:00\"\n",
    "                },\n",
    "            \"updated\": {\n",
    "                \"objecttype\": \"datetime\",\n",
    "                \"value\": \"2021-05-02T10:15:00\"\n",
    "                }\n",
    "        },\n",
    "        \"myShare\": {\n",
    "            \"objecttype\": \"fraction\",\n",
    "            \"numerator\": 1,\n",
    "            \"denominator\": 8 \n",
    "        },\n",
    "        \"message\": \"created this json string\"\n",
    "    }\n",
    " \"\"\"\n",
    "\n",
    "d = json.loads(j, object_hook=custom_decoder)\n",
    "pprint(d)"
   ]
  },
  {
   "cell_type": "code",
   "execution_count": 24,
   "metadata": {},
   "outputs": [
    {
     "output_type": "stream",
     "name": "stdout",
     "text": [
      "{'accountHolder': Person(name=Eric Idle, ssn=100),\n 'created': datetime.datetime(2021, 4, 1, 9, 14)}\n"
     ]
    }
   ],
   "source": [
    "import json\n",
    "from pprint import pprint\n",
    "from datetime import datetime\n",
    "from fractions import  Fraction\n",
    "\n",
    "class Person:\n",
    "    def __init__(self,name,ssn):\n",
    "        self.name = name\n",
    "        self.ssn = ssn\n",
    "    def __repr__(self):\n",
    "        return f'Person(name={self.name}, ssn={self.ssn})'\n",
    "    def toJSON(self):\n",
    "        return dict(objecttype='person', name=self.name, ssn=self.ssn)\n",
    "\n",
    "def custom_decoder(arg):\n",
    "    if 'objecttype' in arg:\n",
    "        if arg['objecttype'] == 'datetime':\n",
    "            return datetime.strptime(arg['value'], '%Y-%m-%dT%H:%M:%S')\n",
    "        elif arg['objecttype'] == 'fraction':\n",
    "            return Fraction(arg['numerator'], arg['denominator'])\n",
    "        elif arg['objecttype'] == 'person':\n",
    "            return Person(arg['name'], arg['ssn'])\n",
    "        return arg\n",
    "    return arg\n",
    "j = '''\n",
    "    {\n",
    "        \"accountHolder\": {\n",
    "            \"objecttype\": \"person\",\n",
    "            \"name\": \"Eric Idle\",\n",
    "            \"ssn\": 100\n",
    "        },\n",
    "        \"created\": {\n",
    "            \"objecttype\": \"datetime\",\n",
    "            \"value\": \"2021-04-01T09:14:00\"\n",
    "        }\n",
    "    }\n",
    "'''\n",
    "\n",
    "d = json.loads(j, object_hook=custom_decoder)\n",
    "pprint(d)"
   ]
  },
  {
   "source": [
    "# Parsing"
   ],
   "cell_type": "markdown",
   "metadata": {}
  },
  {
   "cell_type": "code",
   "execution_count": 36,
   "metadata": {},
   "outputs": [
    {
     "output_type": "stream",
     "name": "stdout",
     "text": [
      "{'a': '0b1100100',\n 'b': Decimal('0.2'),\n 'c': Decimal('0.4'),\n 'd': None,\n 'e': None,\n 'f': None}\nHelp on function loads in module json:\n\nloads(s, *, encoding=None, cls=None, object_hook=None, parse_float=None, parse_int=None, parse_constant=None, object_pairs_hook=None, **kw)\n    Deserialize ``s`` (a ``str``, ``bytes`` or ``bytearray`` instance\n    containing a JSON document) to a Python object.\n    \n    ``object_hook`` is an optional function that will be called with the\n    result of any object literal decode (a ``dict``). The return value of\n    ``object_hook`` will be used instead of the ``dict``. This feature\n    can be used to implement custom decoders (e.g. JSON-RPC class hinting).\n    \n    ``object_pairs_hook`` is an optional function that will be called with the\n    result of any object literal decoded with an ordered list of pairs.  The\n    return value of ``object_pairs_hook`` will be used instead of the ``dict``.\n    This feature can be used to implement custom decoders.  If ``object_hook``\n    is also defined, the ``object_pairs_hook`` takes priority.\n    \n    ``parse_float``, if specified, will be called with the string\n    of every JSON float to be decoded. By default this is equivalent to\n    float(num_str). This can be used to use another datatype or parser\n    for JSON floats (e.g. decimal.Decimal).\n    \n    ``parse_int``, if specified, will be called with the string\n    of every JSON int to be decoded. By default this is equivalent to\n    int(num_str). This can be used to use another datatype or parser\n    for JSON integers (e.g. float).\n    \n    ``parse_constant``, if specified, will be called with one of the\n    following strings: -Infinity, Infinity, NaN.\n    This can be used to raise an exception if invalid JSON numbers\n    are encountered.\n    \n    To use a custom ``JSONDecoder`` subclass, specify it with the ``cls``\n    kwarg; otherwise ``JSONDecoder`` is used.\n    \n    The ``encoding`` argument is ignored and deprecated.\n\nNone\n"
     ]
    }
   ],
   "source": [
    "from decimal import Decimal \n",
    "def myparse_decimal(arg):\n",
    "    return Decimal(arg)\n",
    "def myparse_int_binary(arg):\n",
    "    return bin(int(arg))\n",
    "def myparse_none(arg):\n",
    "    return None\n",
    "\n",
    "j=\"\"\" \n",
    "    {\n",
    "        \"a\": 100,\n",
    "        \"b\": 0.2,\n",
    "        \"c\": 0.4,\n",
    "        \"d\": null,\n",
    "        \"e\": Infinity,\n",
    "        \"f\": NaN\n",
    "    }\n",
    " \"\"\"\n",
    "d = json.loads(j, parse_int=myparse_int_binary, parse_float=myparse_decimal,parse_constant=myparse_none)\n",
    "pprint(d) \n",
    "print(help(json.loads))"
   ]
  },
  {
   "source": [
    "# JSONDecoder"
   ],
   "cell_type": "markdown",
   "metadata": {}
  },
  {
   "source": [
    "import json\n",
    "from pprint import pprint\n",
    "from datetime import datetime\n",
    "from fractions import  Fraction\n",
    "from decimal import  Decimal\n",
    "\n",
    "class CustomDecoder(json.JSONDecoder):\n",
    "    def decode(self,arg):\n",
    "        print(\"decode: \",type(arg),arg)\n",
    "        return \"a simple string object\"\n",
    "\n",
    "j=\"\"\" \n",
    "    {\n",
    "        \"a\": 100,\n",
    "        \"b\": [1,2,3],\n",
    "        \"c\": \"python\",\n",
    "        \"d\": {\n",
    "            \"e\": 4,\n",
    "            \"f\": 5.5\n",
    "            }\n",
    "    }\n",
    " \"\"\"\n",
    "\n",
    "d = json.loads(j, cls=CustomDecoder)\n",
    "print('-------------\\n')\n",
    "print(d)"
   ],
   "cell_type": "code",
   "metadata": {},
   "execution_count": 41,
   "outputs": [
    {
     "output_type": "stream",
     "name": "stdout",
     "text": [
      "decode:  <class 'str'>  \n    {\n        \"a\": 100,\n        \"b\": [1,2,3],\n        \"c\": \"python\",\n        \"d\": {\n            \"e\": 4,\n            \"f\": 5.5\n            }\n    }\n \n-------------\n\na simple string object\n"
     ]
    }
   ]
  },
  {
   "cell_type": "code",
   "execution_count": 49,
   "metadata": {},
   "outputs": [
    {
     "output_type": "stream",
     "name": "stdout",
     "text": [
      "{'points': [Point(x=1,y=2), Point(x=1,y=0), Point(x=-1.2,y=-2.5)]}\n\n\n{'a': 1, 'b': 2}\n"
     ]
    }
   ],
   "source": [
    "import json\n",
    "from pprint import pprint\n",
    "from datetime import datetime\n",
    "from fractions import  Fraction\n",
    "from decimal import  Decimal\n",
    "\n",
    "class Point:\n",
    "    def __init__(self,x,y):\n",
    "        self.x=x\n",
    "        self.y=y\n",
    "    def __repr__(self):\n",
    "        return f'Point(x={self.x},y={self.y})'\n",
    "\n",
    "class CustomDecoder(json.JSONDecoder):\n",
    "    def decode(self,arg):\n",
    "        obj = json.loads(arg)\n",
    "        if 'points' in obj:\n",
    "            obj['points'] = [Point(x,y)\n",
    "                            for x,y in obj['points']]\n",
    "        return obj\n",
    "\n",
    "j_points=\"\"\" \n",
    "    {\n",
    "        \"points\": [\n",
    "            [1,2],\n",
    "            [1,0],\n",
    "            [-1.2,-2.5]\n",
    "        ]\n",
    "    }\n",
    "\"\"\"\n",
    "j_others=\"\"\" \n",
    "    {\n",
    "        \"a\": 1,\n",
    "        \"b\": 2\n",
    "    }\n",
    "\"\"\"\n",
    "d = json.loads(j_points, cls=CustomDecoder)\n",
    "pprint(d)\n",
    "print('\\n')\n",
    "d = json.loads(j_others, cls=CustomDecoder)\n",
    "pprint(d)"
   ]
  },
  {
   "source": [
    "# JSON Schemas"
   ],
   "cell_type": "markdown",
   "metadata": {}
  },
  {
   "cell_type": "code",
   "execution_count": 51,
   "metadata": {},
   "outputs": [],
   "source": [
    "from jsonschema import validate\n",
    "from jsonschema.exceptions import ValidationError\n",
    "from json import loads, dumps, JSONDecodeError\n",
    "\n"
   ]
  }
 ]
}