{
 "metadata": {
  "language_info": {
   "codemirror_mode": {
    "name": "ipython",
    "version": 3
   },
   "file_extension": ".py",
   "mimetype": "text/x-python",
   "name": "python",
   "nbconvert_exporter": "python",
   "pygments_lexer": "ipython3",
   "version": "3.7.8"
  },
  "orig_nbformat": 2,
  "kernelspec": {
   "name": "python378jvsc74a57bd057ab78e5cbccfb7d81052ee73eb1fa5d31916b2ddf92535c2cf1f81bb2af6d2a",
   "display_name": "Python 3.7.8 64-bit ('computerscience': conda)"
  }
 },
 "nbformat": 4,
 "nbformat_minor": 2,
 "cells": [
  {
   "source": [
    "# Specialized Dictionaries"
   ],
   "cell_type": "markdown",
   "metadata": {}
  },
  {
   "source": [
    "# DefaultDict"
   ],
   "cell_type": "markdown",
   "metadata": {}
  },
  {
   "cell_type": "code",
   "execution_count": 6,
   "metadata": {},
   "outputs": [
    {
     "output_type": "stream",
     "name": "stdout",
     "text": [
      "0\ndefaultdict(<class 'int'>, {'h': 1, 'e': 1, 'l': 3, 'o': 2, ' ': 1, 'w': 1, 'r': 1, 's': 1, '!': 1})\n0\ndefaultdict(<class 'int'>, {'h': 1, 'e': 1, 'l': 3, 'o': 2, ' ': 1, 'w': 1, 'r': 1, 's': 1, '!': 1, 'z': 0})\ndefaultdict(<class 'int'>, {'h': 1, 'e': 1, 'l': 3, 'o': 2, ' ': 1, 'w': 1, 'r': 1, 's': 1, '!': 1})\n"
     ]
    }
   ],
   "source": [
    "from collections import defaultdict\n",
    "print(int())\n",
    "c = defaultdict(int)\n",
    "sentence = 'hello worls!'\n",
    "for s in sentence:\n",
    "    c[s]+=1\n",
    "print(c)\n",
    "print(c['z'])\n",
    "print(c)\n",
    "del(c['z'])\n",
    "print(c)"
   ]
  },
  {
   "source": [
    "# autopopulate"
   ],
   "cell_type": "markdown",
   "metadata": {}
  },
  {
   "cell_type": "code",
   "execution_count": 12,
   "metadata": {},
   "outputs": [
    {
     "output_type": "stream",
     "name": "stdout",
     "text": [
      "defaultdict(<function <lambda> at 0x000002237028E948>, {'a': 10, 'b': 23})\n"
     ]
    }
   ],
   "source": [
    "from collections import defaultdict\n",
    "c = defaultdict(lambda: '', a=10, b=23)\n",
    "print(c)"
   ]
  },
  {
   "cell_type": "code",
   "execution_count": 18,
   "metadata": {},
   "outputs": [
    {
     "output_type": "stream",
     "name": "stdout",
     "text": [
      "defaultdict(<class 'list'>,\n            {'blue': ['john', 'johnatan'],\n             'brown': ['jack'],\n             'unknown': ['juliet']})\n"
     ]
    }
   ],
   "source": [
    "from collections import defaultdict\n",
    "from pprint import pprint\n",
    "\n",
    "persons = {\n",
    "    'john': defaultdict(lambda: 'unknown', age=20,eye_color='blue'),\n",
    "    'jack': defaultdict(lambda: 'unknown', age=22,eye_color='brown'),\n",
    "    'johnatan': defaultdict(lambda: 'unknown', age=23,eye_color='blue'),\n",
    "    'juliet': defaultdict(lambda: 'unknown', age=23)\n",
    "}\n",
    "\n",
    "eye_colors = defaultdict(list)\n",
    "for person, details in persons.items():\n",
    "    eye_colors[details['eye_color']].append(person)\n",
    "pprint(eye_colors)\n",
    "\n"
   ]
  },
  {
   "cell_type": "code",
   "execution_count": 19,
   "metadata": {},
   "outputs": [
    {
     "output_type": "stream",
     "name": "stdout",
     "text": [
      "defaultdict(<class 'list'>,\n            {'blue': ['john', 'johnatan'],\n             'brown': ['jack'],\n             'unknown': ['juliet']})\n"
     ]
    }
   ],
   "source": [
    "from collections import defaultdict\n",
    "from pprint import pprint\n",
    "from functools import partial\n",
    "\n",
    "eyedict = partial(defaultdict, lambda: 'unknown')\n",
    "\n",
    "persons = {\n",
    "    'john': eyedict(age=20,eye_color='blue'),\n",
    "    'jack': eyedict(age=22,eye_color='brown'),\n",
    "    'johnatan': eyedict(age=23,eye_color='blue'),\n",
    "    'juliet': eyedict(age=23)\n",
    "}\n",
    "\n",
    "eye_colors = defaultdict(list)\n",
    "for person, details in persons.items():\n",
    "    eye_colors[details['eye_color']].append(person)\n",
    "pprint(eye_colors)\n",
    "\n"
   ]
  },
  {
   "source": [
    "# OrderedDict\n",
    "* prior python 3.6 key insertion order was not guaranteed for dictionaries\n",
    "* still has a few tricks:   - support reverse iteration\n",
    "                            - pop first or last item in dict\n",
    "                            - move item to beginning or end of dict"
   ],
   "cell_type": "markdown",
   "metadata": {}
  },
  {
   "cell_type": "code",
   "execution_count": 27,
   "metadata": {},
   "outputs": [
    {
     "output_type": "stream",
     "name": "stdout",
     "text": [
      "OrderedDict([('a', 'hello'), ('b', 'world'), ('c', 'python')])\na\nb\nc\n\n\nc\nb\na\n\n\nOrderedDict([('b', 'world'), ('c', 'python'), ('a', 'hello')])\n"
     ]
    }
   ],
   "source": [
    "from collections import OrderedDict\n",
    "d = OrderedDict()\n",
    "d['a'] = 'hello'\n",
    "d['b'] = 'world'\n",
    "d['c'] = 'python'\n",
    "\n",
    "print(d)\n",
    "\n",
    "for key in d:\n",
    "    print(key)\n",
    "print('\\n')\n",
    "for key in reversed(d):\n",
    "    print(key)\n",
    "\n",
    "d.move_to_end('a')\n",
    "print('\\n')\n",
    "print(d)"
   ]
  },
  {
   "source": [
    "# counter\n",
    "* acts like a defaultdict and with a default of 0\n",
    "* useful to find the n most common items (by count)"
   ],
   "cell_type": "markdown",
   "metadata": {}
  },
  {
   "cell_type": "code",
   "execution_count": 35,
   "metadata": {},
   "outputs": [
    {
     "output_type": "stream",
     "name": "stdout",
     "text": [
      "Counter({'t': 2, 'h': 2, ' ': 2, 'o': 2, 'e': 1, 'p': 1, 'y': 1, 'n': 1, 'w': 1, 'r': 1, 'l': 1, 'd': 1})\n\n\nCounter({2: 3, 3: 3, 1: 2, 4: 1, 5: 1, 6: 1})\n[1, 1, 2, 2, 2, 3, 3, 3, 4, 5, 6]\n"
     ]
    }
   ],
   "source": [
    "from collections import Counter\n",
    "sentence = 'the python world'\n",
    "counter = Counter()\n",
    "for c in sentence:\n",
    "    counter[c]+=1\n",
    "print(counter)\n",
    "print('\\n')\n",
    "c1 = Counter([1,2,3,1,2,3,2,3,4,5,6])\n",
    "print(c1)\n",
    "print(list(c1.elements()))"
   ]
  },
  {
   "source": [
    "# ChainMap\n",
    "* Careful! key order is not guarantee"
   ],
   "cell_type": "markdown",
   "metadata": {}
  },
  {
   "cell_type": "code",
   "execution_count": 40,
   "metadata": {},
   "outputs": [
    {
     "output_type": "stream",
     "name": "stdout",
     "text": [
      "ChainMap({'a': 1, 'b': 2}, {'c': 3, 'd': 4}, {'e': 4, 'f': 6})\nFalse\ne 4\nf 6\nc 3\nd 4\na 1\nb 2\n"
     ]
    }
   ],
   "source": [
    "from collections import ChainMap\n",
    "d1={'a':1, 'b':2}\n",
    "d2={'c':3, 'd':4}\n",
    "d3={'e':4, 'f':6}\n",
    "\n",
    "d = ChainMap(d1,d2,d3)\n",
    "print(d)\n",
    "print(isinstance(d,dict))\n",
    "for k,v in d.items():\n",
    "    print(k,v)\n"
   ]
  },
  {
   "source": [
    "# UserDict\n",
    "* Custom dictionary: a dict that allows certain types of keys"
   ],
   "cell_type": "markdown",
   "metadata": {}
  },
  {
   "cell_type": "code",
   "execution_count": 41,
   "metadata": {},
   "outputs": [
    {
     "output_type": "stream",
     "name": "stdout",
     "text": [
      "Help on class UserDict in module collections:\n\nclass UserDict(collections.abc.MutableMapping)\n |  UserDict(*args, **kwargs)\n |  \n |  Method resolution order:\n |      UserDict\n |      collections.abc.MutableMapping\n |      collections.abc.Mapping\n |      collections.abc.Collection\n |      collections.abc.Sized\n |      collections.abc.Iterable\n |      collections.abc.Container\n |      builtins.object\n |  \n |  Methods defined here:\n |  \n |  __contains__(self, key)\n |      # Modify __contains__ to work correctly when __missing__ is present\n |  \n |  __copy__(self)\n |  \n |  __delitem__(self, key)\n |  \n |  __getitem__(self, key)\n |  \n |  __init__(*args, **kwargs)\n |      Initialize self.  See help(type(self)) for accurate signature.\n |  \n |  __iter__(self)\n |  \n |  __len__(self)\n |  \n |  __repr__(self)\n |      Return repr(self).\n |  \n |  __setitem__(self, key, item)\n |  \n |  copy(self)\n |  \n |  ----------------------------------------------------------------------\n |  Class methods defined here:\n |  \n |  fromkeys(iterable, value=None) from abc.ABCMeta\n |  \n |  ----------------------------------------------------------------------\n |  Data descriptors defined here:\n |  \n |  __dict__\n |      dictionary for instance variables (if defined)\n |  \n |  __weakref__\n |      list of weak references to the object (if defined)\n |  \n |  ----------------------------------------------------------------------\n |  Data and other attributes defined here:\n |  \n |  __abstractmethods__ = frozenset()\n |  \n |  ----------------------------------------------------------------------\n |  Methods inherited from collections.abc.MutableMapping:\n |  \n |  clear(self)\n |      D.clear() -> None.  Remove all items from D.\n |  \n |  pop(self, key, default=<object object at 0x000002236A9F7140>)\n |      D.pop(k[,d]) -> v, remove specified key and return the corresponding value.\n |      If key is not found, d is returned if given, otherwise KeyError is raised.\n |  \n |  popitem(self)\n |      D.popitem() -> (k, v), remove and return some (key, value) pair\n |      as a 2-tuple; but raise KeyError if D is empty.\n |  \n |  setdefault(self, key, default=None)\n |      D.setdefault(k[,d]) -> D.get(k,d), also set D[k]=d if k not in D\n |  \n |  update(*args, **kwds)\n |      D.update([E, ]**F) -> None.  Update D from mapping/iterable E and F.\n |      If E present and has a .keys() method, does:     for k in E: D[k] = E[k]\n |      If E present and lacks .keys() method, does:     for (k, v) in E: D[k] = v\n |      In either case, this is followed by: for k, v in F.items(): D[k] = v\n |  \n |  ----------------------------------------------------------------------\n |  Methods inherited from collections.abc.Mapping:\n |  \n |  __eq__(self, other)\n |      Return self==value.\n |  \n |  get(self, key, default=None)\n |      D.get(k[,d]) -> D[k] if k in D, else d.  d defaults to None.\n |  \n |  items(self)\n |      D.items() -> a set-like object providing a view on D's items\n |  \n |  keys(self)\n |      D.keys() -> a set-like object providing a view on D's keys\n |  \n |  values(self)\n |      D.values() -> an object providing a view on D's values\n |  \n |  ----------------------------------------------------------------------\n |  Data and other attributes inherited from collections.abc.Mapping:\n |  \n |  __hash__ = None\n |  \n |  __reversed__ = None\n |  \n |  ----------------------------------------------------------------------\n |  Class methods inherited from collections.abc.Collection:\n |  \n |  __subclasshook__(C) from abc.ABCMeta\n |      Abstract classes can override this to customize issubclass().\n |      \n |      This is invoked early on by abc.ABCMeta.__subclasscheck__().\n |      It should return True, False or NotImplemented.  If it returns\n |      NotImplemented, the normal algorithm is used.  Otherwise, it\n |      overrides the normal algorithm (and the outcome is cached).\n\nNone\n"
     ]
    }
   ],
   "source": [
    "from collections import UserDict\n",
    "print(help(UserDict))"
   ]
  },
  {
   "cell_type": "code",
   "execution_count": 44,
   "metadata": {},
   "outputs": [
    {
     "output_type": "error",
     "ename": "ValueError",
     "evalue": "value must  be a real number!!!",
     "traceback": [
      "\u001b[1;31m---------------------------------------------------------------------------\u001b[0m",
      "\u001b[1;31mValueError\u001b[0m                                Traceback (most recent call last)",
      "\u001b[1;32m<ipython-input-44-983cefdea113>\u001b[0m in \u001b[0;36m<module>\u001b[1;34m\u001b[0m\n\u001b[0;32m     12\u001b[0m \u001b[0md\u001b[0m\u001b[1;33m[\u001b[0m\u001b[1;34m'a'\u001b[0m\u001b[1;33m]\u001b[0m \u001b[1;33m=\u001b[0m \u001b[1;36m10.5\u001b[0m\u001b[1;33m\u001b[0m\u001b[1;33m\u001b[0m\u001b[0m\n\u001b[0;32m     13\u001b[0m \u001b[0md\u001b[0m\u001b[1;33m[\u001b[0m\u001b[1;34m'b'\u001b[0m\u001b[1;33m]\u001b[0m \u001b[1;33m=\u001b[0m \u001b[1;36m100.5\u001b[0m\u001b[1;33m\u001b[0m\u001b[1;33m\u001b[0m\u001b[0m\n\u001b[1;32m---> 14\u001b[1;33m \u001b[0md\u001b[0m\u001b[1;33m[\u001b[0m\u001b[1;34m'c'\u001b[0m\u001b[1;33m]\u001b[0m \u001b[1;33m=\u001b[0m \u001b[1;34m'python'\u001b[0m\u001b[1;33m\u001b[0m\u001b[1;33m\u001b[0m\u001b[0m\n\u001b[0m",
      "\u001b[1;32m<ipython-input-44-983cefdea113>\u001b[0m in \u001b[0;36m__setitem__\u001b[1;34m(self, key, value)\u001b[0m\n\u001b[0;32m      4\u001b[0m     \u001b[1;32mdef\u001b[0m \u001b[0m__setitem__\u001b[0m\u001b[1;33m(\u001b[0m\u001b[0mself\u001b[0m\u001b[1;33m,\u001b[0m\u001b[0mkey\u001b[0m\u001b[1;33m,\u001b[0m\u001b[0mvalue\u001b[0m\u001b[1;33m)\u001b[0m\u001b[1;33m:\u001b[0m\u001b[1;33m\u001b[0m\u001b[1;33m\u001b[0m\u001b[0m\n\u001b[0;32m      5\u001b[0m         \u001b[1;32mif\u001b[0m \u001b[1;32mnot\u001b[0m \u001b[0misinstance\u001b[0m\u001b[1;33m(\u001b[0m\u001b[0mvalue\u001b[0m\u001b[1;33m,\u001b[0m\u001b[0mReal\u001b[0m\u001b[1;33m)\u001b[0m\u001b[1;33m:\u001b[0m\u001b[1;33m\u001b[0m\u001b[1;33m\u001b[0m\u001b[0m\n\u001b[1;32m----> 6\u001b[1;33m             \u001b[1;32mraise\u001b[0m \u001b[0mValueError\u001b[0m\u001b[1;33m(\u001b[0m\u001b[1;34m'value must  be a real number!!!'\u001b[0m\u001b[1;33m)\u001b[0m\u001b[1;33m\u001b[0m\u001b[1;33m\u001b[0m\u001b[0m\n\u001b[0m\u001b[0;32m      7\u001b[0m         \u001b[0msuper\u001b[0m\u001b[1;33m(\u001b[0m\u001b[1;33m)\u001b[0m\u001b[1;33m.\u001b[0m\u001b[0m__setitem__\u001b[0m\u001b[1;33m(\u001b[0m\u001b[0mkey\u001b[0m\u001b[1;33m,\u001b[0m\u001b[0mvalue\u001b[0m\u001b[1;33m)\u001b[0m\u001b[1;33m\u001b[0m\u001b[1;33m\u001b[0m\u001b[0m\n\u001b[0;32m      8\u001b[0m     \u001b[1;32mdef\u001b[0m \u001b[0m__getitem__\u001b[0m\u001b[1;33m(\u001b[0m\u001b[0mself\u001b[0m\u001b[1;33m,\u001b[0m\u001b[0mkey\u001b[0m\u001b[1;33m)\u001b[0m\u001b[1;33m:\u001b[0m\u001b[1;33m\u001b[0m\u001b[1;33m\u001b[0m\u001b[0m\n",
      "\u001b[1;31mValueError\u001b[0m: value must  be a real number!!!"
     ]
    }
   ],
   "source": [
    "from numbers import Real\n",
    "from collections import UserDict\n",
    "class IntDict(UserDict):\n",
    "    def __setitem__(self,key,value):\n",
    "        if not isinstance(value,Real):\n",
    "            raise ValueError('value must  be a real number!!!')\n",
    "        super().__setitem__(key,value)\n",
    "    def __getitem__(self,key):\n",
    "        return int(super().__getitem__(key))\n",
    "\n",
    "d = IntDict()\n",
    "d['a'] = 10.5\n",
    "d['b'] = 100.5\n",
    "d['c'] = 'python'"
   ]
  }
 ]
}