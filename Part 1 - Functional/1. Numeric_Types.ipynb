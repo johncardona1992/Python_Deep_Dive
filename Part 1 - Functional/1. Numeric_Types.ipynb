{
 "metadata": {
  "language_info": {
   "codemirror_mode": {
    "name": "ipython",
    "version": 3
   },
   "file_extension": ".py",
   "mimetype": "text/x-python",
   "name": "python",
   "nbconvert_exporter": "python",
   "pygments_lexer": "ipython3",
   "version": "3.7.8"
  },
  "orig_nbformat": 2,
  "kernelspec": {
   "name": "python378jvsc74a57bd057ab78e5cbccfb7d81052ee73eb1fa5d31916b2ddf92535c2cf1f81bb2af6d2a",
   "display_name": "Python 3.7.8 64-bit"
  }
 },
 "nbformat": 4,
 "nbformat_minor": 2,
 "cells": [
  {
   "source": [
    "## Integers"
   ],
   "cell_type": "markdown",
   "metadata": {}
  },
  {
   "cell_type": "code",
   "execution_count": 9,
   "metadata": {},
   "outputs": [
    {
     "output_type": "stream",
     "name": "stdout",
     "text": [
      "5\n5\n0x7fffc7b33890\n0x7fffc7b33890\n"
     ]
    }
   ],
   "source": [
    "a = int(\"101\",base=2)\n",
    "b = int(5)\n",
    "print(a)\n",
    "print(b)\n",
    "print(hex(id(a)))\n",
    "print(hex(id(b)))"
   ]
  },
  {
   "source": [
    "## Base Conversion\n",
    "change number from base 10 to binary"
   ],
   "cell_type": "markdown",
   "metadata": {}
  },
  {
   "cell_type": "code",
   "execution_count": 13,
   "metadata": {},
   "outputs": [
    {
     "output_type": "stream",
     "name": "stdout",
     "text": [
      "0b101\n0x5\n"
     ]
    }
   ],
   "source": [
    "a = bin(5)\n",
    "b = hex(5)\n",
    "print(a)\n",
    "print(b)"
   ]
  },
  {
   "source": [
    "## Rational numbers\n"
   ],
   "cell_type": "markdown",
   "metadata": {}
  },
  {
   "cell_type": "code",
   "execution_count": 4,
   "metadata": {},
   "outputs": [
    {
     "output_type": "stream",
     "name": "stdout",
     "text": [
      "1/8\n1/8\n"
     ]
    }
   ],
   "source": [
    "from fractions import Fraction\n",
    "a = Fraction(1,8)\n",
    "b = Fraction('0.125')\n",
    "print (a)\n",
    "print (b)"
   ]
  },
  {
   "cell_type": "code",
   "execution_count": 7,
   "metadata": {},
   "outputs": [
    {
     "output_type": "stream",
     "name": "stdout",
     "text": [
      "0.300000000000000\n0.2999999999999999888977698\n"
     ]
    }
   ],
   "source": [
    "#precision in python\n",
    "b = 0.3\n",
    "print(format(b, '0.15f'))\n",
    "print(format(b, '0.25f'))"
   ]
  },
  {
   "source": [
    "## FLOAT CLASS\n",
    "equivalent to C double that implements IEEE 754 double/precision binary float, also called binary64"
   ],
   "cell_type": "markdown",
   "metadata": {}
  },
  {
   "cell_type": "code",
   "execution_count": 8,
   "metadata": {},
   "outputs": [
    {
     "output_type": "stream",
     "name": "stdout",
     "text": [
      "3.142857142857143\n"
     ]
    }
   ],
   "source": [
    "from fractions import Fraction\n",
    "a = Fraction('22/7')\n",
    "print(float(a))"
   ]
  },
  {
   "cell_type": "code",
   "execution_count": 15,
   "metadata": {},
   "outputs": [
    {
     "output_type": "stream",
     "name": "stdout",
     "text": [
      "0.3000000000000000444089210\n0.2999999999999999888977698\nFalse\nTrue\nHelp on built-in function round in module builtins:\n\nround(number, ndigits=None)\n    Round a number to a given precision in decimal digits.\n    \n    The return value is an integer if ndigits is omitted or None.  Otherwise\n    the return value has the same type as the number.  ndigits may be negative.\n\nNone\n"
     ]
    }
   ],
   "source": [
    "##Float aproximations\n",
    "a = 0.1 +0.1 +0.1\n",
    "b = 0.3\n",
    "print(format(a, '.25f'))\n",
    "print(format(b, '.25f'))\n",
    "print (a == b)\n",
    "print(round(a,5) == round(b,5))\n",
    "print(help(round))"
   ]
  },
  {
   "source": [
    "## Decimals\n",
    "alternatiuve to using Float type avoiding apporximation issues."
   ],
   "cell_type": "markdown",
   "metadata": {}
  },
  {
   "cell_type": "code",
   "execution_count": 39,
   "metadata": {},
   "outputs": [
    {
     "output_type": "stream",
     "name": "stdout",
     "text": [
      "Global Context: \n\nContext(prec=28, rounding=ROUND_HALF_EVEN, Emin=-999999, Emax=999999, capitals=1, clamp=0, flags=[Inexact, Rounded], traps=[InvalidOperation, DivisionByZero, Overflow])\n\nLocal Context: \n\nContext(prec=6, rounding=ROUND_HALF_UP, Emin=-999999, Emax=999999, capitals=1, clamp=0, flags=[Inexact, Rounded], traps=[InvalidOperation, DivisionByZero, Overflow])\n1.26\n1.36\n-3.14\n1.26\n1.36\n-3.14\n<class 'decimal.Decimal'>\n<class 'decimal.Decimal'>\n<class 'decimal.Decimal'>\n"
     ]
    }
   ],
   "source": [
    "import decimal\n",
    "from decimal import Decimal\n",
    "\n",
    "print('Global Context: \\n')\n",
    "print(decimal.getcontext())\n",
    "x = Decimal('1.255')\n",
    "y = Decimal('1.355')\n",
    "z = Decimal((1, (3,1,4,1,5), -4))\n",
    "with decimal.localcontext() as ctx:\n",
    "    ctx.prec = 6\n",
    "    ctx.rounding = decimal.ROUND_HALF_UP\n",
    "    print('\\nLocal Context: \\n')\n",
    "    print(ctx)\n",
    "    print(round(x,2))\n",
    "    print(round(y,2))\n",
    "    print(round(z,2))\n",
    "print(round(x,2))\n",
    "print(round(y,2))\n",
    "print(round(z,2))\n",
    "print(type(x))\n",
    "print(type(y))\n",
    "print(type(z))"
   ]
  },
  {
   "source": [
    "## BOOL CLASS"
   ],
   "cell_type": "markdown",
   "metadata": {}
  },
  {
   "source": [
    "### bool is a derived class from int Class\n"
   ],
   "cell_type": "markdown",
   "metadata": {}
  },
  {
   "cell_type": "code",
   "execution_count": 41,
   "metadata": {},
   "outputs": [
    {
     "output_type": "stream",
     "name": "stdout",
     "text": [
      "True\n"
     ]
    }
   ],
   "source": [
    "print(issubclass(bool, int))"
   ]
  },
  {
   "source": [
    "### True and False are Singletons"
   ],
   "cell_type": "markdown",
   "metadata": {}
  },
  {
   "cell_type": "code",
   "execution_count": 44,
   "metadata": {},
   "outputs": [
    {
     "output_type": "stream",
     "name": "stdout",
     "text": [
      "True\n0x7ffff8754020\n0x7ffff8754020\nTrue\nFalse\n"
     ]
    }
   ],
   "source": [
    "a = True\n",
    "b = (1==1)\n",
    "print(a is b)\n",
    "print(hex(id(a)))\n",
    "print(hex(id(b)))\n"
   ]
  },
  {
   "source": [
    "### booleans behave like ints 1 and 0 but are not the same"
   ],
   "cell_type": "markdown",
   "metadata": {}
  },
  {
   "cell_type": "code",
   "execution_count": 45,
   "metadata": {},
   "outputs": [
    {
     "output_type": "stream",
     "name": "stdout",
     "text": [
      "True\nFalse\n2\n"
     ]
    }
   ],
   "source": [
    "print(True == 1)\n",
    "print(True is 1)\n",
    "print(True + False + True)"
   ]
  },
  {
   "source": [
    "### bool is used to check if an object is empty"
   ],
   "cell_type": "markdown",
   "metadata": {}
  },
  {
   "cell_type": "code",
   "execution_count": 3,
   "metadata": {},
   "outputs": [
    {
     "output_type": "stream",
     "name": "stdout",
     "text": [
      "False\nTrue\nFalse\nerror div0\nerror div0\n0\nerror div0\n"
     ]
    }
   ],
   "source": [
    "print(bool([]))\n",
    "print(bool([1,2]))\n",
    "print(bool(None))\n",
    "a = 2\n",
    "b = 0\n",
    "if b:\n",
    "   print(str(a/b))\n",
    "else: \n",
    "   print('error div0')\n",
    "\n",
    "#Fancy way\n",
    "print((b and str(a/b)) or 'error div0')\n",
    "print(b and (str(a/b) or 'error div0'))\n",
    "print(b and str(a/b) or 'error div0')"
   ]
  },
  {
   "source": [
    "Definition of or in python\n",
    "* x is false, return evaluate(y)\n",
    "* x is true, return evaluate(x)\n",
    "\n",
    "Definition of and in python\n",
    "* x is false, return evaluate(x)\n",
    "* x is true, return evaluate(y)\n"
   ],
   "cell_type": "markdown",
   "metadata": {}
  },
  {
   "cell_type": "code",
   "execution_count": null,
   "metadata": {},
   "outputs": [],
   "source": []
  }
 ]
}