{
 "metadata": {
  "language_info": {
   "codemirror_mode": {
    "name": "ipython",
    "version": 3
   },
   "file_extension": ".py",
   "mimetype": "text/x-python",
   "name": "python",
   "nbconvert_exporter": "python",
   "pygments_lexer": "ipython3",
   "version": "3.7.8"
  },
  "orig_nbformat": 2,
  "kernelspec": {
   "name": "python378jvsc74a57bd057ab78e5cbccfb7d81052ee73eb1fa5d31916b2ddf92535c2cf1f81bb2af6d2a",
   "display_name": "Python 3.7.8 64-bit"
  }
 },
 "nbformat": 4,
 "nbformat_minor": 2,
 "cells": [
  {
   "source": [
    "# Function Unpacking"
   ],
   "cell_type": "markdown",
   "metadata": {}
  },
  {
   "source": [
    "## Positional and Keyword Arguments"
   ],
   "cell_type": "markdown",
   "metadata": {}
  },
  {
   "cell_type": "code",
   "execution_count": 1,
   "metadata": {},
   "outputs": [
    {
     "output_type": "stream",
     "name": "stdout",
     "text": [
      "a=1, b=2, c=3\na=10, b=20, c=30\na=19, b=29, c=3\n"
     ]
    }
   ],
   "source": [
    "def my_func(a=1, b=2, c=3):\n",
    "    print(\"a={0}, b={1}, c={2}\".format(a,b,c))\n",
    "my_func()\n",
    "my_func(10,20,30)\n",
    "my_func(19,29)"
   ]
  },
  {
   "cell_type": "code",
   "execution_count": 8,
   "metadata": {},
   "outputs": [
    {
     "output_type": "stream",
     "name": "stdout",
     "text": [
      "a=10, b=2, c=3\na=10, b=30, c=20\na=10, b=2, c=20\n"
     ]
    }
   ],
   "source": [
    "def my_func(a, b=2, c=3):\n",
    "    print(\"a={0}, b={1}, c={2}\".format(a,b,c))\n",
    "my_func(10)\n",
    "my_func(10,c=20,b=30)\n",
    "my_func(10,c=20)"
   ]
  },
  {
   "source": [
    "## unpacking"
   ],
   "cell_type": "markdown",
   "metadata": {}
  },
  {
   "cell_type": "code",
   "execution_count": 3,
   "metadata": {},
   "outputs": [
    {
     "output_type": "stream",
     "name": "stdout",
     "text": [
      "1\n2\n-------\n1\n2\n3\n-------\n2\n1\n-------\n10\n20\n30\n-------\nn\np\nq\n-------\nn\np\nq\n-------\n10\n20\n30\n-------\n('n', 10)\n('p', 20)\n('q', 30)\n-------\n"
     ]
    }
   ],
   "source": [
    "\n",
    "(a, b) = (1,2)\n",
    "print(str(a))\n",
    "print(str(b))\n",
    "print(\"-------\")\n",
    "\n",
    "a, b, c = 1, 2, 3\n",
    "print(str(a))\n",
    "print(str(b))\n",
    "print(str(c))\n",
    "print(\"-------\")\n",
    "\n",
    "a, b = b, a\n",
    "print(str(a))\n",
    "print(str(b))\n",
    "print(\"-------\")\n",
    "\n",
    "d = [10,20,30]\n",
    "a, b, c = d\n",
    "print(str(a))\n",
    "print(str(b))\n",
    "print(str(c))\n",
    "print(\"-------\")\n",
    "\n",
    "dic = {'n':10, 'p':20, 'q':30}\n",
    "a, b, c = dic\n",
    "print(str(a))\n",
    "print(str(b))\n",
    "print(str(c))\n",
    "print(\"-------\")\n",
    "a, b, c = dic.keys()\n",
    "print(str(a))\n",
    "print(str(b))\n",
    "print(str(c))\n",
    "print(\"-------\")\n",
    "a, b, c = dic.values()\n",
    "print(str(a))\n",
    "print(str(b))\n",
    "print(str(c))\n",
    "print(\"-------\")\n",
    "a, b, c = dic.items()\n",
    "print(str(a))\n",
    "print(str(b))\n",
    "print(str(c))\n",
    "print(\"-------\")\n"
   ]
  },
  {
   "source": [
    "## Extended unpacking"
   ],
   "cell_type": "markdown",
   "metadata": {}
  },
  {
   "cell_type": "code",
   "execution_count": 8,
   "metadata": {},
   "outputs": [
    {
     "output_type": "stream",
     "name": "stdout",
     "text": [
      "1\n[2, 3, 4]\n-------\n['p', 'y', 't', 'h', 'h', 'o']\n{'p': 3, 'y': 2, 't': 1, 'h': 2, 'o': 3}\n{'t': 1, 'h': 2, 'o': 3}\n{'h': 1, 'o': 3, 't': 1}\n-------\n"
     ]
    }
   ],
   "source": [
    "a, *b = [1,2,3,4]\n",
    "print(str(a))\n",
    "print(str(b))\n",
    "print(\"-------\")\n",
    "\n",
    "\n",
    "d1 = {'p':3, 'y':2}\n",
    "d2 = {'t':1, 'h':1}\n",
    "d3 = {'h':2, 'o':3}\n",
    "l = [*d1,*d2,*d3]\n",
    "d = {**d1, **d2, **d3}\n",
    "print(str(l))\n",
    "print(str(d))\n",
    "print(str({**d2, **d3}))\n",
    "print(str({**d3, **d2}))\n",
    "print(\"-------\")"
   ]
  },
  {
   "source": [
    "## Nested Unpacking"
   ],
   "cell_type": "markdown",
   "metadata": {}
  },
  {
   "cell_type": "code",
   "execution_count": 9,
   "metadata": {},
   "outputs": [
    {
     "output_type": "stream",
     "name": "stdout",
     "text": [
      "1\n2\n3\n4\n"
     ]
    }
   ],
   "source": [
    "a, b, (c, d) = [1,2,[3,4]]\n",
    "print(str(a))\n",
    "print(str(b))\n",
    "print(str(c))\n",
    "print(str(d))"
   ]
  },
  {
   "source": [
    "## LHS Unpacking"
   ],
   "cell_type": "markdown",
   "metadata": {}
  },
  {
   "cell_type": "code",
   "execution_count": 10,
   "metadata": {},
   "outputs": [
    {
     "output_type": "stream",
     "name": "stdout",
     "text": [
      "1\n[2, 3]\n5\n[4, 3]\n"
     ]
    }
   ],
   "source": [
    "a, *b, (c, *d) = [1,2,3,[5,4,3]]\n",
    "print(str(a))\n",
    "print(str(b))\n",
    "print(str(c))\n",
    "print(str(d))"
   ]
  },
  {
   "source": [
    "## *args"
   ],
   "cell_type": "markdown",
   "metadata": {}
  },
  {
   "cell_type": "code",
   "execution_count": 11,
   "metadata": {},
   "outputs": [
    {
     "output_type": "stream",
     "name": "stdout",
     "text": [
      "1\n2\n(3, 4, 5)\n"
     ]
    }
   ],
   "source": [
    "def my_func(a, b, *args):\n",
    "    print(a)\n",
    "    print(b)\n",
    "    print(args)\n",
    "my_func(1,2,3,4,5)"
   ]
  },
  {
   "cell_type": "code",
   "execution_count": 20,
   "metadata": {},
   "outputs": [
    {
     "output_type": "stream",
     "name": "stdout",
     "text": [
      "2.0\n1.0\n"
     ]
    }
   ],
   "source": [
    "def avg(a, *args):\n",
    "    count = len(args) + 1\n",
    "    total = sum(args) + a\n",
    "    return count and total/count\n",
    "print(avg(*[1,2,3]))\n",
    "print(avg(1))"
   ]
  },
  {
   "source": [
    "## Mandatory Positional arguments"
   ],
   "cell_type": "markdown",
   "metadata": {}
  },
  {
   "cell_type": "code",
   "execution_count": 23,
   "metadata": {},
   "outputs": [
    {
     "output_type": "stream",
     "name": "stdout",
     "text": [
      "2.5\n3.0\n"
     ]
    }
   ],
   "source": [
    "#parameter d is mandatory\n",
    "def avg(a, *args, d):\n",
    "    count = len(args) + 2\n",
    "    total = sum(args) + a + d\n",
    "    return count and total/count\n",
    "print(avg(*[1,2,3], d=4))\n",
    "print(avg(1, d=5))"
   ]
  },
  {
   "source": [
    "# No Positional arguments allowed"
   ],
   "cell_type": "markdown",
   "metadata": {}
  },
  {
   "cell_type": "code",
   "execution_count": 26,
   "metadata": {},
   "outputs": [
    {
     "output_type": "stream",
     "name": "stdout",
     "text": [
      "1\n7\n"
     ]
    }
   ],
   "source": [
    "def my_func(*,d):\n",
    "    print(str(d))\n",
    "\n",
    "def my_func2(a,b,*,d):\n",
    "    print(str(a+b+d))\n",
    "\n",
    "my_func(d=1)\n",
    "my_func2(1,2,d=4)"
   ]
  },
  {
   "source": [
    "## kwargs"
   ],
   "cell_type": "markdown",
   "metadata": {}
  },
  {
   "cell_type": "code",
   "execution_count": 30,
   "metadata": {},
   "outputs": [
    {
     "output_type": "stream",
     "name": "stdout",
     "text": [
      "(1, 2, 3)\n1\n{'a': 1, 'b': 2}\n"
     ]
    }
   ],
   "source": [
    "def func(*args,d,**kwargs):\n",
    "    print(str(args))\n",
    "    print(str(d))\n",
    "    print(str(kwargs))\n",
    "func(1,2,3,d=1,a=1,b=2)"
   ]
  },
  {
   "cell_type": "code",
   "execution_count": 33,
   "metadata": {},
   "outputs": [
    {
     "output_type": "stream",
     "name": "stdout",
     "text": [
      "2021-04-09 21:58:58.005031: hey!\n2021-01-01: nono\n"
     ]
    }
   ],
   "source": [
    "from datetime import datetime\n",
    "\n",
    "def log(msg,*,dt=None):\n",
    "    dt = dt or datetime.utcnow()\n",
    "    print('{0}: {1}'.format(dt, msg))\n",
    "log('hey!')\n",
    "log('nono', dt = '2021-01-01')"
   ]
  },
  {
   "cell_type": "code",
   "execution_count": null,
   "metadata": {},
   "outputs": [],
   "source": []
  }
 ]
}