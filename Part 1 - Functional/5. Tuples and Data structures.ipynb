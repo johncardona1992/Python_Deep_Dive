{
 "metadata": {
  "language_info": {
   "codemirror_mode": {
    "name": "ipython",
    "version": 3
   },
   "file_extension": ".py",
   "mimetype": "text/x-python",
   "name": "python",
   "nbconvert_exporter": "python",
   "pygments_lexer": "ipython3",
   "version": "3.7.8"
  },
  "orig_nbformat": 2,
  "kernelspec": {
   "name": "python378jvsc74a57bd057ab78e5cbccfb7d81052ee73eb1fa5d31916b2ddf92535c2cf1f81bb2af6d2a",
   "display_name": "Python 3.7.8 64-bit ('computerscience': conda)"
  }
 },
 "nbformat": 4,
 "nbformat_minor": 2,
 "cells": [
  {
   "source": [
    "# Tuples and data structures"
   ],
   "cell_type": "markdown",
   "metadata": {}
  },
  {
   "cell_type": "code",
   "execution_count": 1,
   "metadata": {},
   "outputs": [
    {
     "output_type": "stream",
     "name": "stdout",
     "text": [
      "Beijing\n2021\n"
     ]
    }
   ],
   "source": [
    "London = ('London', 'UK', 20_000_000, 2020)\n",
    "# unpacking\n",
    "city, country, population, year = London\n",
    "# using dummy variables\n",
    "city, _, population, year = ('Beijing', 'China', 21_000_000, 2021)\n",
    "# extended unpacking\n",
    "city, *_, year = ('Beijing', 'China', 21_000_000, 2021)\n",
    "print(city)\n",
    "print(year)\n",
    "\n",
    "\n"
   ]
  },
  {
   "source": [
    "# Named Tuples"
   ],
   "cell_type": "markdown",
   "metadata": {}
  },
  {
   "cell_type": "code",
   "execution_count": 4,
   "metadata": {},
   "outputs": [
    {
     "output_type": "stream",
     "name": "stdout",
     "text": [
      "10\n20\n"
     ]
    }
   ],
   "source": [
    "from collections import namedtuple\n",
    "Point2D = namedtuple('Point2D',['x','y'])\n",
    "pt1 = Point2D(10,20)\n",
    "print(pt1.x)\n",
    "print(pt1.y)"
   ]
  },
  {
   "source": [
    "## Modifying and extending"
   ],
   "cell_type": "markdown",
   "metadata": {}
  },
  {
   "cell_type": "code",
   "execution_count": 7,
   "metadata": {},
   "outputs": [
    {
     "output_type": "stream",
     "name": "stdout",
     "text": [
      "stock(symbol='DJIA', year=2018, month=1, day=26, open=26313, high=26459, low=26260, close=26394)\n"
     ]
    }
   ],
   "source": [
    "# modifying\n",
    "from collections import namedtuple\n",
    "Stock = namedtuple('stock', 'symbol year month day open high low close')\n",
    "djia = Stock('DJIA', 2018, 1, 25, 26_313, 26_258, 26_260, 26_393)\n",
    "djia = djia._replace(day=26, high=26_459, close=26_394)\n",
    "print(djia)"
   ]
  },
  {
   "cell_type": "code",
   "execution_count": 9,
   "metadata": {},
   "outputs": [
    {
     "output_type": "stream",
     "name": "stdout",
     "text": [
      "StockExt(symbol='DJIA', year=2018, month=1, day=25, open=26313, high=26258, low=26260, close=26393, previous_close=26000)\nStockExt(symbol='DJIA', year=2018, month=1, day=25, open=26313, high=26258, low=26260, close=26393, previous_close=26000)\n"
     ]
    }
   ],
   "source": [
    "# extending\n",
    "from collections import namedtuple\n",
    "Stock = namedtuple('stock', 'symbol year month day open high low close')\n",
    "djia = Stock('DJIA', 2018, 1, 25, 26_313, 26_258, 26_260, 26_393)\n",
    "\n",
    "StockExt = namedtuple('StockExt', Stock._fields + ('previous_close', ))\n",
    "djia_ext = StockExt(*djia, 26_000)\n",
    "djia_ext2 = StockExt._make(djia + (26_000, ))\n",
    "print(djia_ext)\n",
    "print(djia_ext2)\n"
   ]
  },
  {
   "source": [
    "## docstring and default values"
   ],
   "cell_type": "markdown",
   "metadata": {}
  },
  {
   "cell_type": "code",
   "execution_count": 11,
   "metadata": {},
   "outputs": [
    {
     "output_type": "stream",
     "name": "stdout",
     "text": [
      "Help on stock in module __main__ object:\n\nclass stock(builtins.tuple)\n |  stock(symbol, year, month, day, open, high, low, close)\n |  \n |  stock(symbol, year, month, day, open, high, low, close)\n |  \n |  Method resolution order:\n |      stock\n |      builtins.tuple\n |      builtins.object\n |  \n |  Methods defined here:\n |  \n |  __getnewargs__(self)\n |      Return self as a plain tuple.  Used by copy and pickle.\n |  \n |  __repr__(self)\n |      Return a nicely formatted representation string\n |  \n |  _asdict(self)\n |      Return a new OrderedDict which maps field names to their values.\n |  \n |  _replace(_self, **kwds)\n |      Return a new stock object replacing specified fields with new values\n |  \n |  ----------------------------------------------------------------------\n |  Class methods defined here:\n |  \n |  _make(iterable) from builtins.type\n |      Make a new stock object from a sequence or iterable\n |  \n |  ----------------------------------------------------------------------\n |  Static methods defined here:\n |  \n |  __new__(_cls, symbol, year, month, day, open, high, low, close)\n |      Create new instance of stock(symbol, year, month, day, open, high, low, close)\n |  \n |  ----------------------------------------------------------------------\n |  Data descriptors defined here:\n |  \n |  symbol\n |      Alias for field number 0\n |  \n |  year\n |      Alias for field number 1\n |  \n |  month\n |      Alias for field number 2\n |  \n |  day\n |      Alias for field number 3\n |  \n |  open\n |      Alias for field number 4\n |  \n |  high\n |      Alias for field number 5\n |  \n |  low\n |      Alias for field number 6\n |  \n |  close\n |      Alias for field number 7\n |  \n |  ----------------------------------------------------------------------\n |  Data and other attributes defined here:\n |  \n |  _field_defaults = {}\n |  \n |  _fields = ('symbol', 'year', 'month', 'day', 'open', 'high', 'low', 'c...\n |  \n |  _fields_defaults = {}\n |  \n |  ----------------------------------------------------------------------\n |  Methods inherited from builtins.tuple:\n |  \n |  __add__(self, value, /)\n |      Return self+value.\n |  \n |  __contains__(self, key, /)\n |      Return key in self.\n |  \n |  __eq__(self, value, /)\n |      Return self==value.\n |  \n |  __ge__(self, value, /)\n |      Return self>=value.\n |  \n |  __getattribute__(self, name, /)\n |      Return getattr(self, name).\n |  \n |  __getitem__(self, key, /)\n |      Return self[key].\n |  \n |  __gt__(self, value, /)\n |      Return self>value.\n |  \n |  __hash__(self, /)\n |      Return hash(self).\n |  \n |  __iter__(self, /)\n |      Implement iter(self).\n |  \n |  __le__(self, value, /)\n |      Return self<=value.\n |  \n |  __len__(self, /)\n |      Return len(self).\n |  \n |  __lt__(self, value, /)\n |      Return self<value.\n |  \n |  __mul__(self, value, /)\n |      Return self*value.\n |  \n |  __ne__(self, value, /)\n |      Return self!=value.\n |  \n |  __rmul__(self, value, /)\n |      Return value*self.\n |  \n |  count(self, value, /)\n |      Return number of occurrences of value.\n |  \n |  index(self, value, start=0, stop=9223372036854775807, /)\n |      Return first index of value.\n |      \n |      Raises ValueError if the value is not present.\n\n"
     ]
    }
   ],
   "source": [
    "from collections import namedtuple\n",
    "Stock = namedtuple('stock', 'symbol year month day open high low close')\n",
    "djia = Stock('DJIA', 2018, 1, 25, 26_313, 26_258, 26_260, 26_393)\n",
    "help(djia)"
   ]
  },
  {
   "cell_type": "code",
   "execution_count": 17,
   "metadata": {},
   "outputs": [
    {
     "output_type": "stream",
     "name": "stdout",
     "text": [
      "stock(symbol='DJIA', year=2021, month=4, day=12, open=0, high=0, low=0, close=0)\n"
     ]
    }
   ],
   "source": [
    "# default values\n",
    "# prototype approach\n",
    "from collections import namedtuple\n",
    "Stock = namedtuple('stock', 'symbol year month day open high low close')\n",
    "djia = Stock('DJIA', 2018, 1, 25, 26_313, 26_258, 26_260, 26_393)\n",
    "djia_zero = Stock(symbol='DJIA', year=0, month=0, day=0, open=0, high=0, low=0, close=0)\n",
    "v1 = djia_zero._replace(year=2021, month=4, day=12)\n",
    "print(v1)"
   ]
  },
  {
   "cell_type": "code",
   "execution_count": 18,
   "metadata": {},
   "outputs": [
    {
     "output_type": "stream",
     "name": "stdout",
     "text": [
      "stock(symbol='DJIA', year=2021, month=4, day=12, open=0, high=0, low=0, close=0)\n"
     ]
    }
   ],
   "source": [
    "# __default__ approach\n",
    "from collections import namedtuple\n",
    "Stock = namedtuple('stock', 'symbol year month day open high low close')\n",
    "Stock.__new__.__defaults__ = ('DJIA', 0, 0, 0, 0, 0, 0, 0)\n",
    "djia = Stock('DJIA', 2018, 1, 25, 26_313, 26_258)\n",
    "print(v1)"
   ]
  },
  {
   "source": [
    "# return multiple values from a function"
   ],
   "cell_type": "markdown",
   "metadata": {}
  },
  {
   "cell_type": "code",
   "execution_count": 1,
   "metadata": {},
   "outputs": [
    {
     "output_type": "stream",
     "name": "stdout",
     "text": [
      "1\n2\n3\n('red', 'blue', 'green')\n<class '__main__.Color'>\n"
     ]
    }
   ],
   "source": [
    "from collections import namedtuple\n",
    "\n",
    "Color = namedtuple('Color','red blue green')\n",
    "\n",
    "def a_color():\n",
    "    red = 1 \n",
    "    blue = 2\n",
    "    green = 3\n",
    "    return Color(red,blue,green)\n",
    "\n",
    "c = a_color()\n",
    "print(c.red)\n",
    "print(c.blue)\n",
    "print(c.green)\n",
    "print(c._fields)\n",
    "print(type(c))"
   ]
  },
  {
   "cell_type": "code",
   "execution_count": null,
   "metadata": {},
   "outputs": [],
   "source": []
  }
 ]
}