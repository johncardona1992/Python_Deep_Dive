{
 "metadata": {
  "language_info": {
   "codemirror_mode": {
    "name": "ipython",
    "version": 3
   },
   "file_extension": ".py",
   "mimetype": "text/x-python",
   "name": "python",
   "nbconvert_exporter": "python",
   "pygments_lexer": "ipython3",
   "version": "3.7.8"
  },
  "orig_nbformat": 2,
  "kernelspec": {
   "name": "python378jvsc74a57bd057ab78e5cbccfb7d81052ee73eb1fa5d31916b2ddf92535c2cf1f81bb2af6d2a",
   "display_name": "Python 3.7.8 64-bit ('computerscience': conda)"
  }
 },
 "nbformat": 4,
 "nbformat_minor": 2,
 "cells": [
  {
   "cell_type": "code",
   "execution_count": 4,
   "metadata": {},
   "outputs": [
    {
     "output_type": "stream",
     "name": "stdout",
     "text": [
      "True\nhi\nNone\n"
     ]
    }
   ],
   "source": [
    "def func():\n",
    "    print('hi')\n",
    "f = globals()['func']\n",
    "print(f is func)\n",
    "print(f())"
   ]
  },
  {
   "cell_type": "code",
   "execution_count": 10,
   "metadata": {},
   "outputs": [
    {
     "output_type": "stream",
     "name": "stdout",
     "text": [
      "True\nFalse\n{'a': 1, 'b': 2}\n3\n"
     ]
    }
   ],
   "source": [
    "print(locals() is globals())\n",
    "def func():\n",
    "    a=1\n",
    "    b=2\n",
    "    print(locals() is globals())\n",
    "    print(locals())\n",
    "    return a+b\n",
    "print(func())"
   ]
  },
  {
   "cell_type": "code",
   "execution_count": 15,
   "metadata": {},
   "outputs": [
    {
     "output_type": "stream",
     "name": "stdout",
     "text": [
      "<module 'fractions' from 'C:\\\\ProgramData\\\\Anaconda3\\\\envs\\\\computerscience\\\\lib\\\\fractions.py'>\n------------\n1.4142135623730951\n<class 'module'>\n"
     ]
    }
   ],
   "source": [
    "import fractions\n",
    "import math\n",
    "print(fractions)\n",
    "print('------------')\n",
    "mod_math = globals()['math']\n",
    "print(mod_math.sqrt(2))\n",
    "print(type(math))"
   ]
  },
  {
   "cell_type": "code",
   "execution_count": 18,
   "metadata": {},
   "outputs": [
    {
     "output_type": "stream",
     "name": "stdout",
     "text": [
      "{'__name__': 'math', '__doc__': 'This module provides access to the mathematical functions\\ndefined by the C standard.', '__package__': '', '__loader__': <class '_frozen_importlib.BuiltinImporter'>, '__spec__': ModuleSpec(name='math', loader=<class '_frozen_importlib.BuiltinImporter'>, origin='built-in'), 'acos': <built-in function acos>, 'acosh': <built-in function acosh>, 'asin': <built-in function asin>, 'asinh': <built-in function asinh>, 'atan': <built-in function atan>, 'atan2': <built-in function atan2>, 'atanh': <built-in function atanh>, 'ceil': <built-in function ceil>, 'copysign': <built-in function copysign>, 'cos': <built-in function cos>, 'cosh': <built-in function cosh>, 'degrees': <built-in function degrees>, 'erf': <built-in function erf>, 'erfc': <built-in function erfc>, 'exp': <built-in function exp>, 'expm1': <built-in function expm1>, 'fabs': <built-in function fabs>, 'factorial': <built-in function factorial>, 'floor': <built-in function floor>, 'fmod': <built-in function fmod>, 'frexp': <built-in function frexp>, 'fsum': <built-in function fsum>, 'gamma': <built-in function gamma>, 'gcd': <built-in function gcd>, 'hypot': <built-in function hypot>, 'isclose': <built-in function isclose>, 'isfinite': <built-in function isfinite>, 'isinf': <built-in function isinf>, 'isnan': <built-in function isnan>, 'ldexp': <built-in function ldexp>, 'lgamma': <built-in function lgamma>, 'log': <built-in function log>, 'log1p': <built-in function log1p>, 'log10': <built-in function log10>, 'log2': <built-in function log2>, 'modf': <built-in function modf>, 'pow': <built-in function pow>, 'radians': <built-in function radians>, 'remainder': <built-in function remainder>, 'sin': <built-in function sin>, 'sinh': <built-in function sinh>, 'sqrt': <built-in function sqrt>, 'tan': <built-in function tan>, 'tanh': <built-in function tanh>, 'trunc': <built-in function trunc>, 'pi': 3.141592653589793, 'e': 2.718281828459045, 'tau': 6.283185307179586, 'inf': inf, 'nan': nan}\n1.4142135623730951\n"
     ]
    }
   ],
   "source": [
    "import math\n",
    "print(math.__dict__)\n",
    "fsqr = math.__dict__['sqrt']\n",
    "print(fsqr(2))"
   ]
  },
  {
   "cell_type": "code",
   "execution_count": 20,
   "metadata": {},
   "outputs": [
    {
     "output_type": "stream",
     "name": "stdout",
     "text": [
      "True\n"
     ]
    }
   ],
   "source": [
    "import fractions\n",
    "import types\n",
    "fractions.__file__\n",
    "print(isinstance(fractions, types.ModuleType))"
   ]
  },
  {
   "cell_type": "code",
   "execution_count": 23,
   "metadata": {},
   "outputs": [
    {
     "output_type": "stream",
     "name": "stdout",
     "text": [
      "C:\\ProgramData\\Anaconda3\\envs\\computerscience\nC:\\ProgramData\\Anaconda3\\envs\\computerscience\n['c:\\\\Users\\\\cardonagarcia.23\\\\Documents\\\\Innovation\\\\Machine_Intelligence\\\\Backend\\\\python_course1\\\\Jupyter\\\\Deep DIve', 'c:\\\\Users\\\\cardonagarcia.23\\\\.vscode\\\\extensions\\\\ms-toolsai.jupyter-2021.5.702919634\\\\pythonFiles', 'c:\\\\Users\\\\cardonagarcia.23\\\\.vscode\\\\extensions\\\\ms-toolsai.jupyter-2021.5.702919634\\\\pythonFiles', 'c:\\\\Users\\\\cardonagarcia.23\\\\.vscode\\\\extensions\\\\ms-toolsai.jupyter-2021.5.702919634\\\\pythonFiles\\\\lib\\\\python', 'C:\\\\ProgramData\\\\Anaconda3\\\\envs\\\\computerscience\\\\python37.zip', 'C:\\\\ProgramData\\\\Anaconda3\\\\envs\\\\computerscience\\\\DLLs', 'C:\\\\ProgramData\\\\Anaconda3\\\\envs\\\\computerscience\\\\lib', 'C:\\\\ProgramData\\\\Anaconda3\\\\envs\\\\computerscience', '', 'C:\\\\ProgramData\\\\Anaconda3\\\\envs\\\\computerscience\\\\lib\\\\site-packages', 'C:\\\\ProgramData\\\\Anaconda3\\\\envs\\\\computerscience\\\\lib\\\\site-packages\\\\win32', 'C:\\\\ProgramData\\\\Anaconda3\\\\envs\\\\computerscience\\\\lib\\\\site-packages\\\\win32\\\\lib', 'C:\\\\ProgramData\\\\Anaconda3\\\\envs\\\\computerscience\\\\lib\\\\site-packages\\\\Pythonwin', 'C:\\\\ProgramData\\\\Anaconda3\\\\envs\\\\computerscience\\\\lib\\\\site-packages\\\\IPython\\\\extensions', 'C:\\\\Users\\\\cardonagarcia.23\\\\.ipython']\n"
     ]
    }
   ],
   "source": [
    "import sys\n",
    "print(sys.prefix)\n",
    "print(sys.exec_prefix)\n",
    "print(sys.path)"
   ]
  },
  {
   "source": [
    "# importlibs"
   ],
   "cell_type": "markdown",
   "metadata": {}
  },
  {
   "cell_type": "code",
   "execution_count": 5,
   "metadata": {},
   "outputs": [
    {
     "output_type": "execute_result",
     "data": {
      "text/plain": [
       "1.4142135623730951"
      ]
     },
     "metadata": {},
     "execution_count": 5
    }
   ],
   "source": [
    "import importlib\n",
    "math = importlib.import_module('math') \n",
    "math.sqrt(2)"
   ]
  },
  {
   "source": [
    "## finders + loaders == importer"
   ],
   "cell_type": "markdown",
   "metadata": {}
  },
  {
   "cell_type": "code",
   "execution_count": 7,
   "metadata": {},
   "outputs": [
    {
     "output_type": "execute_result",
     "data": {
      "text/plain": [
       "[_frozen_importlib.BuiltinImporter,\n",
       " _frozen_importlib.FrozenImporter,\n",
       " _frozen_importlib_external.PathFinder,\n",
       " <six._SixMetaPathImporter at 0x2623d0c7a88>]"
      ]
     },
     "metadata": {},
     "execution_count": 7
    }
   ],
   "source": [
    "# finders\n",
    "import sys\n",
    "sys.meta_path"
   ]
  },
  {
   "cell_type": "code",
   "execution_count": 8,
   "metadata": {},
   "outputs": [
    {
     "output_type": "execute_result",
     "data": {
      "text/plain": [
       "ModuleSpec(name='decimal', loader=<_frozen_importlib_external.SourceFileLoader object at 0x000002623E92B488>, origin='C:\\\\ProgramData\\\\Anaconda3\\\\envs\\\\computerscience\\\\lib\\\\decimal.py')"
      ]
     },
     "metadata": {},
     "execution_count": 8
    }
   ],
   "source": [
    "import importlib\n",
    "importlib.util.find_spec('decimal')"
   ]
  },
  {
   "cell_type": "code",
   "execution_count": 13,
   "metadata": {
    "tags": []
   },
   "outputs": [
    {
     "output_type": "stream",
     "name": "stdout",
     "text": [
      "IPython\nIPython.core\nIPython.core.alias\nIPython.core.application\nIPython.core.async_helpers\nIPython.core.autocall\nIPython.core.builtin_trap\nIPython.core.compilerop\nIPython.core.completer\nIPython.core.completerlib\nIPython.core.crashhandler\nIPython.core.debugger\nIPython.core.display\nIPython.core.display_trap\nIPython.core.displayhook\nIPython.core.displaypub\nIPython.core.error\nIPython.core.events\nIPython.core.excolors\nIPython.core.extensions\nIPython.core.formatters\nIPython.core.getipython\nIPython.core.history\nIPython.core.hooks\nIPython.core.inputtransformer2\nIPython.core.interactiveshell\nIPython.core.latex_symbols\nIPython.core.logger\nIPython.core.macro\nIPython.core.magic\nIPython.core.magic_arguments\nIPython.core.magics\nIPython.core.magics.auto\nIPython.core.magics.basic\nIPython.core.magics.code\nIPython.core.magics.config\nIPython.core.magics.display\nIPython.core.magics.execution\nIPython.core.magics.extension\nIPython.core.magics.history\nIPython.core.magics.logging\nIPython.core.magics.namespace\nIPython.core.magics.osm\nIPython.core.magics.packaging\nIPython.core.magics.pylab\nIPython.core.magics.script\nIPython.core.oinspect\nIPython.core.page\nIPython.core.payload\nIPython.core.payloadpage\nIPython.core.prefilter\nIPython.core.profiledir\nIPython.core.pylabtools\nIPython.core.release\nIPython.core.shellapp\nIPython.core.splitinput\nIPython.core.ultratb\nIPython.core.usage\nIPython.display\nIPython.extensions\nIPython.extensions.storemagic\nIPython.lib\nIPython.lib.backgroundjobs\nIPython.lib.clipboard\nIPython.lib.display\nIPython.lib.pretty\nIPython.lib.security\nIPython.paths\nIPython.terminal\nIPython.terminal.debugger\nIPython.terminal.embed\nIPython.terminal.interactiveshell\nIPython.terminal.ipapp\nIPython.terminal.magics\nIPython.terminal.prompts\nIPython.terminal.pt_inputhooks\nIPython.terminal.ptutils\nIPython.terminal.shortcuts\nIPython.testing\nIPython.testing.skipdoctest\nIPython.utils\nIPython.utils.PyColorize\nIPython.utils._process_common\nIPython.utils._process_win32\nIPython.utils._sysinfo\nIPython.utils.capture\nIPython.utils.colorable\nIPython.utils.coloransi\nIPython.utils.contexts\nIPython.utils.data\nIPython.utils.decorators\nIPython.utils.dir2\nIPython.utils.encoding\nIPython.utils.frame\nIPython.utils.generics\nIPython.utils.importstring\nIPython.utils.io\nIPython.utils.ipstruct\nIPython.utils.module_paths\nIPython.utils.openpy\nIPython.utils.path\nIPython.utils.process\nIPython.utils.py3compat\nIPython.utils.sentinel\nIPython.utils.strdispatch\nIPython.utils.sysinfo\nIPython.utils.syspathcontext\nIPython.utils.tempdir\nIPython.utils.terminal\nIPython.utils.text\nIPython.utils.timing\nIPython.utils.tokenutil\nIPython.utils.wildcard\n__future__\n__main__\n_abc\n_ast\n_asyncio\n_bisect\n_blake2\n_bootlocale\n_bz2\n_codecs\n_collections\n_collections_abc\n_compat_pickle\n_compression\n_contextvars\n_ctypes\n_cython_0_29_21\n_datetime\n_decimal\n_frozen_importlib\n_frozen_importlib_external\n_functools\n_hashlib\n_heapq\n_imp\n_io\n_json\n_locale\n_lsprof\n_lzma\n_opcode\n_operator\n_overlapped\n_pickle\n_queue\n_random\n_sha3\n_signal\n_sitebuiltins\n_socket\n_sqlite3\n_sre\n_ssl\n_stat\n_string\n_strptime\n_struct\n_thread\n_warnings\n_weakref\n_weakrefset\n_winapi\nabc\nargparse\narray\nast\nasyncio\nasyncio.base_events\nasyncio.base_futures\nasyncio.base_subprocess\nasyncio.base_tasks\nasyncio.constants\nasyncio.coroutines\nasyncio.events\nasyncio.format_helpers\nasyncio.futures\nasyncio.locks\nasyncio.log\nasyncio.proactor_events\nasyncio.protocols\nasyncio.queues\nasyncio.runners\nasyncio.selector_events\nasyncio.sslproto\nasyncio.streams\nasyncio.subprocess\nasyncio.tasks\nasyncio.transports\nasyncio.windows_events\nasyncio.windows_utils\natexit\nbackcall\nbackcall.backcall\nbase64\nbdb\nbinascii\nbisect\nbuiltins\nbz2\ncProfile\ncalendar\ncmd\ncode\ncodecs\ncodeop\ncollections\ncollections.abc\ncolorama\ncolorama.ansi\ncolorama.ansitowin32\ncolorama.initialise\ncolorama.win32\ncolorama.winterm\ncolorsys\nconcurrent\nconcurrent.futures\nconcurrent.futures._base\ncontextlib\ncontextvars\ncopy\ncopyreg\nctypes\nctypes._endian\nctypes.wintypes\ncython_runtime\ndatetime\ndateutil\ndateutil._common\ndateutil._version\ndateutil.parser\ndateutil.parser._parser\ndateutil.parser.isoparser\ndateutil.relativedelta\ndateutil.tz\ndateutil.tz._common\ndateutil.tz._factories\ndateutil.tz.tz\ndateutil.tz.win\ndecimal\ndecorator\ndifflib\ndis\ndistutils\ndistutils.debug\ndistutils.dep_util\ndistutils.errors\ndistutils.log\ndistutils.spawn\ndistutils.util\ndistutils.version\nemail\nemail._encoded_words\nemail._parseaddr\nemail._policybase\nemail.base64mime\nemail.charset\nemail.encoders\nemail.errors\nemail.feedparser\nemail.header\nemail.iterators\nemail.message\nemail.parser\nemail.quoprimime\nemail.utils\nencodings\nencodings.aliases\nencodings.cp1252\nencodings.latin_1\nencodings.utf_8\nenum\nerrno\nfaulthandler\nfilecmp\nfnmatch\nfunctools\ngc\ngenericpath\ngetopt\ngetpass\ngettext\nglob\ngoogle\ngoogle.logging\nhashlib\nheapq\nhmac\nhtml\nhtml.entities\nhttp\nhttp.client\nimp\nimportlib\nimportlib._bootstrap\nimportlib._bootstrap_external\nimportlib.abc\nimportlib.machinery\nimportlib.util\ninspect\nio\nipykernel\nipykernel._version\nipykernel.codeutil\nipykernel.comm\nipykernel.comm.comm\nipykernel.comm.manager\nipykernel.connect\nipykernel.datapub\nipykernel.displayhook\nipykernel.eventloops\nipykernel.heartbeat\nipykernel.iostream\nipykernel.ipkernel\nipykernel.jsonutil\nipykernel.kernelapp\nipykernel.kernelbase\nipykernel.parentpoller\nipykernel.pickleutil\nipykernel.serialize\nipykernel.zmqshell\nipython_genutils\nipython_genutils._version\nipython_genutils.encoding\nipython_genutils.importstring\nipython_genutils.path\nipython_genutils.py3compat\nipython_genutils.text\nitertools\njedi\njedi._compatibility\njedi.api\njedi.api.classes\njedi.api.completion\njedi.api.environment\njedi.api.exceptions\njedi.api.file_name\njedi.api.helpers\njedi.api.interpreter\njedi.api.keywords\njedi.api.project\njedi.cache\njedi.common\njedi.common.utils\njedi.common.value\njedi.debug\njedi.file_io\njedi.inference\njedi.inference.analysis\njedi.inference.arguments\njedi.inference.base_value\njedi.inference.cache\njedi.inference.compiled\njedi.inference.compiled.access\njedi.inference.compiled.getattr_static\njedi.inference.compiled.mixed\njedi.inference.compiled.subprocess\njedi.inference.compiled.subprocess.functions\njedi.inference.compiled.value\njedi.inference.context\njedi.inference.docstrings\njedi.inference.filters\njedi.inference.finder\njedi.inference.flow_analysis\njedi.inference.gradual\njedi.inference.gradual.annotation\njedi.inference.gradual.base\njedi.inference.gradual.conversion\njedi.inference.gradual.generics\njedi.inference.gradual.stub_value\njedi.inference.gradual.type_var\njedi.inference.gradual.typeshed\njedi.inference.gradual.typing\njedi.inference.gradual.utils\njedi.inference.helpers\njedi.inference.imports\njedi.inference.lazy_value\njedi.inference.names\njedi.inference.param\njedi.inference.parser_cache\njedi.inference.recursion\njedi.inference.signature\njedi.inference.star_args\njedi.inference.syntax_tree\njedi.inference.sys_path\njedi.inference.usages\njedi.inference.utils\njedi.inference.value\njedi.inference.value.decorator\njedi.inference.value.dynamic_arrays\njedi.inference.value.function\njedi.inference.value.instance\njedi.inference.value.iterable\njedi.inference.value.klass\njedi.inference.value.module\njedi.parser_utils\njedi.plugins\njedi.plugins.flask\njedi.plugins.registry\njedi.plugins.stdlib\njedi.settings\njson\njson.decoder\njson.encoder\njson.scanner\njupyter_client\njupyter_client._version\njupyter_client.adapter\njupyter_client.asynchronous\njupyter_client.asynchronous.channels\njupyter_client.asynchronous.client\njupyter_client.blocking\njupyter_client.blocking.channels\njupyter_client.blocking.client\njupyter_client.channels\njupyter_client.channelsabc\njupyter_client.client\njupyter_client.clientabc\njupyter_client.connect\njupyter_client.jsonutil\njupyter_client.kernelspec\njupyter_client.launcher\njupyter_client.localinterfaces\njupyter_client.manager\njupyter_client.managerabc\njupyter_client.multikernelmanager\njupyter_client.session\njupyter_core\njupyter_core.paths\njupyter_core.version\nkeyword\nlinecache\nlocale\nlogging\nlogging.handlers\nlzma\nmarshal\nmath\nmimetypes\nmpl_toolkits\nmsvcrt\nnt\nntpath\nntsecuritycon\nnturl2path\nnumbers\nopcode\noperator\nos\nos.path\nparso\nparso._compatibility\nparso.cache\nparso.file_io\nparso.grammar\nparso.normalizer\nparso.parser\nparso.pgen2\nparso.pgen2.generator\nparso.pgen2.grammar_parser\nparso.python\nparso.python.diff\nparso.python.errors\nparso.python.parser\nparso.python.pep8\nparso.python.prefix\nparso.python.token\nparso.python.tokenize\nparso.python.tree\nparso.tree\nparso.utils\npathlib\npdb\npickle\npickleshare\npkgutil\nplatform\nposixpath\npprint\nprofile\nprompt_toolkit\nprompt_toolkit.application\nprompt_toolkit.application.application\nprompt_toolkit.application.current\nprompt_toolkit.application.dummy\nprompt_toolkit.application.run_in_terminal\nprompt_toolkit.auto_suggest\nprompt_toolkit.buffer\nprompt_toolkit.cache\nprompt_toolkit.clipboard\nprompt_toolkit.clipboard.base\nprompt_toolkit.clipboard.in_memory\nprompt_toolkit.completion\nprompt_toolkit.completion.base\nprompt_toolkit.completion.filesystem\nprompt_toolkit.completion.fuzzy_completer\nprompt_toolkit.completion.nested\nprompt_toolkit.completion.word_completer\nprompt_toolkit.data_structures\nprompt_toolkit.document\nprompt_toolkit.enums\nprompt_toolkit.eventloop\nprompt_toolkit.eventloop.async_generator\nprompt_toolkit.eventloop.inputhook\nprompt_toolkit.eventloop.utils\nprompt_toolkit.filters\nprompt_toolkit.filters.app\nprompt_toolkit.filters.base\nprompt_toolkit.filters.cli\nprompt_toolkit.filters.utils\nprompt_toolkit.formatted_text\nprompt_toolkit.formatted_text.ansi\nprompt_toolkit.formatted_text.base\nprompt_toolkit.formatted_text.html\nprompt_toolkit.formatted_text.pygments\nprompt_toolkit.formatted_text.utils\nprompt_toolkit.history\nprompt_toolkit.input\nprompt_toolkit.input.ansi_escape_sequences\nprompt_toolkit.input.base\nprompt_toolkit.input.defaults\nprompt_toolkit.input.typeahead\nprompt_toolkit.input.vt100_parser\nprompt_toolkit.key_binding\nprompt_toolkit.key_binding.bindings\nprompt_toolkit.key_binding.bindings.auto_suggest\nprompt_toolkit.key_binding.bindings.basic\nprompt_toolkit.key_binding.bindings.completion\nprompt_toolkit.key_binding.bindings.cpr\nprompt_toolkit.key_binding.bindings.emacs\nprompt_toolkit.key_binding.bindings.focus\nprompt_toolkit.key_binding.bindings.mouse\nprompt_toolkit.key_binding.bindings.named_commands\nprompt_toolkit.key_binding.bindings.open_in_editor\nprompt_toolkit.key_binding.bindings.page_navigation\nprompt_toolkit.key_binding.bindings.scroll\nprompt_toolkit.key_binding.bindings.vi\nprompt_toolkit.key_binding.defaults\nprompt_toolkit.key_binding.digraphs\nprompt_toolkit.key_binding.emacs_state\nprompt_toolkit.key_binding.key_bindings\nprompt_toolkit.key_binding.key_processor\nprompt_toolkit.key_binding.vi_state\nprompt_toolkit.keys\nprompt_toolkit.layout\nprompt_toolkit.layout.containers\nprompt_toolkit.layout.controls\nprompt_toolkit.layout.dimension\nprompt_toolkit.layout.dummy\nprompt_toolkit.layout.layout\nprompt_toolkit.layout.margins\nprompt_toolkit.layout.menus\nprompt_toolkit.layout.mouse_handlers\nprompt_toolkit.layout.processors\nprompt_toolkit.layout.screen\nprompt_toolkit.layout.utils\nprompt_toolkit.lexers\nprompt_toolkit.lexers.base\nprompt_toolkit.lexers.pygments\nprompt_toolkit.mouse_events\nprompt_toolkit.output\nprompt_toolkit.output.base\nprompt_toolkit.output.color_depth\nprompt_toolkit.output.defaults\nprompt_toolkit.output.vt100\nprompt_toolkit.patch_stdout\nprompt_toolkit.renderer\nprompt_toolkit.search\nprompt_toolkit.selection\nprompt_toolkit.shortcuts\nprompt_toolkit.shortcuts.dialogs\nprompt_toolkit.shortcuts.progress_bar\nprompt_toolkit.shortcuts.progress_bar.base\nprompt_toolkit.shortcuts.progress_bar.formatters\nprompt_toolkit.shortcuts.prompt\nprompt_toolkit.shortcuts.utils\nprompt_toolkit.styles\nprompt_toolkit.styles.base\nprompt_toolkit.styles.defaults\nprompt_toolkit.styles.named_colors\nprompt_toolkit.styles.pygments\nprompt_toolkit.styles.style\nprompt_toolkit.styles.style_transformation\nprompt_toolkit.utils\nprompt_toolkit.validation\nprompt_toolkit.widgets\nprompt_toolkit.widgets.base\nprompt_toolkit.widgets.dialogs\nprompt_toolkit.widgets.menus\nprompt_toolkit.widgets.toolbars\npstats\npydoc\npydoc_data\npydoc_data.topics\npygments\npygments.filter\npygments.filters\npygments.formatter\npygments.formatters\npygments.formatters._mapping\npygments.formatters.html\npygments.lexer\npygments.lexers\npygments.lexers._mapping\npygments.lexers.python\npygments.modeline\npygments.plugin\npygments.regexopt\npygments.style\npygments.styles\npygments.styles.default\npygments.token\npygments.unistring\npygments.util\nqueue\nquopri\nrandom\nre\nreprlib\nrunpy\nselect\nselectors\nshlex\nshutil\nsignal\nsite\nsix\nsix.moves\nsocket\nsphinxcontrib\nsqlite3\nsqlite3.dbapi2\nsre_compile\nsre_constants\nsre_parse\nssl\nstat\nstoremagic\nstring\nstruct\nsubprocess\nsys\nsysconfig\ntempfile\ntextwrap\nthreading\ntime\ntimeit\ntoken\ntokenize\ntornado\ntornado.concurrent\ntornado.escape\ntornado.gen\ntornado.ioloop\ntornado.locks\ntornado.log\ntornado.platform\ntornado.platform.asyncio\ntornado.queues\ntornado.speedups\ntornado.util\ntraceback\ntraitlets\ntraitlets._version\ntraitlets.config\ntraitlets.config.application\ntraitlets.config.configurable\ntraitlets.config.loader\ntraitlets.log\ntraitlets.traitlets\ntraitlets.utils\ntraitlets.utils.bunch\ntraitlets.utils.getargspec\ntraitlets.utils.importstring\ntraitlets.utils.sentinel\ntypes\ntyping\ntyping.io\ntyping.re\nunicodedata\nurllib\nurllib.error\nurllib.parse\nurllib.request\nurllib.response\nuu\nuuid\nwarnings\nwcwidth\nwcwidth.table_wide\nwcwidth.table_zero\nwcwidth.unicode_versions\nwcwidth.wcwidth\nweakref\nwin32api\nwin32security\nwinreg\nxml\nxml.dom\nxml.dom.NodeFilter\nxml.dom.domreg\nxml.dom.minicompat\nxml.dom.minidom\nxml.dom.xmlbuilder\nzipimport\nzlib\nzmq\nzmq._future\nzmq.asyncio\nzmq.backend\nzmq.backend.cython\nzmq.backend.cython._device\nzmq.backend.cython._poll\nzmq.backend.cython._proxy_steerable\nzmq.backend.cython._version\nzmq.backend.cython.constants\nzmq.backend.cython.context\nzmq.backend.cython.error\nzmq.backend.cython.message\nzmq.backend.cython.socket\nzmq.backend.cython.utils\nzmq.backend.select\nzmq.error\nzmq.eventloop\nzmq.eventloop.ioloop\nzmq.eventloop.zmqstream\nzmq.sugar\nzmq.sugar.attrsettr\nzmq.sugar.constants\nzmq.sugar.context\nzmq.sugar.frame\nzmq.sugar.poll\nzmq.sugar.socket\nzmq.sugar.stopwatch\nzmq.sugar.tracker\nzmq.sugar.version\nzmq.utils\nzmq.utils.constant_names\nzmq.utils.garbage\nzmq.utils.jsonapi\nzmq.utils.strtypes\nzope\n"
     ]
    }
   ],
   "source": [
    "import sys\n",
    "from math import sqrt\n",
    "for key in sorted(sys.modules.keys()):\n",
    "    print(key)"
   ]
  },
  {
   "cell_type": "code",
   "execution_count": 14,
   "metadata": {},
   "outputs": [
    {
     "output_type": "execute_result",
     "data": {
      "text/plain": [
       "True"
      ]
     },
     "metadata": {},
     "execution_count": 14
    }
   ],
   "source": [
    "import sys\n",
    "from math import sqrt\n",
    "'math' in sys.modules"
   ]
  },
  {
   "cell_type": "code",
   "execution_count": null,
   "metadata": {},
   "outputs": [],
   "source": []
  }
 ]
}