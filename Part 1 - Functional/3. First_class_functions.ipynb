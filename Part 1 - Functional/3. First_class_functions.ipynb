{
 "metadata": {
  "language_info": {
   "codemirror_mode": {
    "name": "ipython",
    "version": 3
   },
   "file_extension": ".py",
   "mimetype": "text/x-python",
   "name": "python",
   "nbconvert_exporter": "python",
   "pygments_lexer": "ipython3",
   "version": "3.7.8"
  },
  "orig_nbformat": 2,
  "kernelspec": {
   "name": "python378jvsc74a57bd057ab78e5cbccfb7d81052ee73eb1fa5d31916b2ddf92535c2cf1f81bb2af6d2a",
   "display_name": "Python 3.7.8 64-bit"
  }
 },
 "nbformat": 4,
 "nbformat_minor": 2,
 "cells": [
  {
   "source": [
    "# Docstrings and Annotations"
   ],
   "cell_type": "markdown",
   "metadata": {}
  },
  {
   "cell_type": "code",
   "execution_count": null,
   "metadata": {},
   "outputs": [],
   "source": [
    "def my_func():\n",
    "    \"\"\"this is my first function\n",
    "        with documentation\n",
    "    \"\"\"\n",
    "    return None\n",
    "help(my_func)"
   ]
  },
  {
   "source": [
    "## Lambda expressions: Anonymous function"
   ],
   "cell_type": "markdown",
   "metadata": {}
  },
  {
   "cell_type": "code",
   "execution_count": null,
   "metadata": {},
   "outputs": [],
   "source": [
    "def my_func(x):\n",
    "    return x**2\n",
    "print(my_func(3))\n",
    "print(\"------\")\n",
    "\n",
    "my_func = lambda x: x**3\n",
    "print(my_func(3))\n",
    "print(\"------\")\n",
    "\n",
    "def apply_func(x,fn):\n",
    "    return fn(x)\n",
    "print(apply_func(3,lambda x: x**2))\n"
   ]
  },
  {
   "source": [
    "## Sorted"
   ],
   "cell_type": "markdown",
   "metadata": {}
  },
  {
   "cell_type": "code",
   "execution_count": null,
   "metadata": {},
   "outputs": [],
   "source": [
    "l = [4,1,2,3,5]\n",
    "lst = ['C','a','d','B']\n",
    "print(sorted(l))\n",
    "print(sorted(lst))\n",
    "print(sorted(lst,key=lambda x: x.upper()))\n",
    "import random\n",
    "#randomized order\n",
    "print(sorted(l,key=lambda x: random.random()))"
   ]
  },
  {
   "source": [
    "## Callable"
   ],
   "cell_type": "markdown",
   "metadata": {}
  },
  {
   "cell_type": "code",
   "execution_count": 1,
   "metadata": {},
   "outputs": [
    {
     "output_type": "stream",
     "name": "stdout",
     "text": [
      "True\nTrue\nFalse\n"
     ]
    }
   ],
   "source": [
    "print(callable(print))\n",
    "print(callable('abc'.upper))\n",
    "print(callable('abc'))"
   ]
  },
  {
   "source": [
    "## map"
   ],
   "cell_type": "markdown",
   "metadata": {}
  },
  {
   "cell_type": "code",
   "execution_count": 2,
   "metadata": {},
   "outputs": [
    {
     "output_type": "execute_result",
     "data": {
      "text/plain": [
       "[2, 4, 6]"
      ]
     },
     "metadata": {},
     "execution_count": 2
    }
   ],
   "source": [
    "l = [1,2,3]\n",
    "list(map(lambda x:x*2, l))\n"
   ]
  },
  {
   "cell_type": "code",
   "execution_count": 3,
   "metadata": {},
   "outputs": [
    {
     "output_type": "stream",
     "name": "stdout",
     "text": [
      "[6, 6, 6]\n"
     ]
    }
   ],
   "source": [
    "def add(x,y):\n",
    "    return x+y\n",
    "a = [1,2,3]\n",
    "b = [5,4,3]\n",
    "print(list(map(add,a,b)))\n"
   ]
  },
  {
   "source": [
    "## filter"
   ],
   "cell_type": "markdown",
   "metadata": {}
  },
  {
   "cell_type": "code",
   "execution_count": 4,
   "metadata": {},
   "outputs": [
    {
     "output_type": "stream",
     "name": "stdout",
     "text": [
      "[1, 2, 3, 4]\n[0, 2, 4]\n[0, 2, 4]\n"
     ]
    }
   ],
   "source": [
    "def is_even(x):\n",
    "    return x%2 == 0\n",
    "\n",
    "l = [0,1,2,3,4]\n",
    "print(list(filter(None,l)))\n",
    "print(list(filter(is_even,l)))\n",
    "print(list(filter(lambda x: x%2 == 0,l)))"
   ]
  },
  {
   "source": [
    "## zip"
   ],
   "cell_type": "markdown",
   "metadata": {}
  },
  {
   "cell_type": "code",
   "execution_count": 5,
   "metadata": {},
   "outputs": [
    {
     "output_type": "stream",
     "name": "stdout",
     "text": [
      "[(0, 'a'), (1, 'b'), (2, 'c')]\n"
     ]
    }
   ],
   "source": [
    "\n",
    "a = [0,1,2,3,4]\n",
    "b = ['a','b','c']\n",
    "\n",
    "print(list(zip(a,b)))"
   ]
  },
  {
   "source": [
    "## reducing function"
   ],
   "cell_type": "markdown",
   "metadata": {}
  },
  {
   "cell_type": "code",
   "execution_count": 6,
   "metadata": {},
   "outputs": [
    {
     "output_type": "stream",
     "name": "stdout",
     "text": [
      "4\n0\n10\n"
     ]
    }
   ],
   "source": [
    "#how it works\n",
    "def my_reduce(fn, seq):\n",
    "        result = seq[0]\n",
    "        for x in seq[1:]:\n",
    "            result = fn(result,x)\n",
    "        return result\n",
    "a = [0,1,2,3,4]\n",
    "max_value = my_reduce(lambda x,y:x if x>y else y, a)\n",
    "min_value = my_reduce(lambda x,y:x if x<y else y, a)\n",
    "sum_value = my_reduce(lambda x,y:x+y, a)\n",
    "\n",
    "print(max_value)\n",
    "print(min_value)\n",
    "print(sum_value)"
   ]
  },
  {
   "cell_type": "code",
   "execution_count": 2,
   "metadata": {},
   "outputs": [
    {
     "output_type": "stream",
     "name": "stdout",
     "text": [
      "4\n0\n10\n0\n0\n110\n"
     ]
    }
   ],
   "source": [
    "from functools import reduce\n",
    "\n",
    "a = [0,1,2,3,4]\n",
    "max_value = reduce(lambda x,y:x if x>y else y, a)\n",
    "min_value = reduce(lambda x,y:x if x<y else y, a)\n",
    "sum_value = reduce(lambda x,y:x+y, a)\n",
    "print(max_value)\n",
    "print(min_value)\n",
    "print(sum_value)\n",
    "\n",
    "b = []\n",
    "max_value = reduce(lambda x,y:x if x>y else y, b, 0)\n",
    "min_value = reduce(lambda x,y:x if x<y else y, b, 0)\n",
    "sum_value = reduce(lambda x,y:x+y, a, 100)\n",
    "print(max_value)\n",
    "print(min_value)\n",
    "print(sum_value)"
   ]
  },
  {
   "source": [
    "# Partial Function"
   ],
   "cell_type": "markdown",
   "metadata": {}
  },
  {
   "cell_type": "code",
   "execution_count": 10,
   "metadata": {},
   "outputs": [
    {
     "output_type": "stream",
     "name": "stdout",
     "text": [
      "100\n100\n"
     ]
    }
   ],
   "source": [
    "from functools import partial\n",
    "def pow(base,exponent):\n",
    "    return base**exponent\n",
    "sq = partial(pow, exponent=2)\n",
    "cu = partial(pow, exponent=3)\n",
    "\n",
    "print(sq(10))\n",
    "print(cu(10,exponent=2))\n"
   ]
  },
  {
   "source": [
    "# operator Module\n"
   ],
   "cell_type": "markdown",
   "metadata": {}
  },
  {
   "cell_type": "code",
   "execution_count": 11,
   "metadata": {},
   "outputs": [
    {
     "output_type": "execute_result",
     "data": {
      "text/plain": [
       "['__abs__',\n",
       " '__add__',\n",
       " '__all__',\n",
       " '__and__',\n",
       " '__builtins__',\n",
       " '__cached__',\n",
       " '__concat__',\n",
       " '__contains__',\n",
       " '__delitem__',\n",
       " '__doc__',\n",
       " '__eq__',\n",
       " '__file__',\n",
       " '__floordiv__',\n",
       " '__ge__',\n",
       " '__getitem__',\n",
       " '__gt__',\n",
       " '__iadd__',\n",
       " '__iand__',\n",
       " '__iconcat__',\n",
       " '__ifloordiv__',\n",
       " '__ilshift__',\n",
       " '__imatmul__',\n",
       " '__imod__',\n",
       " '__imul__',\n",
       " '__index__',\n",
       " '__inv__',\n",
       " '__invert__',\n",
       " '__ior__',\n",
       " '__ipow__',\n",
       " '__irshift__',\n",
       " '__isub__',\n",
       " '__itruediv__',\n",
       " '__ixor__',\n",
       " '__le__',\n",
       " '__loader__',\n",
       " '__lshift__',\n",
       " '__lt__',\n",
       " '__matmul__',\n",
       " '__mod__',\n",
       " '__mul__',\n",
       " '__name__',\n",
       " '__ne__',\n",
       " '__neg__',\n",
       " '__not__',\n",
       " '__or__',\n",
       " '__package__',\n",
       " '__pos__',\n",
       " '__pow__',\n",
       " '__rshift__',\n",
       " '__setitem__',\n",
       " '__spec__',\n",
       " '__sub__',\n",
       " '__truediv__',\n",
       " '__xor__',\n",
       " '_abs',\n",
       " 'abs',\n",
       " 'add',\n",
       " 'and_',\n",
       " 'attrgetter',\n",
       " 'concat',\n",
       " 'contains',\n",
       " 'countOf',\n",
       " 'delitem',\n",
       " 'eq',\n",
       " 'floordiv',\n",
       " 'ge',\n",
       " 'getitem',\n",
       " 'gt',\n",
       " 'iadd',\n",
       " 'iand',\n",
       " 'iconcat',\n",
       " 'ifloordiv',\n",
       " 'ilshift',\n",
       " 'imatmul',\n",
       " 'imod',\n",
       " 'imul',\n",
       " 'index',\n",
       " 'indexOf',\n",
       " 'inv',\n",
       " 'invert',\n",
       " 'ior',\n",
       " 'ipow',\n",
       " 'irshift',\n",
       " 'is_',\n",
       " 'is_not',\n",
       " 'isub',\n",
       " 'itemgetter',\n",
       " 'itruediv',\n",
       " 'ixor',\n",
       " 'le',\n",
       " 'length_hint',\n",
       " 'lshift',\n",
       " 'lt',\n",
       " 'matmul',\n",
       " 'methodcaller',\n",
       " 'mod',\n",
       " 'mul',\n",
       " 'ne',\n",
       " 'neg',\n",
       " 'not_',\n",
       " 'or_',\n",
       " 'pos',\n",
       " 'pow',\n",
       " 'rshift',\n",
       " 'setitem',\n",
       " 'sub',\n",
       " 'truediv',\n",
       " 'truth',\n",
       " 'xor']"
      ]
     },
     "metadata": {},
     "execution_count": 11
    }
   ],
   "source": [
    "import operator\n",
    "dir(operator)"
   ]
  },
  {
   "cell_type": "code",
   "execution_count": 17,
   "metadata": {},
   "outputs": [
    {
     "output_type": "stream",
     "name": "stdout",
     "text": [
      "3\n10\n"
     ]
    }
   ],
   "source": [
    "from functools import reduce\n",
    "import operator\n",
    "l = [1,2,3,4]\n",
    "print(operator.add(1,2))\n",
    "print(reduce(operator.add,l))\n",
    "\n"
   ]
  }
 ]
}