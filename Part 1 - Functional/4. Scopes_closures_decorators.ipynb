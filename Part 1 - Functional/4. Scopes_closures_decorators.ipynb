{
 "metadata": {
  "language_info": {
   "codemirror_mode": {
    "name": "ipython",
    "version": 3
   },
   "file_extension": ".py",
   "mimetype": "text/x-python",
   "name": "python",
   "nbconvert_exporter": "python",
   "pygments_lexer": "ipython3",
   "version": "3.7.8"
  },
  "orig_nbformat": 2,
  "kernelspec": {
   "name": "python378jvsc74a57bd057ab78e5cbccfb7d81052ee73eb1fa5d31916b2ddf92535c2cf1f81bb2af6d2a",
   "display_name": "Python 3.7.8 64-bit"
  }
 },
 "nbformat": 4,
 "nbformat_minor": 2,
 "cells": [
  {
   "source": [
    "# Global and local scopes\n"
   ],
   "cell_type": "markdown",
   "metadata": {}
  },
  {
   "cell_type": "code",
   "execution_count": 11,
   "metadata": {},
   "outputs": [
    {
     "output_type": "stream",
     "name": "stdout",
     "text": [
      "100\n1\n0\n"
     ]
    }
   ],
   "source": [
    "#local scope\n",
    "a=0\n",
    "b=1\n",
    "def func():\n",
    "    a=100\n",
    "    print(a)\n",
    "    print(b)\n",
    "func()\n",
    "print(a)"
   ]
  },
  {
   "cell_type": "code",
   "execution_count": 9,
   "metadata": {},
   "outputs": [
    {
     "output_type": "stream",
     "name": "stdout",
     "text": [
      "100\n100\n"
     ]
    }
   ],
   "source": [
    "#Global scope\n",
    "a=0\n",
    "def func():\n",
    "    global a\n",
    "    a=100\n",
    "    print(a)\n",
    "func()\n",
    "print(a)"
   ]
  },
  {
   "source": [
    "## Nonlocal Scopes"
   ],
   "cell_type": "markdown",
   "metadata": {}
  },
  {
   "cell_type": "code",
   "execution_count": 13,
   "metadata": {},
   "outputs": [
    {
     "output_type": "stream",
     "name": "stdout",
     "text": [
      "10\n"
     ]
    }
   ],
   "source": [
    "def outer_func():\n",
    "    a=10\n",
    "    def inner_func():\n",
    "        print(a)\n",
    "    inner_func()\n",
    "outer_func()"
   ]
  },
  {
   "cell_type": "code",
   "execution_count": 14,
   "metadata": {},
   "outputs": [
    {
     "output_type": "stream",
     "name": "stdout",
     "text": [
      "100\n"
     ]
    }
   ],
   "source": [
    "def outer_func():\n",
    "    a=10\n",
    "    def inner1():\n",
    "        def inner2():\n",
    "            nonlocal a\n",
    "            a=100\n",
    "        inner2()\n",
    "    inner1()\n",
    "    print(a)\n",
    "outer_func()"
   ]
  },
  {
   "cell_type": "code",
   "execution_count": 15,
   "metadata": {},
   "outputs": [
    {
     "output_type": "stream",
     "name": "stdout",
     "text": [
      "inner2\n"
     ]
    }
   ],
   "source": [
    "def outer_func():\n",
    "    a='outer'\n",
    "    def inner1():\n",
    "        nonlocal a\n",
    "        a='inner1'\n",
    "        def inner2():\n",
    "            nonlocal a\n",
    "            a='inner2'\n",
    "        inner2()\n",
    "    inner1()\n",
    "    print(a)\n",
    "outer_func()"
   ]
  },
  {
   "source": [
    "## Closures"
   ],
   "cell_type": "markdown",
   "metadata": {}
  },
  {
   "cell_type": "code",
   "execution_count": 32,
   "metadata": {},
   "outputs": [
    {
     "output_type": "stream",
     "name": "stdout",
     "text": [
      "f1:1\nf1:2\nf2:1\nf1:3\nf2:2\nf2:3\n"
     ]
    }
   ],
   "source": [
    "def counter():\n",
    "    #closure starts\n",
    "    count=0\n",
    "    def inner():\n",
    "        nonlocal count\n",
    "        count+=1\n",
    "        return count\n",
    "        #closure ends\n",
    "    return inner\n",
    "f1 = counter()\n",
    "f2 = counter()\n",
    "print(\"f1:{0}\".format(f1()))\n",
    "print(\"f1:{0}\".format(f1()))\n",
    "print(\"f2:{0}\".format(f2()))\n",
    "print(\"f1:{0}\".format(f1()))\n",
    "print(\"f2:{0}\".format(f2()))\n",
    "print(\"f2:{0}\".format(f2()))\n",
    "\n",
    "\n"
   ]
  },
  {
   "cell_type": "code",
   "execution_count": 3,
   "metadata": {},
   "outputs": [
    {
     "output_type": "stream",
     "name": "stdout",
     "text": [
      "1\n2\n3\n4\n"
     ]
    }
   ],
   "source": [
    "#share free variable between 2 different closures\n",
    "def func_outer():\n",
    "    count=0\n",
    "    def inc1():\n",
    "        nonlocal count \n",
    "        count+=1\n",
    "        return count\n",
    "    def inc2():\n",
    "        nonlocal count\n",
    "        count+=1\n",
    "        return count\n",
    "    return inc1, inc2\n",
    "f1, f2 = func_outer()\n",
    "print(f1())\n",
    "print(f2())\n",
    "print(f1())\n",
    "print(f2())"
   ]
  },
  {
   "cell_type": "code",
   "execution_count": 38,
   "metadata": {},
   "outputs": [
    {
     "output_type": "stream",
     "name": "stdout",
     "text": [
      "13\n13\n13\n"
     ]
    }
   ],
   "source": [
    "#shared extended scopes Caution!\n",
    "adders=[]\n",
    "for n in range(1,4):\n",
    "    #n is the free variable that creates the closure with lambda\n",
    "    adders.append(lambda x: x+n)\n",
    "print(adders[0](10))\n",
    "print(adders[1](10))\n",
    "print(adders[2](10))"
   ]
  },
  {
   "cell_type": "code",
   "execution_count": 48,
   "metadata": {},
   "outputs": [
    {
     "output_type": "stream",
     "name": "stdout",
     "text": [
      "('n',)\n('current', 'n')\n<function incrementer.<locals>.inner.<locals>.inc at 0x0000027AA7242798>\n102\n"
     ]
    }
   ],
   "source": [
    "#nested closures\n",
    "def incrementer(n):\n",
    "    #inner + n is a closure\n",
    "    def inner(start):\n",
    "        current=start\n",
    "        #inner + current is a closure\n",
    "        def inc():\n",
    "            nonlocal current\n",
    "            current+=n\n",
    "            return current\n",
    "        return inc\n",
    "    return inner\n",
    "\n",
    "fn = incrementer(2)\n",
    "inc_2 = fn(100)\n",
    "print(fn.__code__.co_freevars)\n",
    "print(inc_2.__code__.co_freevars)\n",
    "print(fn(100))\n",
    "print(inc_2())\n"
   ]
  },
  {
   "source": [
    "## closure applications"
   ],
   "cell_type": "markdown",
   "metadata": {}
  },
  {
   "cell_type": "code",
   "execution_count": 56,
   "metadata": {},
   "outputs": [
    {
     "output_type": "stream",
     "name": "stdout",
     "text": [
      "10.0\n20.0\n15.0\n25.0\n(<cell at 0x0000027AA8140D38: list object at 0x0000027AA84B5788>,)\n(<cell at 0x0000027AA8140CD8: list object at 0x0000027AA7FEB048>,)\n"
     ]
    }
   ],
   "source": [
    "def averager():\n",
    "    numbers = []\n",
    "    def add(number):\n",
    "        numbers.append(number)\n",
    "        total = sum(numbers)\n",
    "        count = len(numbers)\n",
    "        return total/count\n",
    "    return add\n",
    "a = averager()\n",
    "b = averager()\n",
    "print(a(10))\n",
    "print(b(20))\n",
    "print(a(20))\n",
    "print(b(30))\n",
    "print(a.__closure__)\n",
    "print(b.__closure__)"
   ]
  },
  {
   "source": [
    "## emulate closure with a class"
   ],
   "cell_type": "markdown",
   "metadata": {}
  },
  {
   "cell_type": "code",
   "execution_count": 62,
   "metadata": {},
   "outputs": [
    {
     "output_type": "stream",
     "name": "stdout",
     "text": [
      "10.0\n15.0\n10.0\n15.0\n"
     ]
    }
   ],
   "source": [
    "class Averager:\n",
    "    def __init__(self):\n",
    "        self.total=0\n",
    "        self.count=0\n",
    "    def add(self, number):\n",
    "        self.total+=number\n",
    "        self.count+=1\n",
    "        return self.total/self.count\n",
    "\n",
    "def averager():\n",
    "    total = 0\n",
    "    count = 0\n",
    "    def add(number):\n",
    "        nonlocal total\n",
    "        nonlocal count\n",
    "        total += number\n",
    "        count += 1\n",
    "        return total/count\n",
    "    return add\n",
    "\n",
    "a = Averager()\n",
    "b = averager()\n",
    "print(a.add(10))\n",
    "print(a.add(20))\n",
    "print(b(10))\n",
    "print(b(20))\n"
   ]
  },
  {
   "cell_type": "code",
   "execution_count": 65,
   "metadata": {},
   "outputs": [],
   "source": [
    "from time import perf_counter\n",
    "\n",
    "class Timer:\n",
    "    def __init__(self):\n",
    "        self.start = perf_counter()\n",
    "    \n",
    "    def __call__(self):\n",
    "        return perf_counter() -self.start\n",
    "\n",
    "t1 = Timer()\n"
   ]
  },
  {
   "cell_type": "code",
   "execution_count": 66,
   "metadata": {},
   "outputs": [
    {
     "output_type": "execute_result",
     "data": {
      "text/plain": [
       "3.5869563999985985"
      ]
     },
     "metadata": {},
     "execution_count": 66
    }
   ],
   "source": [
    "t1()"
   ]
  },
  {
   "cell_type": "code",
   "execution_count": 67,
   "metadata": {},
   "outputs": [
    {
     "output_type": "execute_result",
     "data": {
      "text/plain": [
       "13.842820300000312"
      ]
     },
     "metadata": {},
     "execution_count": 67
    }
   ],
   "source": [
    "t1()"
   ]
  },
  {
   "cell_type": "code",
   "execution_count": 70,
   "metadata": {},
   "outputs": [],
   "source": [
    "def timer():\n",
    "        start = perf_counter()\n",
    "        def poll():\n",
    "            return perf_counter() - start\n",
    "        return poll\n",
    "t2 = timer()"
   ]
  },
  {
   "cell_type": "code",
   "execution_count": 71,
   "metadata": {},
   "outputs": [
    {
     "output_type": "execute_result",
     "data": {
      "text/plain": [
       "2.3391418000028352"
      ]
     },
     "metadata": {},
     "execution_count": 71
    }
   ],
   "source": [
    "t2()"
   ]
  },
  {
   "cell_type": "code",
   "execution_count": 72,
   "metadata": {},
   "outputs": [
    {
     "output_type": "execute_result",
     "data": {
      "text/plain": [
       "7.867270100003225"
      ]
     },
     "metadata": {},
     "execution_count": 72
    }
   ],
   "source": [
    "t2()"
   ]
  },
  {
   "cell_type": "code",
   "execution_count": 76,
   "metadata": {},
   "outputs": [
    {
     "output_type": "stream",
     "name": "stdout",
     "text": [
      "1\n2\n101\n102\n"
     ]
    }
   ],
   "source": [
    "def counter(initial_value=0):\n",
    "    def my_closure(increment=1):\n",
    "        nonlocal initial_value\n",
    "        initial_value+=increment\n",
    "        return initial_value\n",
    "    return my_closure\n",
    "\n",
    "c1 = counter()\n",
    "c2 = counter(100)\n",
    "print(c1())\n",
    "print(c1())\n",
    "print(c2())\n",
    "print(c2())"
   ]
  },
  {
   "source": [
    "## Decorators"
   ],
   "cell_type": "markdown",
   "metadata": {}
  },
  {
   "cell_type": "code",
   "execution_count": 5,
   "metadata": {},
   "outputs": [
    {
     "output_type": "stream",
     "name": "stdout",
     "text": [
      "Function my_func was called 1 times\nFunction decorated was called 1 times\nFunction decorated was called 2 times\n_____________\n3\n_____________\n3\n_____________\nHelp on function decorated in module __main__:\n\ndecorated(a, b=0)\n    this is the documentation \n    for decorated function\n\nNone\n"
     ]
    }
   ],
   "source": [
    "# counter is the decorator fucntion, it adds extra functionality to my_func\n",
    "# functools.wraps allows to keep the original meta data of a function after decoration is applied\n",
    "from functools import wraps \n",
    "def counter(fn):\n",
    "    count=0\n",
    "    @wraps(fn)\n",
    "    def inner(*args,**kwargs):\n",
    "        nonlocal count\n",
    "        count+=1\n",
    "        print('Function {0} was called {1} times'.format(fn.__name__, count))\n",
    "        return fn(*args,**kwargs)\n",
    "    return inner\n",
    "\n",
    "def my_func(a,b=0):\n",
    "    return a+b\n",
    "\n",
    "@counter\n",
    "def decorated(a,b=0):\n",
    "    \"\"\" this is the documentation \n",
    "    for decorated function \"\"\"\n",
    "    return a+b\n",
    "\n",
    "my_func = counter(my_func)\n",
    "result = my_func(1,2)\n",
    "result2 = decorated(1,2)\n",
    "result3 = decorated(1,5)\n",
    "print('_____________')\n",
    "print(result)\n",
    "print('_____________')\n",
    "print(result2)\n",
    "print('_____________')\n",
    "print(help(decorated))"
   ]
  },
  {
   "source": [
    "## Stacked Decorators"
   ],
   "cell_type": "markdown",
   "metadata": {}
  },
  {
   "cell_type": "code",
   "execution_count": 11,
   "metadata": {},
   "outputs": [
    {
     "output_type": "stream",
     "name": "stdout",
     "text": [
      "func1: ran for 0.000001s\n2021-04-11 22:14:02.616830+00:00: called func1\nNone\n2021-04-11 22:14:02.616830+00:00: called func2\nfunc2: ran for 0.000034s\nNone\n"
     ]
    }
   ],
   "source": [
    "def timed(fn):\n",
    "    from functools import wraps\n",
    "    from time import perf_counter\n",
    "\n",
    "    @wraps(fn)\n",
    "    def inner(*args,**kwargs):\n",
    "        start = perf_counter()\n",
    "        result = fn(*args,**kwargs)\n",
    "        end = perf_counter()\n",
    "        print('{0}: ran for {1:.6f}s'.format(fn.__name__, end-start))\n",
    "        return result\n",
    "    return inner\n",
    "\n",
    "def logged(fn):\n",
    "    from functools import wraps\n",
    "    from datetime import datetime, timezone\n",
    "\n",
    "    @wraps(fn)\n",
    "    def inner(*args,**kwargs):\n",
    "        run_dt = datetime.now(timezone.utc)\n",
    "        result = fn(*args,**kwargs)\n",
    "        print('{0}: called {1}'.format(run_dt, fn.__name__))\n",
    "        return result\n",
    "    return inner\n",
    "\n",
    "@logged\n",
    "@timed\n",
    "def func1():\n",
    "    pass\n",
    "\n",
    "@timed\n",
    "@logged\n",
    "def func2():\n",
    "    pass\n",
    "\n",
    "print(func1())\n",
    "print(func2())"
   ]
  },
  {
   "source": [
    "# Memoization"
   ],
   "cell_type": "markdown",
   "metadata": {}
  },
  {
   "cell_type": "code",
   "execution_count": 15,
   "metadata": {},
   "outputs": [
    {
     "output_type": "stream",
     "name": "stdout",
     "text": [
      "calculating fib(10)\ncalculating fib(9)\ncalculating fib(8)\ncalculating fib(7)\ncalculating fib(6)\ncalculating fib(5)\ncalculating fib(4)\ncalculating fib(3)\ncalculating fib(2)\ncalculating fib(1)\ncalculating fib(2)\ncalculating fib(3)\ncalculating fib(2)\ncalculating fib(1)\ncalculating fib(4)\ncalculating fib(3)\ncalculating fib(2)\ncalculating fib(1)\ncalculating fib(2)\ncalculating fib(5)\ncalculating fib(4)\ncalculating fib(3)\ncalculating fib(2)\ncalculating fib(1)\ncalculating fib(2)\ncalculating fib(3)\ncalculating fib(2)\ncalculating fib(1)\ncalculating fib(6)\ncalculating fib(5)\ncalculating fib(4)\ncalculating fib(3)\ncalculating fib(2)\ncalculating fib(1)\ncalculating fib(2)\ncalculating fib(3)\ncalculating fib(2)\ncalculating fib(1)\ncalculating fib(4)\ncalculating fib(3)\ncalculating fib(2)\ncalculating fib(1)\ncalculating fib(2)\ncalculating fib(7)\ncalculating fib(6)\ncalculating fib(5)\ncalculating fib(4)\ncalculating fib(3)\ncalculating fib(2)\ncalculating fib(1)\ncalculating fib(2)\ncalculating fib(3)\ncalculating fib(2)\ncalculating fib(1)\ncalculating fib(4)\ncalculating fib(3)\ncalculating fib(2)\ncalculating fib(1)\ncalculating fib(2)\ncalculating fib(5)\ncalculating fib(4)\ncalculating fib(3)\ncalculating fib(2)\ncalculating fib(1)\ncalculating fib(2)\ncalculating fib(3)\ncalculating fib(2)\ncalculating fib(1)\ncalculating fib(8)\ncalculating fib(7)\ncalculating fib(6)\ncalculating fib(5)\ncalculating fib(4)\ncalculating fib(3)\ncalculating fib(2)\ncalculating fib(1)\ncalculating fib(2)\ncalculating fib(3)\ncalculating fib(2)\ncalculating fib(1)\ncalculating fib(4)\ncalculating fib(3)\ncalculating fib(2)\ncalculating fib(1)\ncalculating fib(2)\ncalculating fib(5)\ncalculating fib(4)\ncalculating fib(3)\ncalculating fib(2)\ncalculating fib(1)\ncalculating fib(2)\ncalculating fib(3)\ncalculating fib(2)\ncalculating fib(1)\ncalculating fib(6)\ncalculating fib(5)\ncalculating fib(4)\ncalculating fib(3)\ncalculating fib(2)\ncalculating fib(1)\ncalculating fib(2)\ncalculating fib(3)\ncalculating fib(2)\ncalculating fib(1)\ncalculating fib(4)\ncalculating fib(3)\ncalculating fib(2)\ncalculating fib(1)\ncalculating fib(2)\n"
     ]
    },
    {
     "output_type": "execute_result",
     "data": {
      "text/plain": [
       "55"
      ]
     },
     "metadata": {},
     "execution_count": 15
    }
   ],
   "source": [
    "#recursive but inefficient way to calculate fibo seq.\n",
    "def fib(n):\n",
    "    print('calculating fib({0})'.format(n))\n",
    "    return 1 if n<3 else fib(n-1)+fib(n-2)\n",
    "fib(10)"
   ]
  },
  {
   "cell_type": "code",
   "execution_count": 26,
   "metadata": {},
   "outputs": [
    {
     "output_type": "stream",
     "name": "stdout",
     "text": [
      "calculating fib(10)\ncalculating fib(9)\ncalculating fib(8)\ncalculating fib(7)\ncalculating fib(6)\ncalculating fib(5)\ncalculating fib(4)\ncalculating fib(3)\n55\n--------------\ncalculating fib(10)\ncalculating fib(9)\ncalculating fib(8)\ncalculating fib(7)\ncalculating fib(6)\ncalculating fib(5)\ncalculating fib(4)\ncalculating fib(3)\n55\n"
     ]
    }
   ],
   "source": [
    "# class and closure way to calculate fibo seq\n",
    "class Fib:\n",
    "    def __init__(self):\n",
    "        self.cache = {1: 1,2: 1} #first 2 fib numbers\n",
    "    \n",
    "    def fib(self, n):\n",
    "        if n not in self.cache:\n",
    "            print('calculating fib({0})'.format(n))\n",
    "            self.cache[n] = self.fib(n-1) + self.fib(n-2)\n",
    "        return self.cache[n]\n",
    "\n",
    "def closure_fibo():\n",
    "    cache = {1:1,2:1}\n",
    "    def calc_fib(n):\n",
    "        if n not in cache:\n",
    "            print('calculating fib({0})'.format(n))\n",
    "            cache[n]=calc_fib(n-1)+calc_fib(n-2)\n",
    "        return cache[n]\n",
    "    return calc_fib\n",
    "\n",
    "f = Fib()\n",
    "f2 =closure_fibo()\n",
    "print(f.fib(10))\n",
    "print('--------------')\n",
    "print(f2(10))"
   ]
  },
  {
   "cell_type": "code",
   "execution_count": 15,
   "metadata": {},
   "outputs": [
    {
     "output_type": "stream",
     "name": "stdout",
     "text": [
      "calculating fib(10)\ncalculating fib(9)\ncalculating fib(8)\ncalculating fib(7)\ncalculating fib(6)\ncalculating fib(5)\ncalculating fib(4)\ncalculating fib(3)\ncalculating fib(2)\ncalculating fib(1)\n55\n55\ncalculating fib(11)\n89\ncalculating 4!\ncalculating 3!\ncalculating 2!\ncalculating 1!\n24\ncalculating 6!\ncalculating 5!\n720\n"
     ]
    }
   ],
   "source": [
    "# memoization way\n",
    "def memoize(fn):\n",
    "    cache = dict()\n",
    "    def inner(n):\n",
    "        if n not in cache:\n",
    "            cache[n]=fn(n)\n",
    "        return cache[n]\n",
    "    return inner\n",
    "\n",
    "@memoize\n",
    "def fibonacci(n):\n",
    "    print('calculating fib({0})'.format(n))\n",
    "    return 1 if n < 3 else fibonacci(n-1) + fibonacci(n-2)\n",
    "\n",
    "@memoize\n",
    "def factorial(n):\n",
    "    print('calculating {0}!'.format(n))\n",
    "    return 1 if n < 2 else n*factorial(n-1)\n",
    "\n",
    "print(fibonacci(10))\n",
    "print(fibonacci(10))\n",
    "print(fibonacci(11))\n",
    "print(factorial(4))\n",
    "print(factorial(6))"
   ]
  },
  {
   "cell_type": "code",
   "execution_count": 25,
   "metadata": {},
   "outputs": [
    {
     "output_type": "stream",
     "name": "stdout",
     "text": [
      "calculating 4!\ncalculating 3!\ncalculating 2!\ncalculating 1!\n24\ncalculating 7!\ncalculating 6!\ncalculating 5!\n5040\ncalculating 4!\ncalculating 3!\ncalculating 2!\ncalculating 1!\n24\nHelp on function lru_cache in module functools:\n\nlru_cache(maxsize=128, typed=False)\n    Least-recently-used cache decorator.\n    \n    If *maxsize* is set to None, the LRU features are disabled and the cache\n    can grow without bound.\n    \n    If *typed* is True, arguments of different types will be cached separately.\n    For example, f(3.0) and f(3) will be treated as distinct calls with\n    distinct results.\n    \n    Arguments to the cached function must be hashable.\n    \n    View the cache statistics named tuple (hits, misses, maxsize, currsize)\n    with f.cache_info().  Clear the cache and statistics with f.cache_clear().\n    Access the underlying function with f.__wrapped__.\n    \n    See:  http://en.wikipedia.org/wiki/Cache_replacement_policies#Least_recently_used_(LRU)\n\n"
     ]
    }
   ],
   "source": [
    "# memoization built-in function\n",
    "from functools import lru_cache\n",
    "\n",
    "@lru_cache()\n",
    "def fibonacci(n):\n",
    "    print('calculating fib({0})'.format(n))\n",
    "    return 1 if n < 3 else fibonacci(n-1) + fibonacci(n-2)\n",
    "\n",
    "@lru_cache(maxsize=3)\n",
    "def factorial(n):\n",
    "    print('calculating {0}!'.format(n))\n",
    "    return 1 if n < 2 else n*factorial(n-1)\n",
    "\n",
    "print(factorial(4))\n",
    "print(factorial(7))\n",
    "print(factorial(4))\n",
    "help(lru_cache)"
   ]
  },
  {
   "source": [
    "## Decorator with parameters"
   ],
   "cell_type": "markdown",
   "metadata": {}
  },
  {
   "cell_type": "code",
   "execution_count": 28,
   "metadata": {},
   "outputs": [
    {
     "output_type": "stream",
     "name": "stdout",
     "text": [
      "decorated function parameters: a=10, b=20\nHello john\nNone\n"
     ]
    }
   ],
   "source": [
    "def my_dec(a,b):\n",
    "    def dec(fn):\n",
    "        def inner(*args,**kwargs):\n",
    "            print(\"decorated function parameters: a={0}, b={1}\".format(a,b))\n",
    "            return fn(*args,**kwargs)\n",
    "        return inner\n",
    "    return dec\n",
    "@my_dec(10,20)\n",
    "def func(s):\n",
    "    print('Hello {0}'.format(s))\n",
    "\n",
    "print(func('john'))"
   ]
  },
  {
   "source": [
    "## Decorator class "
   ],
   "cell_type": "markdown",
   "metadata": {}
  },
  {
   "cell_type": "code",
   "execution_count": 34,
   "metadata": {},
   "outputs": [
    {
     "output_type": "stream",
     "name": "stdout",
     "text": [
      "decorated function parm: a=10, b=20\nHello john\n"
     ]
    }
   ],
   "source": [
    "class MyClass:\n",
    "    def __init__(self,a,b):\n",
    "        self.a = a\n",
    "        self.b = b\n",
    "    def __call__(self,fn):\n",
    "        def inner(*args,**kwargs):\n",
    "            print(\"decorated function parm: a={0}, b={1}\".format(self.a,self.b))\n",
    "            return fn(*args,**kwargs)\n",
    "        return inner\n",
    "\n",
    "@MyClass(10,20)\n",
    "def my_func(s):\n",
    "    print('Hello {0}'.format(s))\n",
    "my_func('john')"
   ]
  },
  {
   "source": [
    "## decorating classes"
   ],
   "cell_type": "markdown",
   "metadata": {}
  },
  {
   "cell_type": "code",
   "execution_count": 42,
   "metadata": {},
   "outputs": [
    {
     "output_type": "stream",
     "name": "stdout",
     "text": [
      "2\n3\n100\nhijo de re 1000 putas!!\n"
     ]
    }
   ],
   "source": [
    "#adding attributes and methods dynamically to a Class\n",
    "from fractions import Fraction\n",
    "f = Fraction(2,3)\n",
    "print(f.numerator)\n",
    "print(f.denominator)\n",
    "Fraction.newproperty = 100\n",
    "print(f.newproperty)\n",
    "Fraction.newmethod = lambda self, message: 'hijo de re {0} putas!!'.format(message)\n",
    "print(f.newmethod('1000'))\n"
   ]
  },
  {
   "cell_type": "code",
   "execution_count": 47,
   "metadata": {},
   "outputs": [
    {
     "output_type": "execute_result",
     "data": {
      "text/plain": [
       "['time: 2021-04-12 00:55:44.812576+00:00',\n",
       " 'class: Person',\n",
       " 'id: 0x210eefce708',\n",
       " 'name: john',\n",
       " 'birth_year: 1992']"
      ]
     },
     "metadata": {},
     "execution_count": 47
    }
   ],
   "source": [
    "# using decorator\n",
    "from datetime import datetime, timezone\n",
    "\n",
    "def info(self):\n",
    "    results = []\n",
    "    results.append('time: {0}'.format(datetime.now(timezone.utc)))\n",
    "    results.append('class: {0}'.format(self.__class__.__name__))\n",
    "    results.append('id: {0}'.format(hex(id(self))))\n",
    "    for k,v in vars(self).items():\n",
    "        results.append('{0}: {1}'.format(k,v))\n",
    "    return results\n",
    "\n",
    "def debug_info(cls):\n",
    "    cls.debug = info\n",
    "    return cls\n",
    "\n",
    "@debug_info\n",
    "class Person:\n",
    "    def __init__(self, nombre, birth_year):\n",
    "        self.name = nombre\n",
    "        self.birth_year = birth_year\n",
    "    def say_hi():\n",
    "        return 'hello there!'\n",
    "\n",
    "p = Person('john', 1992)\n",
    "p.debug()"
   ]
  },
  {
   "source": [
    "## Dispatching\n",
    "operator overloading is not possible on python, instead it has Single Dispatching Genric Functions "
   ],
   "cell_type": "markdown",
   "metadata": {}
  },
  {
   "cell_type": "code",
   "execution_count": null,
   "metadata": {},
   "outputs": [],
   "source": []
  }
 ]
}