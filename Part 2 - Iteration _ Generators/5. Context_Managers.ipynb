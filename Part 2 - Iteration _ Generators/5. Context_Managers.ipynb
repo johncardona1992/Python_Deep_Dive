{
 "metadata": {
  "language_info": {
   "codemirror_mode": {
    "name": "ipython",
    "version": 3
   },
   "file_extension": ".py",
   "mimetype": "text/x-python",
   "name": "python",
   "nbconvert_exporter": "python",
   "pygments_lexer": "ipython3",
   "version": "3.7.8"
  },
  "orig_nbformat": 2,
  "kernelspec": {
   "name": "python378jvsc74a57bd057ab78e5cbccfb7d81052ee73eb1fa5d31916b2ddf92535c2cf1f81bb2af6d2a",
   "display_name": "Python 3.7.8 64-bit ('computerscience': conda)"
  }
 },
 "nbformat": 4,
 "nbformat_minor": 2,
 "cells": [
  {
   "source": [
    "# Context Managers\n",
    "* usefull for anything that needs to provide Enter/Exit, Start/Stop, Set/Reset"
   ],
   "cell_type": "markdown",
   "metadata": {}
  },
  {
   "cell_type": "code",
   "execution_count": 7,
   "metadata": {},
   "outputs": [
    {
     "output_type": "stream",
     "name": "stdout",
     "text": [
      "__init__ running\nentering context...\ninside with block the Return object\nexiting context...\n*** error occurred: <class 'ValueError'>,custom message\n"
     ]
    }
   ],
   "source": [
    "class MyContext:\n",
    "    def __init__(self):\n",
    "        print('__init__ running')\n",
    "        self.obj = None\n",
    "    def __enter__(self):\n",
    "        print('entering context...')\n",
    "        self.obj = 'the Return object'\n",
    "        return self.obj\n",
    "    def __exit__(self,exc_type,exc_value,exc_tb):\n",
    "        print('exiting context...')\n",
    "        if exc_type:\n",
    "            print(f'*** error occurred: {exc_type},{exc_value}')\n",
    "        return True\n",
    "\n",
    "with MyContext() as obj:\n",
    "    print('inside with block', obj)\n",
    "    raise ValueError('custom message')"
   ]
  },
  {
   "source": [
    "# Generators and context managers"
   ],
   "cell_type": "markdown",
   "metadata": {}
  },
  {
   "cell_type": "code",
   "execution_count": 14,
   "metadata": {},
   "outputs": [
    {
     "output_type": "stream",
     "name": "stdout",
     "text": [
      "creating context and yielding object\n[1, 2, 3, 4]\nexiting context and cleaning up\npassing exception\n"
     ]
    }
   ],
   "source": [
    "def my_gen():\n",
    "    try:\n",
    "        print('creating context and yielding object')\n",
    "        yield [1,2,3,4]\n",
    "    finally:\n",
    "        print('exiting context and cleaning up')\n",
    "\n",
    "gen = my_gen()\n",
    "lst = next(gen)\n",
    "print(lst)\n",
    "try:\n",
    "    next(gen)\n",
    "except StopIteration:\n",
    "    print('passing exception')\n",
    "    pass"
   ]
  },
  {
   "cell_type": "code",
   "execution_count": 15,
   "metadata": {},
   "outputs": [
    {
     "output_type": "stream",
     "name": "stdout",
     "text": [
      "entering Context Manager\ncreating context and yielding object\n[1, 2, 3, 4]\nexiting context and cleaning up\npassing exception\n"
     ]
    }
   ],
   "source": [
    "class GenCtxManager:\n",
    "    def __init__(self, gen_func):\n",
    "        self._gen = gen_func()\n",
    "    def __enter__(self):\n",
    "        print('entering Context Manager')\n",
    "        return next(self._gen)\n",
    "    def __exit__(self,exc_type,exc_value,exc_tb):\n",
    "        try:\n",
    "            next(self._gen)\n",
    "        except StopIteration:\n",
    "            print('passing exception')\n",
    "            pass\n",
    "        return False\n",
    "\n",
    "def my_gen():\n",
    "    try:\n",
    "        print('creating context and yielding object')\n",
    "        yield [1,2,3,4]\n",
    "    finally:\n",
    "        print('exiting context and cleaning up')\n",
    "        \n",
    "# use context manager\n",
    "with GenCtxManager(my_gen) as obj:\n",
    "    print(obj) "
   ]
  }
 ]
}