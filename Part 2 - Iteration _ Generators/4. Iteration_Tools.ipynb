{
 "metadata": {
  "language_info": {
   "codemirror_mode": {
    "name": "ipython",
    "version": 3
   },
   "file_extension": ".py",
   "mimetype": "text/x-python",
   "name": "python",
   "nbconvert_exporter": "python",
   "pygments_lexer": "ipython3",
   "version": "3.7.8"
  },
  "orig_nbformat": 2,
  "kernelspec": {
   "name": "python378jvsc74a57bd057ab78e5cbccfb7d81052ee73eb1fa5d31916b2ddf92535c2cf1f81bb2af6d2a",
   "display_name": "Python 3.7.8 64-bit ('computerscience': conda)"
  }
 },
 "nbformat": 4,
 "nbformat_minor": 2,
 "cells": [
  {
   "source": [
    "# Iteration Tools"
   ],
   "cell_type": "markdown",
   "metadata": {}
  },
  {
   "source": [
    "## Aggregator\n",
    "predicate: is the function that evaluates truthyness"
   ],
   "cell_type": "markdown",
   "metadata": {}
  },
  {
   "cell_type": "code",
   "execution_count": 9,
   "metadata": {},
   "outputs": [
    {
     "output_type": "stream",
     "name": "stdout",
     "text": [
      "True\nFalse\n[True, True, True, True, True, True]\n[True, True, True, True, True, True]\n[True, True, True, True, True, True]\n-------------------------\n[True, True, True, True, True, False]\nFalse\n"
     ]
    }
   ],
   "source": [
    "from numbers import Number\n",
    "l = [1,2,3,4,5]\n",
    "l2 = [0,1,2,3,4,5]\n",
    "print(all(l))\n",
    "print(all(l2))\n",
    "\n",
    "def is_numeric(n):\n",
    "    return isinstance(n,Number)\n",
    "predicate_l = map(is_numeric, l2)\n",
    "predicate_l2 = map(lambda x: isinstance(x, Number), l2)\n",
    "predicate_l3 = (is_numeric(item) for item in l2)\n",
    "print (list(predicate_l))\n",
    "print (list(predicate_l2))\n",
    "print (list(predicate_l3))\n",
    "print('-------------------------')\n",
    "# check if all elements are numbers\n",
    "l = [1,2,3,4,5,'john']\n",
    "print(list(map(lambda x: isinstance(x, Number), l)))\n",
    "print(all(map(lambda x: isinstance(x, Number), l)))\n"
   ]
  },
  {
   "source": [
    "# Slicing\n",
    " * islice: slice general iterables including iterators and is Lazy"
   ],
   "cell_type": "markdown",
   "metadata": {}
  },
  {
   "cell_type": "code",
   "execution_count": 15,
   "metadata": {},
   "outputs": [
    {
     "output_type": "stream",
     "name": "stdout",
     "text": [
      "[4, 3, 2]\n"
     ]
    }
   ],
   "source": [
    "from itertools import islice\n",
    "l = [4,3,2,1]\n",
    "resutl = islice(l,0,3)\n",
    "print(list(resutl))"
   ]
  },
  {
   "source": [
    "# Selecting and Filtering\n",
    "* filter(predicate, iterable): returns a Lazy iterator"
   ],
   "cell_type": "markdown",
   "metadata": {}
  },
  {
   "cell_type": "code",
   "execution_count": 55,
   "metadata": {},
   "outputs": [
    {
     "output_type": "stream",
     "name": "stdout",
     "text": [
      "['a', None, '', 'asd', '123']\n[None, 0, '']\n----------------------------------\n\n['a', 1, None, 0, '', 'asd', '123']\n----------------------------------\n\n[4, 3, 2, 'a', 1, 'asd', '123']\n[4, 3, 'a']\n"
     ]
    }
   ],
   "source": [
    "from itertools import filterfalse, dropwhile, takewhile, compress\n",
    "from numbers import Number\n",
    "l = [4,3,2,'a',1,None,0,'','asd', '123']\n",
    "c = [True,True,False,True]\n",
    "filtered = filterfalse(lambda x: isinstance(x, Number), l )\n",
    "filtered_falsy = filterfalse(None, l )\n",
    "print(list(filtered))\n",
    "print(list(filtered_falsy))\n",
    "print('----------------------------------\\n')\n",
    "print(list(dropwhile(lambda x: isinstance(x, Number), l )))\n",
    "print('----------------------------------\\n')\n",
    "print(list(compress(l,l)))\n",
    "print(list(compress(l,c)))\n"
   ]
  },
  {
   "source": [
    "# Infinite Iterators\n",
    "* count(start, step): returns a infinite iterator\n",
    "* cycle([1,2,3]): returns an infinite loop over an iterable\n",
    "* repeat('spam', n): yields a value indefinetly or n  times if is specified"
   ],
   "cell_type": "markdown",
   "metadata": {}
  },
  {
   "cell_type": "code",
   "execution_count": 58,
   "metadata": {},
   "outputs": [
    {
     "output_type": "stream",
     "name": "stdout",
     "text": [
      "[9, 9.1, 9.2, 9.299999999999999, 9.399999999999999, 9.499999999999998, 9.599999999999998, 9.699999999999998, 9.799999999999997, 9.899999999999997, 9.999999999999996]\n"
     ]
    }
   ],
   "source": [
    "from itertools import count, cycle, takewhile\n",
    "print(list(takewhile(lambda x: x<10.0, count(9,0.1))))"
   ]
  },
  {
   "cell_type": "code",
   "execution_count": 4,
   "metadata": {},
   "outputs": [
    {
     "output_type": "stream",
     "name": "stdout",
     "text": [
      "['red', 'green', 'blue', 'red', 'green', 'blue', 'red', 'green', 'blue', 'red']\n"
     ]
    }
   ],
   "source": [
    "from itertools import cycle, islice\n",
    "print(list(islice(cycle(('red', 'green', 'blue')),10)))"
   ]
  },
  {
   "cell_type": "code",
   "execution_count": 7,
   "metadata": {},
   "outputs": [
    {
     "output_type": "stream",
     "name": "stdout",
     "text": [
      "python\npython\npython\npython\npython\n"
     ]
    }
   ],
   "source": [
    "from itertools import repeat\n",
    "g = repeat('python')\n",
    "for _ in range(5):\n",
    "    print(next(g))"
   ]
  },
  {
   "source": [
    "# Chaining \n",
    "## chain():\n",
    "* is analogous to sequence concatenation\n",
    "* is a lazy iterator\n",
    "* each argument must be an iterable\n",
    "* unpacking is eager\n",
    "\n",
    "## chain.from_iterable():\n",
    "* is analogous to sequence concatenation\n",
    "* is a lazy iterator\n",
    "* each argument must be an iterable\n",
    "*unpacking is Lazy\n",
    "\n",
    "# Teeing iterables\n",
    "## tee():\n",
    "* returns independent iterators in a tuple\n",
    "* the elements of the returned tuple are lazy iterators"
   ],
   "cell_type": "markdown",
   "metadata": {}
  },
  {
   "cell_type": "code",
   "execution_count": 13,
   "metadata": {},
   "outputs": [
    {
     "output_type": "stream",
     "name": "stdout",
     "text": [
      "[0, 1, 4, 9]\n[16, 25, 36, 49]\n[64, 81, 100, 121]\n-------------\n0\n1\n4\n9\n16\n25\n36\n49\n64\n81\n100\n121\n"
     ]
    }
   ],
   "source": [
    "from itertools import chain\n",
    "l1 = (i**2 for i in range(4))\n",
    "l2 = (i**2 for i in range(4,8))\n",
    "l3 = (i**2 for i in range(8,12))\n",
    "\n",
    "print(list(l1))\n",
    "print(list(l2))\n",
    "print(list(l3))\n",
    "\n",
    "l1 = (i**2 for i in range(4))\n",
    "l2 = (i**2 for i in range(4,8))\n",
    "l3 = (i**2 for i in range(8,12))\n",
    "print('-------------')\n",
    "for item in chain(l1,l2,l3):\n",
    "    print(item)"
   ]
  },
  {
   "cell_type": "code",
   "execution_count": 15,
   "metadata": {},
   "outputs": [
    {
     "output_type": "stream",
     "name": "stdout",
     "text": [
      "0\n1\n4\n9\n16\n25\n36\n49\n64\n81\n100\n121\n"
     ]
    }
   ],
   "source": [
    "from itertools import chain\n",
    "l1 = (i**2 for i in range(4))\n",
    "l2 = (i**2 for i in range(4,8))\n",
    "l3 = (i**2 for i in range(8,12))\n",
    "\n",
    "lists = [l1,l2,l3]\n",
    "\n",
    "for item in chain(*lists):\n",
    "    print(item)"
   ]
  },
  {
   "cell_type": "code",
   "execution_count": 20,
   "metadata": {},
   "outputs": [
    {
     "output_type": "stream",
     "name": "stdout",
     "text": [
      "yielding 1st item\n0\n1\n4\n9\nyielding 2nd item\n16\n25\n36\n49\nyielding 3rd item\n64\n81\n100\n121\n"
     ]
    }
   ],
   "source": [
    "from itertools import chain\n",
    "\n",
    "def squares():\n",
    "    print('yielding 1st item')\n",
    "    yield(i**2 for i in range(4))\n",
    "    print('yielding 2nd item')\n",
    "    yield(i**2 for i in range(4,8))\n",
    "    print('yielding 3rd item')\n",
    "    yield(i**2 for i in range(8,12))\n",
    "\n",
    "for item in chain.from_iterable(squares()):\n",
    "    print(item)\n"
   ]
  },
  {
   "cell_type": "code",
   "execution_count": 24,
   "metadata": {},
   "outputs": [
    {
     "output_type": "stream",
     "name": "stdout",
     "text": [
      "(<itertools._tee object at 0x000001FA2D90B348>, <itertools._tee object at 0x000001FA2DD72D48>, <itertools._tee object at 0x000001FA2DD72A08>)\n[1, 2, 3, 4]\n[1, 2, 3, 4]\n[]\n"
     ]
    }
   ],
   "source": [
    "from itertools import tee\n",
    "\n",
    "gen = [1,2,3,4]\n",
    "iters = tee(gen,3)\n",
    "print(iters)\n",
    "print(list(iters[0]))\n",
    "print(list(iters[1]))\n",
    "print(list(iters[0]))\n",
    "# careful when use tee because it returns iterators that get exhausted\n"
   ]
  },
  {
   "source": [
    "# mapping and accumlation"
   ],
   "cell_type": "markdown",
   "metadata": {}
  },
  {
   "cell_type": "code",
   "execution_count": 2,
   "metadata": {},
   "outputs": [
    {
     "output_type": "stream",
     "name": "stdout",
     "text": [
      "<map object at 0x000001C605730488>\n[0, 1, 4, 9, 16]\n"
     ]
    }
   ],
   "source": [
    "maps = map(lambda x: x**2, range(5))\n",
    "print(maps)\n",
    "print(list(maps))\n"
   ]
  },
  {
   "cell_type": "code",
   "execution_count": 5,
   "metadata": {},
   "outputs": [
    {
     "output_type": "stream",
     "name": "stdout",
     "text": [
      "<itertools.starmap object at 0x000001C605825848>\n[0, 2, 5]\n"
     ]
    }
   ],
   "source": [
    "from itertools import starmap\n",
    "maps = starmap(lambda x,y: x+y, [(0,0), [1,1], range(2,4)])\n",
    "print(maps)\n",
    "print(list(maps))"
   ]
  },
  {
   "cell_type": "code",
   "execution_count": 10,
   "metadata": {},
   "outputs": [
    {
     "output_type": "stream",
     "name": "stdout",
     "text": [
      "24\n"
     ]
    }
   ],
   "source": [
    "from functools import reduce\n",
    "redux = reduce(lambda x,y: x*y , [1,2,3], 4)\n",
    "print(redux)"
   ]
  },
  {
   "cell_type": "code",
   "execution_count": 12,
   "metadata": {},
   "outputs": [
    {
     "output_type": "stream",
     "name": "stdout",
     "text": [
      "[10, 30, 60]\n[1, 2, 6, 24, 120, 720]\n"
     ]
    }
   ],
   "source": [
    "from itertools import accumulate\n",
    "import operator\n",
    "acc = accumulate([10,20,30])\n",
    "print(list(acc))\n",
    "# running products (factorial list)\n",
    "acc = accumulate([1,2,3,4,5,6], operator.mul)\n",
    "print(list(acc))"
   ]
  },
  {
   "source": [
    "# zipping\n",
    "* it returns an iterator that produces tuples containing the elements of the iterables, iterated one at a time"
   ],
   "cell_type": "markdown",
   "metadata": {}
  },
  {
   "cell_type": "code",
   "execution_count": 16,
   "metadata": {},
   "outputs": [
    {
     "output_type": "stream",
     "name": "stdout",
     "text": [
      "[(1, 1, 1), (2, 2, 2), (3, 3, 3)]\n[(1, 1, 1), (2, 2, 2), (3, 3, 3), (7, 5, 'null')]\n"
     ]
    }
   ],
   "source": [
    "from itertools import zip_longest\n",
    "\n",
    "l1 = [1,2,3,7]\n",
    "l2 = [1,2,3,5]\n",
    "l3 = [1,2,3]\n",
    "\n",
    "zippin = zip(l1,l2,l3)\n",
    "print(list(zippin))\n",
    "\n",
    "zippin = zip_longest(l1,l2,l3, fillvalue='null')\n",
    "print(list(zippin))"
   ]
  },
  {
   "source": [
    "# grouping"
   ],
   "cell_type": "markdown",
   "metadata": {}
  },
  {
   "cell_type": "code",
   "execution_count": 5,
   "metadata": {},
   "outputs": [
    {
     "output_type": "stream",
     "name": "stdout",
     "text": [
      "1 [(1, 'abc'), (1, 'bcd')]\n2 [(2, 'pyt'), (2, 'yth'), (2, 'tho')]\n3 [(3, 'hon')]\n"
     ]
    }
   ],
   "source": [
    "import itertools\n",
    "\n",
    "data = (\n",
    "    (1,'abc'),\n",
    "    (1,'bcd'),\n",
    "    (2,'pyt'),\n",
    "    (2,'yth'),\n",
    "    (2,'tho'),\n",
    "    (3,'hon'),\n",
    ")\n",
    "\n",
    "groups = itertools.groupby(data, key=lambda x: x[0])\n",
    "for group_key, sub_iter in groups:\n",
    "   print(group_key, list(sub_iter)) "
   ]
  },
  {
   "cell_type": "code",
   "execution_count": 11,
   "metadata": {},
   "outputs": [
    {
     "output_type": "stream",
     "name": "stdout",
     "text": [
      "1 -> [(1, 0), (1, 1), (1, 2)]\n2 -> [(2, 0), (2, 1), (2, 2)]\n3 -> [(3, 0), (3, 1), (3, 2)]\n"
     ]
    }
   ],
   "source": [
    "def generate_groups():\n",
    "    for key in range(1,4):\n",
    "        for i in  range(3):\n",
    "            yield (key,i)\n",
    "\n",
    "g = generate_groups()\n",
    "groups = itertools.groupby(g, key=lambda x: x[0])\n",
    "for group in groups:\n",
    "    print(group[0],'->', list(group[1]))"
   ]
  },
  {
   "source": [
    "# Combinatorics\n",
    "* Cartesian Product: cross product between to lists\n",
    "* Permutations: ORDER MATTERS\n",
    "* Combinations: ORDER NOT MATTERS"
   ],
   "cell_type": "markdown",
   "metadata": {}
  },
  {
   "cell_type": "code",
   "execution_count": 13,
   "metadata": {},
   "outputs": [
    {
     "output_type": "stream",
     "name": "stdout",
     "text": [
      "[('a', '1'), ('a', '2'), ('a', '3'), ('a', '4'), ('b', '1'), ('b', '2'), ('b', '3'), ('b', '4'), ('c', '1'), ('c', '2'), ('c', '3'), ('c', '4')]\n"
     ]
    }
   ],
   "source": [
    "import itertools\n",
    "l1 = ['a','b','c']\n",
    "l2 = ['1','2','3','4']\n",
    "cross = itertools.product(l1,l2)\n",
    "print(list(cross))"
   ]
  },
  {
   "cell_type": "code",
   "execution_count": 18,
   "metadata": {},
   "outputs": [
    {
     "output_type": "stream",
     "name": "stdout",
     "text": [
      "[('a', 'b', 'c', 'd'), ('a', 'b', 'd', 'c'), ('a', 'c', 'b', 'd'), ('a', 'c', 'd', 'b'), ('a', 'd', 'b', 'c'), ('a', 'd', 'c', 'b'), ('b', 'a', 'c', 'd'), ('b', 'a', 'd', 'c'), ('b', 'c', 'a', 'd'), ('b', 'c', 'd', 'a'), ('b', 'd', 'a', 'c'), ('b', 'd', 'c', 'a'), ('c', 'a', 'b', 'd'), ('c', 'a', 'd', 'b'), ('c', 'b', 'a', 'd'), ('c', 'b', 'd', 'a'), ('c', 'd', 'a', 'b'), ('c', 'd', 'b', 'a'), ('d', 'a', 'b', 'c'), ('d', 'a', 'c', 'b'), ('d', 'b', 'a', 'c'), ('d', 'b', 'c', 'a'), ('d', 'c', 'a', 'b'), ('d', 'c', 'b', 'a')]\n---------------\n\n[('a', 'b'), ('a', 'c'), ('a', 'd'), ('b', 'a'), ('b', 'c'), ('b', 'd'), ('c', 'a'), ('c', 'b'), ('c', 'd'), ('d', 'a'), ('d', 'b'), ('d', 'c')]\n"
     ]
    }
   ],
   "source": [
    "import itertools\n",
    "l1 = 'abcd'\n",
    "perm = itertools.permutations(l1)\n",
    "print(list(perm))\n",
    "print('---------------\\n')\n",
    "perm = itertools.permutations(l1,2)\n",
    "print(list(perm))"
   ]
  },
  {
   "cell_type": "code",
   "execution_count": 22,
   "metadata": {},
   "outputs": [
    {
     "output_type": "stream",
     "name": "stdout",
     "text": [
      "[(1, 2), (1, 3), (1, 4), (2, 3), (2, 4), (3, 4)]\n---------------------------------\n\n[(1, 1), (1, 2), (1, 3), (1, 4), (2, 2), (2, 3), (2, 4), (3, 3), (3, 4), (4, 4)]\n"
     ]
    }
   ],
   "source": [
    "import itertools\n",
    "comb = itertools.combinations([1,2,3,4],2)\n",
    "print(list(comb))\n",
    "print('---------------------------------\\n')\n",
    "comb = itertools.combinations_with_replacement([1,2,3,4],2)\n",
    "print(list(comb))"
   ]
  },
  {
   "source": [
    "# Cards Exercise"
   ],
   "cell_type": "markdown",
   "metadata": {}
  },
  {
   "cell_type": "code",
   "execution_count": 48,
   "metadata": {},
   "outputs": [
    {
     "output_type": "stream",
     "name": "stdout",
     "text": [
      "['2S', '3S', '4S', '5S', '6S', '7S', '8S', '9S', '10S', 'JS', 'QS', 'KS', 'AS']\n",
      "\n",
      "-----------\n",
      "\n",
      "[Card(rank='2', suit='S'), Card(rank='3', suit='S'), Card(rank='4', suit='S'), Card(rank='5', suit='S'), Card(rank='6', suit='S'), Card(rank='7', suit='S'), Card(rank='8', suit='S'), Card(rank='9', suit='S'), Card(rank='10', suit='S'), Card(rank='J', suit='S'), Card(rank='Q', suit='S'), Card(rank='K', suit='S'), Card(rank='A', suit='S')]\n",
      "\n",
      "----------------------------\n",
      "\n",
      "the probability of having a Poker of Aces is: 0.0000036938 \n",
      " As a fraction: 1/270725\n",
      "\n",
      "----------------------------\n",
      "\n",
      "the probability of having a Poker of Aces is: 0.0000036938 \n",
      " As a fraction: 1/270725\n"
     ]
    }
   ],
   "source": [
    "import itertools\n",
    "from collections import namedtuple\n",
    "from fractions import Fraction\n",
    "Card = namedtuple('Card', 'rank suit')\n",
    "\n",
    "SUITS = 'SHDC'\n",
    "RANKS = tuple(map(str, range(2,11))) + tuple('JQKA')\n",
    "deck = [rank + suit for suit in SUITS for rank in RANKS]\n",
    "print(deck[:13])\n",
    "print('\\n-----------\\n')\n",
    "deck = [Card(rank,suit) for suit, rank in itertools.product(SUITS,RANKS)]\n",
    "print(deck[:13])\n",
    "print('\\n----------------------------\\n')\n",
    "# probability of a Poker of aces\n",
    "sample_space = itertools.combinations(deck, 4)\n",
    "total = 0\n",
    "acceptable = 0\n",
    "acceptable2 = 0\n",
    "for hand in sample_space:\n",
    "    total+=1\n",
    "    for card in hand:\n",
    "        if card.rank != 'A':\n",
    "            break\n",
    "    else: #nobreak statement: if break was not activated excute this\n",
    "        acceptable+=1\n",
    "    # pythoneer way\n",
    "    if all(map(lambda x: x.rank == 'A', hand)):\n",
    "        acceptable2+=1\n",
    "print('the probability of having a Poker of Aces is: {0:.10f} \\n As a fraction: {1}'.format(acceptable/total, Fraction(acceptable,total)))\n",
    "print('\\n----------------------------\\n')\n",
    "print('the probability of having a Poker of Aces is: {0:.10f} \\n As a fraction: {1}'.format(acceptable2/total, Fraction(acceptable2,total)))\n",
    "\n"
   ]
  }
 ]
}