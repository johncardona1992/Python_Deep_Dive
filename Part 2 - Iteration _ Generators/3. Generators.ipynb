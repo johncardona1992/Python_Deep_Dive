{
 "metadata": {
  "language_info": {
   "codemirror_mode": {
    "name": "ipython",
    "version": 3
   },
   "file_extension": ".py",
   "mimetype": "text/x-python",
   "name": "python",
   "nbconvert_exporter": "python",
   "pygments_lexer": "ipython3",
   "version": "3.7.8"
  },
  "orig_nbformat": 2,
  "kernelspec": {
   "name": "python378jvsc74a57bd057ab78e5cbccfb7d81052ee73eb1fa5d31916b2ddf92535c2cf1f81bb2af6d2a",
   "display_name": "Python 3.7.8 64-bit ('computerscience': conda)"
  }
 },
 "nbformat": 4,
 "nbformat_minor": 2,
 "cells": [
  {
   "source": [
    "# Generators"
   ],
   "cell_type": "markdown",
   "metadata": {}
  },
  {
   "source": [
    "yield emits a value, the function is effectively suspended (but it retains ist current state)\n",
    "calling next on the function resumes running the the function right after the yield statement"
   ],
   "cell_type": "markdown",
   "metadata": {}
  },
  {
   "cell_type": "code",
   "execution_count": 3,
   "metadata": {},
   "outputs": [
    {
     "output_type": "execute_result",
     "data": {
      "text/plain": [
       "[1, 1, 2, 6, 24]"
      ]
     },
     "metadata": {},
     "execution_count": 3
    }
   ],
   "source": [
    "# simple way to define an iterator\n",
    "import math\n",
    "class FactIter:\n",
    "    def __init__(self,n):\n",
    "        self.n = n\n",
    "        self.i = 0\n",
    "    def __iter__(self):\n",
    "        return self\n",
    "    def __next__(self):\n",
    "        if self.i >= self.n:\n",
    "            raise StopIteration\n",
    "        else:\n",
    "            result = math.factorial(self.i)\n",
    "            self.i +=1\n",
    "            return result\n",
    "fact_iter = FactIter(5)\n",
    "list(fact_iter)\n"
   ]
  },
  {
   "cell_type": "code",
   "execution_count": 6,
   "metadata": {},
   "outputs": [
    {
     "output_type": "stream",
     "name": "stdout",
     "text": [
      "1\n1\n2\n6\n24\n[]\n"
     ]
    }
   ],
   "source": [
    "# define iterator using closure\n",
    "import math\n",
    "def fact():\n",
    "    i=0\n",
    "    def inner():\n",
    "        nonlocal i\n",
    "        result = math.factorial(i)\n",
    "        i +=1\n",
    "        return result\n",
    "    return inner\n",
    "\n",
    "fact_iter = iter(fact(), math.factorial(5))\n",
    "for num in fact_iter:\n",
    "    print (num)\n",
    "print('the iterator get exhausted')\n",
    "print (list(fact_iter))"
   ]
  },
  {
   "source": [
    "# Yield\n",
    "when used inside a function it creates a generator that can be used as a iterator"
   ],
   "cell_type": "markdown",
   "metadata": {}
  },
  {
   "cell_type": "code",
   "execution_count": 13,
   "metadata": {},
   "outputs": [
    {
     "output_type": "stream",
     "name": "stdout",
     "text": [
      "<class 'generator'>\nTrue\nTrue\nline 1\nflying\nline 2\ncircus\n"
     ]
    }
   ],
   "source": [
    "def my_func():\n",
    "    print('line 1')\n",
    "    yield 'flying'\n",
    "    print('line 2')\n",
    "    yield 'circus'\n",
    "f = my_func()\n",
    "print(type(f))\n",
    "print('__iter__' in dir(f))\n",
    "print('__next__' in dir(f))\n",
    "print(f.__next__())\n",
    "print(f.__next__())\n"
   ]
  },
  {
   "cell_type": "code",
   "execution_count": 17,
   "metadata": {},
   "outputs": [
    {
     "output_type": "stream",
     "name": "stdout",
     "text": [
      "step 1\nstep 2\nstep 3\nstep 4\nstep 5\n"
     ]
    }
   ],
   "source": [
    "def silly():\n",
    "    yield 'step 1'\n",
    "    yield 'step 2'\n",
    "    yield 'step 3'\n",
    "    yield 'step 4'\n",
    "    yield 'step 5'\n",
    "    if True:\n",
    "        return 'sorry, all done!'\n",
    "    yield 'step 6'\n",
    "\n",
    "gen = silly()\n",
    "for num in gen:\n",
    "    print(num)"
   ]
  },
  {
   "cell_type": "code",
   "execution_count": 22,
   "metadata": {},
   "outputs": [
    {
     "output_type": "stream",
     "name": "stdout",
     "text": [
      "[1, 1, 2, 6, 24, 120, 720, 5040, 40320, 362880]\n<class 'generator'>\n"
     ]
    }
   ],
   "source": [
    "import math\n",
    "def fact(n):\n",
    "    for i in range(n):\n",
    "        yield math.factorial(i) \n",
    "\n",
    "f = fact(10)\n",
    "print(list(f))\n",
    "print(type(f))\n",
    "for num in f:\n",
    "    print(num)"
   ]
  },
  {
   "source": [
    "# fibonacci Generator\n",
    "most efficient way, but generators become exhausted"
   ],
   "cell_type": "markdown",
   "metadata": {}
  },
  {
   "cell_type": "code",
   "execution_count": 25,
   "metadata": {},
   "outputs": [
    {
     "output_type": "stream",
     "name": "stdout",
     "text": [
      "1\n1\n2\n3\n5\n8\n13\n21\n[]\n"
     ]
    }
   ],
   "source": [
    "def fib(n):\n",
    "    fib_0 = 1\n",
    "    yield fib_0\n",
    "    fib_1 = 1\n",
    "    yield fib_1\n",
    "    for i in range(n-1):\n",
    "        fib_0, fib_1 = fib_1, fib_0 + fib_1\n",
    "        yield fib_1\n",
    "\n",
    "gen = fib(7)\n",
    "for num in gen:\n",
    "    print(num)\n",
    "print(list(gen))"
   ]
  },
  {
   "source": [
    "# Making a iterable from a generator"
   ],
   "cell_type": "markdown",
   "metadata": {}
  },
  {
   "cell_type": "code",
   "execution_count": 28,
   "metadata": {},
   "outputs": [
    {
     "output_type": "stream",
     "name": "stdout",
     "text": [
      "[0, 1, 4, 9, 16]\nit never gets exhausted\n[0, 1, 4, 9, 16]\n"
     ]
    }
   ],
   "source": [
    "class Squares:\n",
    "    def __init__(self,n):\n",
    "        self.n = n\n",
    "    def __iter__(self):\n",
    "        return Squares.squares_gen(self.n)\n",
    "    \n",
    "    @staticmethod\n",
    "    def squares_gen(n):\n",
    "        for i in range(n):\n",
    "            yield i**2\n",
    "\n",
    "sq = Squares(5)\n",
    "print(list(sq))\n",
    "print('it never gets exhausted')\n",
    "print(list(sq))"
   ]
  },
  {
   "source": [
    "# Cards Deck iterable with generator"
   ],
   "cell_type": "markdown",
   "metadata": {}
  },
  {
   "cell_type": "code",
   "execution_count": 31,
   "metadata": {},
   "outputs": [
    {
     "output_type": "execute_result",
     "data": {
      "text/plain": [
       "[Card(rank='A', suit='Clubs'),\n",
       " Card(rank='K', suit='Clubs'),\n",
       " Card(rank='Q', suit='Clubs'),\n",
       " Card(rank='J', suit='Clubs'),\n",
       " Card(rank=10, suit='Clubs'),\n",
       " Card(rank=9, suit='Clubs'),\n",
       " Card(rank=8, suit='Clubs'),\n",
       " Card(rank=7, suit='Clubs'),\n",
       " Card(rank=6, suit='Clubs'),\n",
       " Card(rank=5, suit='Clubs'),\n",
       " Card(rank=4, suit='Clubs'),\n",
       " Card(rank=3, suit='Clubs'),\n",
       " Card(rank=2, suit='Clubs'),\n",
       " Card(rank='A', suit='Diamonds'),\n",
       " Card(rank='K', suit='Diamonds'),\n",
       " Card(rank='Q', suit='Diamonds'),\n",
       " Card(rank='J', suit='Diamonds'),\n",
       " Card(rank=10, suit='Diamonds'),\n",
       " Card(rank=9, suit='Diamonds'),\n",
       " Card(rank=8, suit='Diamonds'),\n",
       " Card(rank=7, suit='Diamonds'),\n",
       " Card(rank=6, suit='Diamonds'),\n",
       " Card(rank=5, suit='Diamonds'),\n",
       " Card(rank=4, suit='Diamonds'),\n",
       " Card(rank=3, suit='Diamonds'),\n",
       " Card(rank=2, suit='Diamonds'),\n",
       " Card(rank='A', suit='Hearts'),\n",
       " Card(rank='K', suit='Hearts'),\n",
       " Card(rank='Q', suit='Hearts'),\n",
       " Card(rank='J', suit='Hearts'),\n",
       " Card(rank=10, suit='Hearts'),\n",
       " Card(rank=9, suit='Hearts'),\n",
       " Card(rank=8, suit='Hearts'),\n",
       " Card(rank=7, suit='Hearts'),\n",
       " Card(rank=6, suit='Hearts'),\n",
       " Card(rank=5, suit='Hearts'),\n",
       " Card(rank=4, suit='Hearts'),\n",
       " Card(rank=3, suit='Hearts'),\n",
       " Card(rank=2, suit='Hearts'),\n",
       " Card(rank='A', suit='Spades'),\n",
       " Card(rank='K', suit='Spades'),\n",
       " Card(rank='Q', suit='Spades'),\n",
       " Card(rank='J', suit='Spades'),\n",
       " Card(rank=10, suit='Spades'),\n",
       " Card(rank=9, suit='Spades'),\n",
       " Card(rank=8, suit='Spades'),\n",
       " Card(rank=7, suit='Spades'),\n",
       " Card(rank=6, suit='Spades'),\n",
       " Card(rank=5, suit='Spades'),\n",
       " Card(rank=4, suit='Spades'),\n",
       " Card(rank=3, suit='Spades'),\n",
       " Card(rank=2, suit='Spades')]"
      ]
     },
     "metadata": {},
     "execution_count": 31
    }
   ],
   "source": [
    "from collections import namedtuple\n",
    "Card = namedtuple('Card', 'rank suit')  \n",
    "class CardDeck:\n",
    "    SUITS = ('Spades','Hearts','Diamonds','Clubs')\n",
    "    RANKS = tuple(range(2,11)) + tuple('JQKA')\n",
    "\n",
    "    def __iter__(self):\n",
    "        return CardDeck.card_gen()\n",
    "\n",
    "    def __reversed__(self):\n",
    "        return CardDeck.reversed_card_gen()\n",
    "\n",
    "    \n",
    "    @staticmethod\n",
    "    def card_gen():\n",
    "        for suit in CardDeck.SUITS:\n",
    "            for rank in CardDeck.RANKS:\n",
    "                yield Card(rank, suit)\n",
    "\n",
    "    @staticmethod\n",
    "    def reversed_card_gen():\n",
    "        for suit in reversed(CardDeck.SUITS):\n",
    "            for rank in reversed(CardDeck.RANKS):\n",
    "                yield Card(rank,suit)\n",
    "\n",
    "list(reversed(CardDeck()))"
   ]
  },
  {
   "source": [
    "# Comprehension vs Generator\n",
    "* Comprehansion: returns a list, has local scope, evaluation is eager and is an ITERABLE (never get exhausted)\n",
    "\n",
    "* Generator: retuns a generator, has local scope, evaluation is lazy and is a ITERATOR (get exhausted)"
   ],
   "cell_type": "markdown",
   "metadata": {}
  },
  {
   "source": [
    "# yield from"
   ],
   "cell_type": "markdown",
   "metadata": {}
  },
  {
   "cell_type": "code",
   "execution_count": 35,
   "metadata": {},
   "outputs": [
    {
     "output_type": "stream",
     "name": "stdout",
     "text": [
      "1\n2\n3\n2\n4\n6\n3\n6\n9\n"
     ]
    }
   ],
   "source": [
    "def matrix(n):\n",
    "    gen = ((i*j for j in range(1,n+1))\n",
    "    for i in range(1,n+1)\n",
    "    )\n",
    "    return gen\n",
    "def matrix_iterator(n):\n",
    "    for row in matrix(n):\n",
    "        yield from row\n",
    "\n",
    "for item in matrix_iterator(3):\n",
    "    print(item)"
   ]
  }
 ]
}