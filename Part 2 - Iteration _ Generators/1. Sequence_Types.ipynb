{
 "metadata": {
  "language_info": {
   "codemirror_mode": {
    "name": "ipython",
    "version": 3
   },
   "file_extension": ".py",
   "mimetype": "text/x-python",
   "name": "python",
   "nbconvert_exporter": "python",
   "pygments_lexer": "ipython3",
   "version": "3.7.8"
  },
  "orig_nbformat": 2,
  "kernelspec": {
   "name": "python378jvsc74a57bd057ab78e5cbccfb7d81052ee73eb1fa5d31916b2ddf92535c2cf1f81bb2af6d2a",
   "display_name": "Python 3.7.8 64-bit ('computerscience': conda)"
  }
 },
 "nbformat": 4,
 "nbformat_minor": 2,
 "cells": [
  {
   "source": [
    "# MUtable Objects"
   ],
   "cell_type": "markdown",
   "metadata": {}
  },
  {
   "cell_type": "code",
   "execution_count": 6,
   "metadata": {},
   "outputs": [
    {
     "output_type": "stream",
     "name": "stdout",
     "text": [
      "0x1f675236148\n['eric', 'john', 'michael']\n0x1f6752366c8\n"
     ]
    }
   ],
   "source": [
    "names = ['eric', 'john']\n",
    "print(hex(id(names)))\n",
    "names=names +['michael']\n",
    "print(names)\n",
    "print(hex(id(names)))"
   ]
  },
  {
   "source": [
    "# slicing"
   ],
   "cell_type": "markdown",
   "metadata": {}
  },
  {
   "cell_type": "code",
   "execution_count": 12,
   "metadata": {},
   "outputs": [
    {
     "output_type": "stream",
     "name": "stdout",
     "text": [
      "2\n[2, 3]\n[1, 3, 5]\n"
     ]
    }
   ],
   "source": [
    "lista = [1,2,3,4,5,6]\n",
    "print(lista[1])\n",
    "print(lista[1:3])\n",
    "print(lista[0:6:2])"
   ]
  },
  {
   "source": [
    "# Mutable sequence Methods"
   ],
   "cell_type": "markdown",
   "metadata": {}
  },
  {
   "cell_type": "code",
   "execution_count": 21,
   "metadata": {},
   "outputs": [
    {
     "output_type": "stream",
     "name": "stdout",
     "text": [
      "[1, 2, 3, 4, 5, 6]\n[6, 5, 4, 3, 2, 1]\n[6, 5, 4, 3, 1]\n[5, 4, 3, 1]\n[5, 4, 3, 1, 7, 8]\n[0, 5, 4, 3, 1, 7, 8]\n[0, 5, 4, 3, 1, 7, 8, 9]\n[]\n"
     ]
    }
   ],
   "source": [
    "lista = [1,2,3,4,5,6]\n",
    "print(lista)\n",
    "lista.reverse()\n",
    "print(lista)\n",
    "lista.remove(2)\n",
    "print(lista)\n",
    "lista.pop(0)\n",
    "print(lista)\n",
    "lista.extend([7,8])\n",
    "print(lista)\n",
    "lista.insert(0,0)\n",
    "print(lista)\n",
    "lista.append(9)\n",
    "print(lista)\n",
    "lista.clear()\n",
    "print(lista)"
   ]
  },
  {
   "source": [
    "# tuples are more efficient than Lists"
   ],
   "cell_type": "markdown",
   "metadata": {}
  },
  {
   "cell_type": "code",
   "execution_count": 30,
   "metadata": {},
   "outputs": [
    {
     "output_type": "stream",
     "name": "stdout",
     "text": [
      "  1           0 LOAD_CONST               0 (1)\n",
      "              2 LOAD_CONST               1 (2)\n",
      "              4 LOAD_CONST               2 (3)\n",
      "              6 LOAD_CONST               3 ('a')\n",
      "              8 BUILD_LIST               4\n",
      "             10 RETURN_VALUE\n",
      "-------------------------------------------------\n",
      "  1           0 LOAD_CONST               0 ((1, 2, 3, 'a'))\n",
      "              2 RETURN_VALUE\n",
      "-------------------------------------------------\n",
      "0.7870099000001574\n",
      "-------------------------------------------------\n",
      "0.10492509999949107\n"
     ]
    }
   ],
   "source": [
    "from dis import dis\n",
    "from timeit import timeit\n",
    "dis(compile('[1,2,3,\"a\"]','string','eval'))\n",
    "print(\"-------------------------------------------------\")\n",
    "dis(compile('(1,2,3,\"a\")','string','eval'))\n",
    "print(\"-------------------------------------------------\")\n",
    "print(timeit(\"[1,2,3,4,5,6,7,8,9]\",number=10_000_000))\n",
    "print(\"-------------------------------------------------\")\n",
    "print(timeit(\"(1,2,3,4,5,6,7,8,9)\",number=10_000_000))\n"
   ]
  },
  {
   "source": [
    "# Storage Efficiency"
   ],
   "cell_type": "markdown",
   "metadata": {}
  },
  {
   "cell_type": "code",
   "execution_count": 36,
   "metadata": {},
   "outputs": [
    {
     "output_type": "stream",
     "name": "stdout",
     "text": [
      "1 items: 56, delta=8\n2 items: 64, delta=8\n3 items: 72, delta=8\n4 items: 80, delta=8\n5 items: 88, delta=8\n6 items: 96, delta=8\n7 items: 104, delta=8\n8 items: 112, delta=8\n9 items: 120, delta=8\n10 items: 128, delta=8\n\n-------------------------------------------------\n\n1 items: 96, delta=32\n2 items: 104, delta=8\n3 items: 112, delta=8\n4 items: 120, delta=8\n5 items: 128, delta=8\n6 items: 136, delta=8\n7 items: 144, delta=8\n8 items: 160, delta=16\n9 items: 192, delta=32\n10 items: 200, delta=8\n"
     ]
    }
   ],
   "source": [
    "t = tuple()\n",
    "prev = sys.getsizeof(t)\n",
    "for i in range(10):\n",
    "    c = tuple(range(i+1))\n",
    "    size_c = sys.getsizeof(c)\n",
    "    delta, prev = size_c -prev, size_c\n",
    "    print(f'{i+1} items: {size_c}, delta={delta}')\n",
    "\n",
    "print(\"\\n-------------------------------------------------\\n\")\n",
    "\n",
    "l = list()\n",
    "prev = sys.getsizeof(l)\n",
    "for i in range(10):\n",
    "    c = list(range(i+1))\n",
    "    size_c = sys.getsizeof(c)\n",
    "    delta, prev = size_c -prev, size_c\n",
    "    print(f'{i+1} items: {size_c}, delta={delta}')\n",
    "    \n"
   ]
  },
  {
   "source": [
    "# why python starts indices at 0?"
   ],
   "cell_type": "markdown",
   "metadata": {}
  },
  {
   "cell_type": "code",
   "execution_count": 41,
   "metadata": {},
   "outputs": [
    {
     "output_type": "stream",
     "name": "stdout",
     "text": [
      "['a', 2]\n['c', 4, 5, 6, 7]\na\n2\nc\n4\n5\n6\n7\n"
     ]
    }
   ],
   "source": [
    "\n",
    "# much more efficient for using slicing \n",
    "lista = ['a',2,'c',4,5,6,7]\n",
    "first_two_elemnts = lista[:2]\n",
    "rest_elements= lista[2:]\n",
    "print(first_two_elemnts)\n",
    "print(rest_elements)\n",
    "# much more efficient for using range iterators\n",
    "for i in range(len(lista)):\n",
    "    print (lista[i])"
   ]
  },
  {
   "source": [
    "# copy sequence with Shallow copies"
   ],
   "cell_type": "markdown",
   "metadata": {}
  },
  {
   "cell_type": "code",
   "execution_count": 49,
   "metadata": {},
   "outputs": [
    {
     "output_type": "stream",
     "name": "stdout",
     "text": [
      "0x1f67676f648\n0x1f677174048\n0x1f6772643f0\n0x1f6772643f0\n"
     ]
    }
   ],
   "source": [
    "lista = ['a12',2,'c',4,5,6,7]\n",
    "cp = lista.copy()\n",
    "\n",
    "print(hex(id(lista)))\n",
    "print(hex(id(cp)))\n",
    "print(hex(id(lista[0])))\n",
    "print(hex(id(cp[0])))\n"
   ]
  },
  {
   "cell_type": "code",
   "execution_count": 51,
   "metadata": {},
   "outputs": [
    {
     "output_type": "stream",
     "name": "stdout",
     "text": [
      "0x1f6765ca1c8\n0x1f677207c48\n0x1f6747d3b70\n0x1f6747d3b70\n"
     ]
    }
   ],
   "source": [
    "lista = ['a1234',2,'c',4,5,6,7]\n",
    "cp = lista[:len(lista)]\n",
    "\n",
    "print(hex(id(lista)))\n",
    "print(hex(id(cp)))\n",
    "print(hex(id(lista[0])))\n",
    "print(hex(id(cp[0])))\n"
   ]
  },
  {
   "cell_type": "code",
   "execution_count": 52,
   "metadata": {},
   "outputs": [
    {
     "output_type": "stream",
     "name": "stdout",
     "text": [
      "0x1f6766999c8\n0x1f676a6fe88\n0x1f6747d3b70\n0x1f6747d3b70\n"
     ]
    }
   ],
   "source": [
    "lista = ['a1234',2,'c',4,5,6,7]\n",
    "cp = list(lista)\n",
    "\n",
    "print(hex(id(lista)))\n",
    "print(hex(id(cp)))\n",
    "print(hex(id(lista[0])))\n",
    "print(hex(id(cp[0])))"
   ]
  },
  {
   "source": [
    "# careful with shallow copies"
   ],
   "cell_type": "markdown",
   "metadata": {}
  },
  {
   "cell_type": "code",
   "execution_count": 55,
   "metadata": {},
   "outputs": [
    {
     "output_type": "stream",
     "name": "stdout",
     "text": [
      "[[0, 'shallow'], 2, 'c', 4, 5, 6, 7]\n[[0, 'shallow'], 2, 'c', 4, 5, 6, 7]\n[[0, 'got_modified'], 2, 'c', 4, 5, 6, 7]\n[[0, 'got_modified'], 2, 'c', 4, 5, 6, 7]\n"
     ]
    }
   ],
   "source": [
    "lista = [[0,'shallow'],2,'c',4,5,6,7]\n",
    "cp = lista.copy()\n",
    "print(lista)\n",
    "print(cp)\n",
    "cp[0][1] = 'got_modified'\n",
    "print(lista)\n",
    "print(cp)"
   ]
  },
  {
   "source": [
    "# Deep Copies"
   ],
   "cell_type": "markdown",
   "metadata": {}
  },
  {
   "cell_type": "code",
   "execution_count": 60,
   "metadata": {},
   "outputs": [
    {
     "output_type": "stream",
     "name": "stdout",
     "text": [
      "[[0, 'shallow'], 2, 'c', 4, 5, 6, 7]\n[[0, 'shallow'], 2, 'c', 4, 5, 6, 7]\n[[0, 'shallow'], 2, 'c', 4, 5, 6, 7]\n-----------------------\n[[0, 'got_modified'], 2, 'c', 4, 5, 6, 7]\n[[0, 'got_modified'], 2, 'c', 4, 5, 6, 7]\n[[0, 'shallow'], 2, 'c', 4, 5, 6, 7]\n"
     ]
    }
   ],
   "source": [
    "from copy import copy, deepcopy\n",
    "lista = [[0,'shallow'],2,'c',4,5,6,7]\n",
    "cp_shallow = copy(lista)\n",
    "cp_deep = deepcopy(lista)\n",
    "print(lista)\n",
    "print(cp_shallow)\n",
    "print(cp_deep)\n",
    "print('-----------------------')\n",
    "cp_shallow[0][1] = 'got_modified'\n",
    "print(lista)\n",
    "print(cp_shallow)\n",
    "print(cp_deep)"
   ]
  },
  {
   "source": [
    "# deep copy for objects"
   ],
   "cell_type": "markdown",
   "metadata": {}
  },
  {
   "cell_type": "code",
   "execution_count": 64,
   "metadata": {},
   "outputs": [
    {
     "output_type": "stream",
     "name": "stdout",
     "text": [
      "True\n2158075102344\n2158075102344\n2158074759112\n2158074759112\n"
     ]
    }
   ],
   "source": [
    "from copy import copy, deepcopy\n",
    "class MyClass:\n",
    "    def __init__(self,a):\n",
    "        self.a = a\n",
    "\n",
    "x = MyClass(500)\n",
    "y = MyClass(x)\n",
    "print (y.a is x)\n",
    "lst = [x,y]\n",
    "cp = deepcopy(lst)\n",
    "print(id(lst[0]))\n",
    "print(id(lst[1].a))\n",
    "print(id(cp[0]))\n",
    "print(id(cp[1].a))"
   ]
  },
  {
   "source": [
    "# slice objet"
   ],
   "cell_type": "markdown",
   "metadata": {}
  },
  {
   "cell_type": "code",
   "execution_count": 12,
   "metadata": {},
   "outputs": [
    {
     "output_type": "stream",
     "name": "stdout",
     "text": [
      "['a1234', 2]\n['a1234', 2]\n['a1234', 'c', 5, 7]\n[2, 4, 6]\n[7, 5, 'c', 'a1234']\n['a1234', 'c', 5]\n"
     ]
    }
   ],
   "source": [
    "lista = ['a1234',2,'c',4,5,6,7]\n",
    "s = slice(0,2)\n",
    "s2 = slice(0,100,2)\n",
    "s3 = slice(1,100,2)\n",
    "s4 = slice(-1,-100,-2)\n",
    "s5 = slice(-100,-1,2)\n",
    "print(lista[0:2])\n",
    "print(lista[s])\n",
    "print(lista[s2])\n",
    "print(lista[s3])\n",
    "print(lista[s4])\n",
    "print(lista[s5])"
   ]
  },
  {
   "source": [
    "# Custom Sequence"
   ],
   "cell_type": "markdown",
   "metadata": {}
  },
  {
   "cell_type": "code",
   "execution_count": 20,
   "metadata": {},
   "outputs": [
    {
     "output_type": "stream",
     "name": "stdout",
     "text": [
      "1\n55\n55\n[1, 1, 2, 3, 5]\n"
     ]
    }
   ],
   "source": [
    "from functools import lru_cache\n",
    "\n",
    "class Fib:\n",
    "    def __init__(self,n):\n",
    "        self.n = n\n",
    "\n",
    "    def __len__(self):\n",
    "        return self.n\n",
    "\n",
    "    def __getitem__(self,s):\n",
    "        if isinstance(s, int):\n",
    "            if s < 0 :\n",
    "                s = self.n + s\n",
    "            if s < 0 or s >=self.n:\n",
    "                raise IndexError\n",
    "            else:\n",
    "                return Fib._fib(s)\n",
    "        else:\n",
    "            start, stop, step = s.indices(self.n)\n",
    "            rng = range(start, stop, step)\n",
    "            return [Fib._fib(i) for i in rng]\n",
    "    @staticmethod\n",
    "    @lru_cache(2*10)\n",
    "    def _fib(n):\n",
    "        if n<2:\n",
    "            return 1\n",
    "        else:\n",
    "            return Fib._fib(n-1) + Fib._fib(n-2)\n",
    "\n",
    "fib = Fib(10)\n",
    "print(fib[0])\n",
    "print(fib[9])\n",
    "print(fib[-1])\n",
    "print(fib[:5])"
   ]
  },
  {
   "source": [
    "# In-Place Concatenation"
   ],
   "cell_type": "markdown",
   "metadata": {}
  },
  {
   "cell_type": "code",
   "execution_count": 21,
   "metadata": {},
   "outputs": [
    {
     "output_type": "stream",
     "name": "stdout",
     "text": [
      "0x11dd953bc48\n[1, 2, 3]\n0x11dd953bc48\n[1, 2, 3, 4, 5, 6]\n"
     ]
    }
   ],
   "source": [
    "# list mutate with in-place concatenation\n",
    "t1=[1,2,3]\n",
    "t2=[4,5,6]\n",
    "print(hex(id(t1)))\n",
    "print(t1)\n",
    "t1+=t2\n",
    "print(hex(id(t1)))\n",
    "print(t1)\n",
    "\n"
   ]
  },
  {
   "cell_type": "code",
   "execution_count": 22,
   "metadata": {},
   "outputs": [
    {
     "output_type": "stream",
     "name": "stdout",
     "text": [
      "0x11dd952bdb8\n(1, 2, 3)\n0x11dd98dc2e8\n(1, 2, 3, 4, 5, 6)\n"
     ]
    }
   ],
   "source": [
    "# tuple creates a new object on in-place concatenation\n",
    "t1=(1,2,3)\n",
    "t2=(4,5,6)\n",
    "print(hex(id(t1)))\n",
    "print(t1)\n",
    "t1+=t2\n",
    "print(hex(id(t1)))\n",
    "print(t1)"
   ]
  },
  {
   "source": [
    "# In-place repetition"
   ],
   "cell_type": "markdown",
   "metadata": {}
  },
  {
   "cell_type": "code",
   "execution_count": 24,
   "metadata": {},
   "outputs": [
    {
     "output_type": "stream",
     "name": "stdout",
     "text": [
      "0x11dd920aa48\n[1, 2, 3]\n0x11dd920aa48\n[1, 2, 3, 1, 2, 3]\n"
     ]
    }
   ],
   "source": [
    "# list mutate with in-place repetition\n",
    "t1=[1,2,3]\n",
    "print(hex(id(t1)))\n",
    "print(t1)\n",
    "t1*=2\n",
    "print(hex(id(t1)))\n",
    "print(t1)"
   ]
  },
  {
   "cell_type": "code",
   "execution_count": 25,
   "metadata": {},
   "outputs": [
    {
     "output_type": "stream",
     "name": "stdout",
     "text": [
      "0x11dd862f318\n(1, 2, 3)\n0x11dd98dc2e8\n(1, 2, 3, 1, 2, 3)\n"
     ]
    }
   ],
   "source": [
    "# tuple creates a new object on in-place repetition\n",
    "t1=(1,2,3)\n",
    "print(hex(id(t1)))\n",
    "print(t1)\n",
    "t1*=2\n",
    "print(hex(id(t1)))\n",
    "print(t1)"
   ]
  },
  {
   "source": [
    "# Custom Sequence part 2"
   ],
   "cell_type": "markdown",
   "metadata": {}
  },
  {
   "cell_type": "code",
   "execution_count": 56,
   "metadata": {},
   "outputs": [
    {
     "output_type": "stream",
     "name": "stdout",
     "text": [
      "Point(x = 10, y = 2.5)\n10\n2.5\nPoint(x = 10, y = 2.5)\nPolygon(Point(x = 0, y = 0), Point(x = 1, y = 1))\nPoint(x = 0, y = 0)\n[Point(x = 0, y = 0), Point(x = 1, y = 1)]\n[Point(x = 1, y = 1), Point(x = 0, y = 0)]\nPolygon(Point(x = 0, y = 0), Point(x = 1, y = 1), Point(x = 0, y = 0), Point(x = 1, y = 1))\n0x11ddad48a08\n0x11ddad488c8\n0x11ddad5ca48\nPolygon(Point(x = 0, y = 0), Point(x = 1, y = 1), Point(x = 0, y = 0), Point(x = 1, y = 1))\n0x11ddad48a08\nPolygon(Point(x = 0, y = 0), Point(x = 1, y = 1))\n0x11ddad488c8\nPolygon(Point(x = 0, y = 0), Point(x = -1, y = -1), Point(x = -3, y = -2), Point(x = 1, y = 1), Point(x = 2, y = 2), Point(x = 3, y = 3), Point(x = 4, y = 4), Point(x = 10, y = 10), Point(x = 0, y = 0), Point(x = 1, y = 1), Point(x = 0, y = 0), Point(x = 1, y = 1))\n0x11ddad488c8\nPolygon(Point(x = 11, y = 11), Point(x = -2, y = -4), Point(x = -3, y = -2), Point(x = 1, y = 1), Point(x = 2, y = 2), Point(x = 3, y = 3), Point(x = 4, y = 4), Point(x = 10, y = 10), Point(x = 0, y = 0), Point(x = 1, y = 1), Point(x = 0, y = 0), Point(x = 1, y = 1))\n0x11ddad488c8\n"
     ]
    }
   ],
   "source": [
    "import numbers\n",
    "class Point:\n",
    "    def __init__(self,x,y):\n",
    "        if isinstance(x,numbers.Real) and isinstance(y,numbers.Real):\n",
    "            self._pt =(x,y)\n",
    "        else:\n",
    "            raise TypeError('Point co-ordinates must be real numbers.')\n",
    "\n",
    "    def __repr__(self):\n",
    "        return f'Point(x = {self._pt[0]}, y = {self._pt[1]})'\n",
    "\n",
    "    def __len__(self):\n",
    "        return len(self._pt)\n",
    "\n",
    "    def __getitem__(self, s):\n",
    "        return self._pt[s]\n",
    "\n",
    "class Polygon:\n",
    "    def __init__(self,*pts):\n",
    "        if pts:\n",
    "            self._pts = [Point(*pt) for pt in pts]\n",
    "        else:\n",
    "            self._pts = []\n",
    "\n",
    "    def __repr__(self):\n",
    "        pts_str = ', '.join([str(pt) for pt in self._pts])\n",
    "        return f'Polygon({pts_str})'\n",
    "\n",
    "    def __len__(self):\n",
    "        return len(self._pts)\n",
    "\n",
    "    def __getitem__(self, s):\n",
    "        return self._pts[s]\n",
    "    \n",
    "    def __setitem__(self, s,value):\n",
    "        if isinstance(s, int): \n",
    "            self._pts[s] = Point(*value)\n",
    "        else:\n",
    "            self._pts[s] = [Point(*pt) for pt in value]\n",
    "    \n",
    "    def __add__(self,other):\n",
    "        if isinstance(other, Polygon):\n",
    "            new_pts = self._pts + other._pts\n",
    "            return Polygon(*new_pts)\n",
    "        else:\n",
    "            raise TypeError('can only concatenate with another Polygon')\n",
    "\n",
    "    def append(self, pt):\n",
    "        self._pts.append(Point(*pt))\n",
    "    \n",
    "    def insert(self, i, pt):\n",
    "        self._pts.insert(i, Point(*pt))\n",
    "    \n",
    "    def extend(self, pts):\n",
    "        if isinstance(pts, Polygon):\n",
    "            self._pts += pts._pts\n",
    "        else:\n",
    "            points = [Point(*pt) for pt in pts]\n",
    "            self._pts += points\n",
    "\n",
    "    def __iadd__(self,other):\n",
    "        self.extend(other)\n",
    "        return self\n",
    "\n",
    "p1 = Point(10, 2.5)\n",
    "print(p1)\n",
    "x,y = p1\n",
    "print(x)\n",
    "print(y)\n",
    "p2 = Point(*p1)\n",
    "print(p2)\n",
    "\n",
    "plg0 = Polygon((0,0), Point(1,1))\n",
    "print(plg0)\n",
    "plg1 = Polygon(Point(x=0,y=0), Point(x=1,y=1))\n",
    "print(plg1[0])\n",
    "print(plg1[:2])\n",
    "print(plg1[::-1])\n",
    "plg2 = plg0 + plg1\n",
    "print(plg2)\n",
    "print(hex(id(plg0)))\n",
    "print(hex(id(plg1)))\n",
    "print(hex(id(plg2)))\n",
    "plg0+=plg1\n",
    "print(plg0)\n",
    "print(hex(id(plg0)))\n",
    "print(plg1)\n",
    "print(hex(id(plg1)))\n",
    "plg1+=[(2,2), (3,3), Point(4,4)]\n",
    "plg1.append([10,10])\n",
    "plg1.insert(1,[-1,-1])\n",
    "plg1.insert(2,Point(-3,-2))\n",
    "plg1.extend(plg0)\n",
    "print(plg1)\n",
    "print(hex(id(plg1)))\n",
    "plg1[0] = Point(11,11)\n",
    "plg1[1] = (-2,-4)\n",
    "print(plg1)\n",
    "print(hex(id(plg1)))\n"
   ]
  },
  {
   "source": [
    "# Sorting Sequence"
   ],
   "cell_type": "markdown",
   "metadata": {}
  },
  {
   "cell_type": "code",
   "execution_count": 8,
   "metadata": {},
   "outputs": [
    {
     "output_type": "stream",
     "name": "stdout",
     "text": [
      "['asdf', 'bxs', 'a']\n['asdf', 'bxs', 'a']\n"
     ]
    }
   ],
   "source": [
    "def sort_key(s):\n",
    "    return len(s)\n",
    "\n",
    "t = ['a','asdf','bxs']\n",
    "print(sorted(t,key=sort_key,reverse=True))\n",
    "print(sorted(t,key=lambda s: len(s),reverse=True))"
   ]
  },
  {
   "cell_type": "code",
   "execution_count": 9,
   "metadata": {},
   "outputs": [
    {
     "output_type": "stream",
     "name": "stdout",
     "text": [
      "[MyClass(c2, 10), MyClass(c1, 20), MyClass(c3, 30), MyClass(c4, 50)]\n"
     ]
    }
   ],
   "source": [
    "class MyClass:\n",
    "    def __init__(self,name,val):\n",
    "        self.name = name\n",
    "        self.val = val\n",
    "    def __repr__(self):\n",
    "        return f'MyClass({self.name}, {self.val})'\n",
    "    def __lt__(self,other):\n",
    "        return self.val < other.val\n",
    "\n",
    "c1=MyClass('c1',20)\n",
    "c2=MyClass('c2',10)\n",
    "c3=MyClass('c3',30)\n",
    "c4=MyClass('c4',50)\n",
    "\n",
    "print(sorted([c1,c2,c3,c4]))"
   ]
  },
  {
   "source": [
    "# list comprehension: transformation iteration filtering"
   ],
   "cell_type": "markdown",
   "metadata": {}
  },
  {
   "cell_type": "code",
   "execution_count": 12,
   "metadata": {},
   "outputs": [
    {
     "output_type": "stream",
     "name": "stdout",
     "text": [
      "[1, 9, 25, 49, 81, 121, 169, 225, 289, 361, 441, 529, 625, 729, 841, 961, 1089, 1225, 1369, 1521, 1681, 1849, 2025, 2209, 2401, 2601, 2809, 3025, 3249, 3481, 3721, 3969, 4225, 4489, 4761, 5041, 5329, 5625, 5929, 6241, 6561, 6889, 7225, 7569, 7921, 8281, 8649, 9025, 9409, 9801]\n"
     ]
    }
   ],
   "source": [
    "odd_square = [i**2 for i in range(101) if i%2]\n",
    "print(odd_square)"
   ]
  },
  {
   "source": [
    "## comprehesion internals: they have their own local scope just like a function\n"
   ],
   "cell_type": "markdown",
   "metadata": {}
  },
  {
   "cell_type": "code",
   "execution_count": null,
   "metadata": {},
   "outputs": [],
   "source": []
  },
  {
   "cell_type": "code",
   "execution_count": 20,
   "metadata": {},
   "outputs": [
    {
     "output_type": "stream",
     "name": "stdout",
     "text": [
      "[0, 1, 4, 9, 16, 25, 36, 49, 64, 81]\n[0, 1, 4, 9, 16, 25, 36, 49, 64, 81]\n"
     ]
    }
   ],
   "source": [
    "def comprehension():\n",
    "    new_list = []\n",
    "    for i in range(10):\n",
    "        new_list.append(i**2)\n",
    "    return new_list\n",
    "\n",
    "list_compreh = [i**2 for i in range(10)]\n",
    "sq = comprehension()\n",
    "print(list_compreh)\n",
    "print(sq)"
   ]
  },
  {
   "source": [
    "# Nested Comprehension: work as a closure function"
   ],
   "cell_type": "markdown",
   "metadata": {}
  },
  {
   "cell_type": "code",
   "execution_count": 22,
   "metadata": {},
   "outputs": [
    {
     "output_type": "stream",
     "name": "stdout",
     "text": [
      "[[0, 0, 0, 0, 0], [0, 1, 2, 3, 4], [0, 2, 4, 6, 8], [0, 3, 6, 9, 12], [0, 4, 8, 12, 16]]\n"
     ]
    }
   ],
   "source": [
    "lst = [[i*j for j in range(5)] for i in range(5)]\n",
    "print(lst)"
   ]
  },
  {
   "cell_type": "code",
   "execution_count": 7,
   "metadata": {},
   "outputs": [
    {
     "output_type": "stream",
     "name": "stdout",
     "text": [
      "[(1, 1), (1, 3), (1, 5), (1, 7), (1, 9), (3, 1), (3, 3), (3, 5), (3, 7), (3, 9), (5, 1), (5, 3), (5, 5), (5, 7), (5, 9), (7, 1), (7, 3), (7, 5), (7, 7), (7, 9), (9, 1), (9, 3), (9, 5), (9, 7), (9, 9)]\n-------------------------------------------------\n\n[(1, 1), (1, 3), (1, 5), (1, 7), (1, 9), (3, 1), (3, 3), (3, 5), (3, 7), (3, 9), (5, 1), (5, 3), (5, 5), (5, 7), (5, 9), (7, 1), (7, 3), (7, 5), (7, 7), (7, 9), (9, 1), (9, 3), (9, 5), (9, 7), (9, 9)]\n"
     ]
    }
   ],
   "source": [
    "def nested_comp():\n",
    "    l=[]\n",
    "    for i in range(10):\n",
    "        if i%2:\n",
    "            for j in range(10):\n",
    "                if j%2:\n",
    "                    l.append((i,j))\n",
    "    return l\n",
    "\n",
    "lst = nested_comp()\n",
    "print(lst)\n",
    "print('-------------------------------------------------\\n')\n",
    "l = [(i,j) \n",
    "    for i in range(10) if i%2 \n",
    "    for j in range(10) if j%2]\n",
    "print(l)"
   ]
  }
 ]
}