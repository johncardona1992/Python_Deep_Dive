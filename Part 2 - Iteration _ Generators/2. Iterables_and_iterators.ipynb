{
 "metadata": {
  "language_info": {
   "codemirror_mode": {
    "name": "ipython",
    "version": 3
   },
   "file_extension": ".py",
   "mimetype": "text/x-python",
   "name": "python",
   "nbconvert_exporter": "python",
   "pygments_lexer": "ipython3",
   "version": "3.7.8"
  },
  "orig_nbformat": 2,
  "kernelspec": {
   "name": "python378jvsc74a57bd057ab78e5cbccfb7d81052ee73eb1fa5d31916b2ddf92535c2cf1f81bb2af6d2a",
   "display_name": "Python 3.7.8 64-bit ('computerscience': conda)"
  }
 },
 "nbformat": 4,
 "nbformat_minor": 2,
 "cells": [
  {
   "source": [
    "# Iterables and Iterators"
   ],
   "cell_type": "markdown",
   "metadata": {}
  },
  {
   "source": [
    "## iterating collections: drawbacks \n",
    "* can't be used on for loops \n",
    "* get exhausted once it's used"
   ],
   "cell_type": "markdown",
   "metadata": {}
  },
  {
   "cell_type": "code",
   "execution_count": 6,
   "metadata": {},
   "outputs": [
    {
     "output_type": "stream",
     "name": "stdout",
     "text": [
      "2\n5\n4\n9\n5\n6\n"
     ]
    }
   ],
   "source": [
    "import random\n",
    "class RandomNumbers:\n",
    "    def __init__(self,length,*,range_min=0,range_max=10):\n",
    "        self.length = length\n",
    "        self.range_min = range_min\n",
    "        self.range_max = range_max\n",
    "        self.num_requested = 0\n",
    "    def __len__(self):\n",
    "        return self.length\n",
    "    def __next__(self):\n",
    "        if self.num_requested >= self.length:/\n",
    "            raise StopIteration\n",
    "        else:\n",
    "            self.num_requested+=1\n",
    "            return random.randint(self.range_min, self.range_max)\n",
    "\n",
    "numbers = RandomNumbers(6)\n",
    "while True:\n",
    "    try:\n",
    "        print(next(numbers))\n",
    "    except StopIteration:\n",
    "        break"
   ]
  },
  {
   "source": [
    "# Iterators\n",
    "## The iterator Protocol"
   ],
   "cell_type": "markdown",
   "metadata": {}
  },
  {
   "cell_type": "code",
   "execution_count": 14,
   "metadata": {},
   "outputs": [
    {
     "output_type": "stream",
     "name": "stdout",
     "text": [
      "0\n1\n4\n9\n16\n-------------------\n0\n1\n4\n9\n16\n"
     ]
    }
   ],
   "source": [
    "class Squares:\n",
    "    def __init__(self, length):\n",
    "        self.i = 0\n",
    "        self.length = length\n",
    "    def __next__(self):\n",
    "        if self.i >= self.length:\n",
    "            raise StopIteration\n",
    "        else:\n",
    "            result = self.i**2\n",
    "            self.i += 1\n",
    "            return result\n",
    "    def __iter__(self):\n",
    "        return self\n",
    "\n",
    "sq = Squares(5)\n",
    "for item in sq:\n",
    "    print (item)\n",
    "\n",
    "print(\"-------------------\")\n",
    "# create a new objet for iterate again\n",
    "sq2 = Squares(5)\n",
    "for item in sq2:\n",
    "    print (item)"
   ]
  },
  {
   "source": [
    "# separating the collection from the iterator\n",
    "* the collection is iterable (iterable is created once)\n",
    "* the iterator is responsable for iterating over the collection (iterator is created every time)"
   ],
   "cell_type": "markdown",
   "metadata": {}
  },
  {
   "cell_type": "code",
   "execution_count": 25,
   "metadata": {},
   "outputs": [
    {
     "output_type": "stream",
     "name": "stdout",
     "text": [
      "getting item...\nbgt\nCities __iter__ called\nCityIterator new object!\nCityIterator __next__ called!\nbgt\nCityIterator __next__ called!\nmed\nCityIterator __next__ called!\ncal\nCityIterator __next__ called!\n"
     ]
    }
   ],
   "source": [
    "class Cities:\n",
    "    def __init__(self):\n",
    "        self._cities = ['bgt', 'med','cal']\n",
    "        self._index = 0\n",
    "\n",
    "    def __len__(self):\n",
    "        return len(self._cities)\n",
    "\n",
    "    def __iter__(self):\n",
    "        print('Cities __iter__ called')\n",
    "        return self.CityIterator(self)\n",
    "\n",
    "    def __getitem__(self,s):\n",
    "        print('getting item...')\n",
    "        return self._cities[s] \n",
    "\n",
    "    class CityIterator:\n",
    "        def __init__(self,city_obj):\n",
    "            print('CityIterator new object!')\n",
    "            self._city_obj = city_obj\n",
    "            self._index = 0\n",
    "\n",
    "        def __iter__(self):\n",
    "            print('CityIterator __iter__ called!')\n",
    "            return self\n",
    "\n",
    "        def __next__(self):\n",
    "            print('CityIterator __next__ called!')\n",
    "            if self._index >= len(self._city_obj):\n",
    "                raise StopIteration\n",
    "            else:\n",
    "                item = self._city_obj._cities[self._index]\n",
    "                self._index+=1\n",
    "                return item\n",
    "\n",
    "\n",
    "cities = Cities()\n",
    "print(cities[0])\n",
    "for city in cities:\n",
    "    print(city)"
   ]
  },
  {
   "source": [
    "# cyclic Iterators\n",
    "* seq1: 1 2 3 4 5 6 7 8 9 ...\n",
    "* seq2: N S W E\n",
    "* result: 1N 2S 3W 4E 5N 6S 7W 8E"
   ],
   "cell_type": "markdown",
   "metadata": {}
  },
  {
   "cell_type": "code",
   "execution_count": 33,
   "metadata": {},
   "outputs": [
    {
     "output_type": "stream",
     "name": "stdout",
     "text": [
      "['1N', '2S', '3W', '4E', '5N', '6S', '7W', '8E', '9N', '10S']\n------------------------------------\n\n['1N', '2S', '3W', '4E', '5N', '6S', '7W', '8E', '9N', '10S']\n"
     ]
    }
   ],
   "source": [
    "class CyclicIterator:\n",
    "    def __init__(self,lst):\n",
    "        self.lst = lst\n",
    "        self.i = 0\n",
    "    \n",
    "    def __iter__(self):\n",
    "        return self\n",
    "\n",
    "    def __next__(self):\n",
    "        result = self.lst[self.i%len(self.lst)] \n",
    "        self.i+=1\n",
    "        return result\n",
    "iter_cycl = CyclicIterator('NSWE')\n",
    "n=10\n",
    "items = [str(i) + next(iter_cycl) for i in range(1,n+1)]\n",
    "print(items)\n",
    "\n",
    "print('------------------------------------\\n')\n",
    "iter_cycl = CyclicIterator('NSWE')\n",
    "n=10\n",
    "items = [str(number) + direction for number, direction in zip(range(1,n+1), iter_cycl)]\n",
    "print(items)"
   ]
  },
  {
   "cell_type": "code",
   "execution_count": 36,
   "metadata": {},
   "outputs": [
    {
     "output_type": "stream",
     "name": "stdout",
     "text": [
      "['1N', '2S', '3W', '4E', '5N', '6S', '7W', '8E', '9N', '10S']\n\n\nHelp on class cycle in module itertools:\n\nclass cycle(builtins.object)\n |  cycle(iterable) --> cycle object\n |  \n |  Return elements from the iterable until it is exhausted.\n |  Then repeat the sequence indefinitely.\n |  \n |  Methods defined here:\n |  \n |  __getattribute__(self, name, /)\n |      Return getattr(self, name).\n |  \n |  __iter__(self, /)\n |      Implement iter(self).\n |  \n |  __next__(self, /)\n |      Implement next(self).\n |  \n |  __reduce__(...)\n |      Return state information for pickling.\n |  \n |  __setstate__(...)\n |      Set state information for unpickling.\n |  \n |  ----------------------------------------------------------------------\n |  Static methods defined here:\n |  \n |  __new__(*args, **kwargs) from builtins.type\n |      Create and return a new object.  See help(type) for accurate signature.\n\n"
     ]
    }
   ],
   "source": [
    "import itertools\n",
    "n=10 \n",
    "iter_cycl = itertools.cycle('NSWE')\n",
    "items = ['{0}{1}'.format(i, next(iter_cycl)) for i in range(1,n+1)]\n",
    "print(items)\n",
    "print(\"\\n\")\n",
    "help(itertools.cycle)"
   ]
  },
  {
   "source": [
    "# lazy Iterables"
   ],
   "cell_type": "markdown",
   "metadata": {}
  },
  {
   "cell_type": "code",
   "execution_count": 42,
   "metadata": {},
   "outputs": [
    {
     "output_type": "execute_result",
     "data": {
      "text/plain": [
       "[1, 1, 2, 6, 24]"
      ]
     },
     "metadata": {},
     "execution_count": 42
    }
   ],
   "source": [
    "import math\n",
    "class Factorials:\n",
    "    # iterable bigin\n",
    "    def __init__(self, length):\n",
    "        self.length = length\n",
    "\n",
    "    def __iter__(self):\n",
    "        return self.FactIter(self.length)\n",
    "\n",
    "    class FactIter:\n",
    "        # iterator begin\n",
    "        def __init__(self,length):\n",
    "            self.length = length\n",
    "            self.i = 0\n",
    "\n",
    "        def __iter__(self):\n",
    "            return self\n",
    "\n",
    "        def __next__(self):\n",
    "            if self.i >= self.length:\n",
    "                raise StopIteration\n",
    "            else:\n",
    "                result = math.factorial(self.i)\n",
    "                self.i+=1\n",
    "                return result\n",
    "\n",
    "facts = Factorials(5)\n",
    "list(facts)\n"
   ]
  },
  {
   "source": [
    "# Sorting Iterables"
   ],
   "cell_type": "markdown",
   "metadata": {}
  },
  {
   "cell_type": "code",
   "execution_count": 47,
   "metadata": {},
   "outputs": [
    {
     "output_type": "stream",
     "name": "stdout",
     "text": [
      "6\n6\n0\n4\n8\n7\n6\n4\n7\n5\n\n\n6\n6\n0\n4\n8\n7\n6\n4\n7\n5\n\n\n[0, 4, 4, 5, 6, 6, 6, 7, 7, 8]\n"
     ]
    }
   ],
   "source": [
    "import random\n",
    "class RandomInts:\n",
    "    def __init__(self,length,*,seed=0,lower=0,upper=10):\n",
    "            self.length = length\n",
    "            self.seed = seed\n",
    "            self.lower = lower\n",
    "            self.upper = upper\n",
    "\n",
    "    def __len__(self):\n",
    "        return self.length\n",
    "\n",
    "    def __iter__(self):\n",
    "        return self.RandomIterator(self.length,seed=self.seed,lower=self.lower,upper=self.upper)\n",
    "    class RandomIterator:\n",
    "        def __init__(self,length,*,seed,lower,upper):\n",
    "            self.length = length\n",
    "            self.lower = lower\n",
    "            self.upper = upper\n",
    "            self.num_requests = 0\n",
    "            random.seed(seed)\n",
    "\n",
    "        def __iter__(self):\n",
    "            return self\n",
    "        def __next__(self):\n",
    "            if self.num_requests >= self.length:\n",
    "                raise StopIteration\n",
    "            else:\n",
    "                result = random.randint(self.lower, self.upper)\n",
    "                self.num_requests += 1\n",
    "                return result\n",
    "\n",
    "randoms = RandomInts(10)\n",
    "for num in randoms:\n",
    "    print(num)\n",
    "print('\\n')\n",
    "for num in randoms:\n",
    "    print(num)\n",
    "print('\\n')\n",
    "print(sorted(randoms))"
   ]
  },
  {
   "source": [
    "# iterating callables"
   ],
   "cell_type": "markdown",
   "metadata": {}
  },
  {
   "cell_type": "code",
   "execution_count": 54,
   "metadata": {},
   "outputs": [
    {
     "output_type": "stream",
     "name": "stdout",
     "text": [
      "6\n6\n0\n4\n--------------------\n\n<callable_iterator object at 0x00000228A4A91E88>\n9\n8\n7\n6\n5\n4\n3\n2\n1\n0\n"
     ]
    }
   ],
   "source": [
    "# iter(callable, sentinel)\n",
    "import random\n",
    "random_iter = iter(lambda : random.randint(0,10), 8)\n",
    "random.seed(0)\n",
    "for num in random_iter:\n",
    "    print(num)\n",
    "# stops when callable returns a value equal to the sentinel value\n",
    "print('--------------------\\n')\n",
    "def countdown(start=10):\n",
    "    def run():\n",
    "        nonlocal start\n",
    "        start-=1\n",
    "        return start\n",
    "    return run\n",
    "\n",
    "takeoff = countdown(10)\n",
    "takeoff_iter = iter(takeoff,-1)\n",
    "print(takeoff_iter)\n",
    "for num in takeoff_iter:\n",
    "    print(num)"
   ]
  },
  {
   "source": [
    "# reversed iteration\n",
    "efficient way and alernative to ::-1"
   ],
   "cell_type": "markdown",
   "metadata": {}
  },
  {
   "cell_type": "code",
   "execution_count": 58,
   "metadata": {},
   "outputs": [
    {
     "output_type": "stream",
     "name": "stdout",
     "text": [
      "5\n4\n2\n1\n\n\n5\n4\n2\n1\n"
     ]
    }
   ],
   "source": [
    "lst = [1,2,4,5]\n",
    "# inefficient way\n",
    "for i in lst[::-1]:\n",
    "    print (i)\n",
    "print('\\n')\n",
    "# efficient way\n",
    "for i in reversed(lst):\n",
    "    print (i)"
   ]
  },
  {
   "cell_type": "code",
   "execution_count": 77,
   "metadata": {},
   "outputs": [
    {
     "output_type": "stream",
     "name": "stdout",
     "text": [
      "Card(rank=2, suit='Spades')\nCard(rank=3, suit='Spades')\nCard(rank=4, suit='Spades')\nCard(rank=5, suit='Spades')\nCard(rank=6, suit='Spades')\nCard(rank=7, suit='Spades')\nCard(rank=8, suit='Spades')\nCard(rank=9, suit='Spades')\nCard(rank=10, suit='Spades')\nCard(rank='J', suit='Spades')\nCard(rank='Q', suit='Spades')\nCard(rank='K', suit='Spades')\nCard(rank='A', suit='Spades')\nCard(rank=2, suit='Hearts')\nCard(rank=3, suit='Hearts')\nCard(rank=4, suit='Hearts')\nCard(rank=5, suit='Hearts')\nCard(rank=6, suit='Hearts')\nCard(rank=7, suit='Hearts')\nCard(rank=8, suit='Hearts')\nCard(rank=9, suit='Hearts')\nCard(rank=10, suit='Hearts')\nCard(rank='J', suit='Hearts')\nCard(rank='Q', suit='Hearts')\nCard(rank='K', suit='Hearts')\nCard(rank='A', suit='Hearts')\nCard(rank=2, suit='Diamonds')\nCard(rank=3, suit='Diamonds')\nCard(rank=4, suit='Diamonds')\nCard(rank=5, suit='Diamonds')\nCard(rank=6, suit='Diamonds')\nCard(rank=7, suit='Diamonds')\nCard(rank=8, suit='Diamonds')\nCard(rank=9, suit='Diamonds')\nCard(rank=10, suit='Diamonds')\nCard(rank='J', suit='Diamonds')\nCard(rank='Q', suit='Diamonds')\nCard(rank='K', suit='Diamonds')\nCard(rank='A', suit='Diamonds')\nCard(rank=2, suit='Clubs')\nCard(rank=3, suit='Clubs')\nCard(rank=4, suit='Clubs')\nCard(rank=5, suit='Clubs')\nCard(rank=6, suit='Clubs')\nCard(rank=7, suit='Clubs')\nCard(rank=8, suit='Clubs')\nCard(rank=9, suit='Clubs')\nCard(rank=10, suit='Clubs')\nCard(rank='J', suit='Clubs')\nCard(rank='Q', suit='Clubs')\nCard(rank='K', suit='Clubs')\nCard(rank='A', suit='Clubs')\n----------------------\n\nreversed was called!\nCard(rank='A', suit='Clubs')\nCard(rank='K', suit='Clubs')\nCard(rank='Q', suit='Clubs')\nCard(rank='J', suit='Clubs')\nCard(rank=10, suit='Clubs')\nCard(rank=9, suit='Clubs')\nCard(rank=8, suit='Clubs')\nCard(rank=7, suit='Clubs')\nCard(rank=6, suit='Clubs')\nCard(rank=5, suit='Clubs')\nCard(rank=4, suit='Clubs')\nCard(rank=3, suit='Clubs')\nCard(rank=2, suit='Clubs')\nCard(rank='A', suit='Diamonds')\nCard(rank='K', suit='Diamonds')\nCard(rank='Q', suit='Diamonds')\nCard(rank='J', suit='Diamonds')\nCard(rank=10, suit='Diamonds')\nCard(rank=9, suit='Diamonds')\nCard(rank=8, suit='Diamonds')\nCard(rank=7, suit='Diamonds')\nCard(rank=6, suit='Diamonds')\nCard(rank=5, suit='Diamonds')\nCard(rank=4, suit='Diamonds')\nCard(rank=3, suit='Diamonds')\nCard(rank=2, suit='Diamonds')\nCard(rank='A', suit='Hearts')\nCard(rank='K', suit='Hearts')\nCard(rank='Q', suit='Hearts')\nCard(rank='J', suit='Hearts')\nCard(rank=10, suit='Hearts')\nCard(rank=9, suit='Hearts')\nCard(rank=8, suit='Hearts')\nCard(rank=7, suit='Hearts')\nCard(rank=6, suit='Hearts')\nCard(rank=5, suit='Hearts')\nCard(rank=4, suit='Hearts')\nCard(rank=3, suit='Hearts')\nCard(rank=2, suit='Hearts')\nCard(rank='A', suit='Spades')\nCard(rank='K', suit='Spades')\nCard(rank='Q', suit='Spades')\nCard(rank='J', suit='Spades')\nCard(rank=10, suit='Spades')\nCard(rank=9, suit='Spades')\nCard(rank=8, suit='Spades')\nCard(rank=7, suit='Spades')\nCard(rank=6, suit='Spades')\nCard(rank=5, suit='Spades')\nCard(rank=4, suit='Spades')\nCard(rank=3, suit='Spades')\nCard(rank=2, suit='Spades')\n"
     ]
    }
   ],
   "source": [
    "from collections import namedtuple\n",
    "_SUITS = ('Spades', 'Hearts', 'Diamonds', 'Clubs')\n",
    "_RANKS = tuple(range(2,11))+tuple('JQKA')\n",
    "Card = namedtuple('Card', 'rank suit')\n",
    "\n",
    "class CardDeck:\n",
    "    def __init__(self):\n",
    "        self.length = len(_SUITS)*len(_RANKS)\n",
    "    \n",
    "    def __len__(self):\n",
    "        return self.length\n",
    "    \n",
    "    def __iter__(self):\n",
    "        return self.CardDeckIterator(self.length)\n",
    "\n",
    "    def __reversed__(self):\n",
    "        print('reversed was called!')\n",
    "        return self.CardDeckIterator(self.length, reverse=True)\n",
    "\n",
    "    class CardDeckIterator:\n",
    "        def __init__(self, length, reverse=False):\n",
    "            self.length = length\n",
    "            self.reverse = reverse\n",
    "            self.i = 0\n",
    "        \n",
    "        def __iter__(self):\n",
    "            return self\n",
    "\n",
    "        def __next__(self):\n",
    "            if self.i >= self.length:\n",
    "                raise StopIteration\n",
    "            else:\n",
    "                if self.reverse:\n",
    "                    index = self.length-1-self.i\n",
    "                else:\n",
    "                    index = self.i\n",
    "                suit = _SUITS[index // len(_RANKS)]\n",
    "                rank = _RANKS[index % len(_RANKS)]\n",
    "                self.i += 1\n",
    "                return Card(rank, suit)\n",
    "\n",
    "\n",
    "deck = CardDeck()\n",
    "for card in deck:\n",
    "    print(card)\n",
    "print('----------------------\\n')\n",
    "reversed_deck = reversed(CardDeck())\n",
    "for card in reversed_deck:\n",
    "    print(card)"
   ]
  },
  {
   "cell_type": "code",
   "execution_count": null,
   "metadata": {},
   "outputs": [],
   "source": []
  }
 ]
}